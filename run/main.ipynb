{
 "cells": [
  {
   "cell_type": "markdown",
   "id": "feef3a9a-fb40-4827-8ee8-8daae9c8a6ed",
   "metadata": {
    "tags": []
   },
   "source": [
    "# take2\n",
    "\n",
    "**GOAL**: Keep It Stupid Simple = KISS.\n",
    "\n",
    "**Dependencies:**\n",
    " - [pocketknives](https://github.com/zjwilliams20/pocketknives)\n",
    "\n",
    "**References:**\n",
    " 1. [ilqgames/python](https://github.com/HJReachability/ilqgames/blob/master/python)"
   ]
  },
  {
   "cell_type": "code",
   "execution_count": 1,
   "id": "5af0f28d-2b3f-4be6-93b8-8952dfe73058",
   "metadata": {},
   "outputs": [],
   "source": [
    "from time import perf_counter as pc\n",
    "import warnings\n",
    "\n",
    "import numpy as np\n",
    "import matplotlib.pyplot as plt\n",
    "from matplotlib.animation import FuncAnimation\n",
    "\n",
    "from decentralized import split_agents, plot_solve\n",
    "import decentralized as dec\n",
    "import pocketknives\n",
    "\n",
    "π = np.pi\n",
    "g = 9.80665"
   ]
  },
  {
   "cell_type": "raw",
   "id": "68d2062d-2c47-4ba0-854c-ffa99e5188bd",
   "metadata": {},
   "source": [
    "%load_ext autoreload\n",
    "%autoreload 1\n",
    "%aimport decentralized.control, decentralized.dynamics, decentralized.cost, \\\n",
    "    decentralized.problem, decentralized.util, decentralized.decentralized"
   ]
  },
  {
   "cell_type": "code",
   "execution_count": null,
   "id": "f00b729e-d372-462c-be1f-b0f0068c12de",
   "metadata": {},
   "outputs": [],
   "source": [
    "%matplotlib ipympl\n",
    "plt.rcParams.update({\n",
    "    \"axes.grid\": False,\n",
    "    \"figure.constrained_layout.use\": True,\n",
    "    \"text.usetex\": True,\n",
    "    \"font.family\": \"serif\",\n",
    "    \"font.serif\": [\"Palatino\"],\n",
    "    \"ps.distiller.res\": 8000,\n",
    "})"
   ]
  },
  {
   "cell_type": "code",
   "execution_count": 5,
   "id": "5caba289-740d-46cf-aba0-faa5b1a915cd",
   "metadata": {
    "tags": []
   },
   "outputs": [
    {
     "data": {
      "application/vnd.jupyter.widget-view+json": {
       "model_id": "52c937df08fc41b4a571689d06c94724",
       "version_major": 2,
       "version_minor": 0
      },
      "image/png": "[encoded data removed]",
      "text/html": [
       "\n",
       "            <div style=\"display: inline-block;\">\n",
       "                <div class=\"jupyter-widgets widget-label\" style=\"text-align: center;\">\n",
       "                    Figure\n",
       "                </div>\n",
       "                <img src='data:image/png;base64,iVBORw0KGgoAAAANSUhEUgAAAoAAAAHgCAYAAAA10dzkAAAAOXRFWHRTb2Z0d2FyZQBNYXRwbG90bGliIHZlcnNpb24zLjUuMSwgaHR0cHM6Ly9tYXRwbG90bGliLm9yZy/YYfK9AAAACXBIWXMAAA9hAAAPYQGoP6dpAAAIyUlEQVR4nO3WMQEAIAzAMMC/5+ECjiYKenbPzCwAADLO7wAAAN4ygAAAMQYQACDGAAIAxBhAAIAYAwgAEGMAAQBiDCAAQIwBBACIMYAAADEGEAAgxgACAMQYQACAGAMIABBjAAEAYgwgAECMAQQAiDGAAAAxBhAAIMYAAgDEGEAAgBgDCAAQYwABAGIMIABAjAEEAIgxgAAAMQYQACDGAAIAxBhAAIAYAwgAEGMAAQBiDCAAQIwBBACIMYAAADEGEAAgxgACAMQYQACAGAMIABBjAAEAYgwgAECMAQQAiDGAAAAxBhAAIMYAAgDEGEAAgBgDCAAQYwABAGIMIABAjAEEAIgxgAAAMQYQACDGAAIAxBhAAIAYAwgAEGMAAQBiDCAAQIwBBACIMYAAADEGEAAgxgACAMQYQACAGAMIABBjAAEAYgwgAECMAQQAiDGAAAAxBhAAIMYAAgDEGEAAgBgDCAAQYwABAGIMIABAjAEEAIgxgAAAMQYQACDGAAIAxBhAAIAYAwgAEGMAAQBiDCAAQIwBBACIMYAAADEGEAAgxgACAMQYQACAGAMIABBjAAEAYgwgAECMAQQAiDGAAAAxBhAAIMYAAgDEGEAAgBgDCAAQYwABAGIMIABAjAEEAIgxgAAAMQYQACDGAAIAxBhAAIAYAwgAEGMAAQBiDCAAQIwBBACIMYAAADEGEAAgxgACAMQYQACAGAMIABBjAAEAYgwgAECMAQQAiDGAAAAxBhAAIMYAAgDEGEAAgBgDCAAQYwABAGIMIABAjAEEAIgxgAAAMQYQACDGAAIAxBhAAIAYAwgAEGMAAQBiDCAAQIwBBACIMYAAADEGEAAgxgACAMQYQACAGAMIABBjAAEAYgwgAECMAQQAiDGAAAAxBhAAIMYAAgDEGEAAgBgDCAAQYwABAGIMIABAjAEEAIgxgAAAMQYQACDGAAIAxBhAAIAYAwgAEGMAAQBiDCAAQIwBBACIMYAAADEGEAAgxgACAMQYQACAGAMIABBjAAEAYgwgAECMAQQAiDGAAAAxBhAAIMYAAgDEGEAAgBgDCAAQYwABAGIMIABAjAEEAIgxgAAAMQYQACDGAAIAxBhAAIAYAwgAEGMAAQBiDCAAQIwBBACIMYAAADEGEAAgxgACAMQYQACAGAMIABBjAAEAYgwgAECMAQQAiDGAAAAxBhAAIMYAAgDEGEAAgBgDCAAQYwABAGIMIABAjAEEAIgxgAAAMQYQACDGAAIAxBhAAIAYAwgAEGMAAQBiDCAAQIwBBACIMYAAADEGEAAgxgACAMQYQACAGAMIABBjAAEAYgwgAECMAQQAiDGAAAAxBhAAIMYAAgDEGEAAgBgDCAAQYwABAGIMIABAjAEEAIgxgAAAMQYQACDGAAIAxBhAAIAYAwgAEGMAAQBiDCAAQIwBBACIMYAAADEGEAAgxgACAMQYQACAGAMIABBjAAEAYgwgAECMAQQAiDGAAAAxBhAAIMYAAgDEGEAAgBgDCAAQYwABAGIMIABAjAEEAIgxgAAAMQYQACDGAAIAxBhAAIAYAwgAEGMAAQBiDCAAQIwBBACIMYAAADEGEAAgxgACAMQYQACAGAMIABBjAAEAYgwgAECMAQQAiDGAAAAxBhAAIMYAAgDEGEAAgBgDCAAQYwABAGIMIABAjAEEAIgxgAAAMQYQACDGAAIAxBhAAIAYAwgAEGMAAQBiDCAAQIwBBACIMYAAADEGEAAgxgACAMQYQACAGAMIABBjAAEAYgwgAECMAQQAiDGAAAAxBhAAIMYAAgDEGEAAgBgDCAAQYwABAGIMIABAjAEEAIgxgAAAMQYQACDGAAIAxBhAAIAYAwgAEGMAAQBiDCAAQIwBBACIMYAAADEGEAAgxgACAMQYQACAGAMIABBjAAEAYgwgAECMAQQAiDGAAAAxBhAAIMYAAgDEGEAAgBgDCAAQYwABAGIMIABAjAEEAIgxgAAAMQYQACDGAAIAxBhAAIAYAwgAEGMAAQBiDCAAQIwBBACIMYAAADEGEAAgxgACAMQYQACAGAMIABBjAAEAYgwgAECMAQQAiDGAAAAxBhAAIMYAAgDEGEAAgBgDCAAQYwABAGIMIABAjAEEAIgxgAAAMQYQACDGAAIAxBhAAIAYAwgAEGMAAQBiDCAAQIwBBACIMYAAADEGEAAgxgACAMQYQACAGAMIABBjAAEAYgwgAECMAQQAiDGAAAAxBhAAIMYAAgDEGEAAgBgDCAAQYwABAGIMIABAjAEEAIgxgAAAMQYQACDGAAIAxBhAAIAYAwgAEGMAAQBiDCAAQIwBBACIMYAAADEGEAAgxgACAMQYQACAGAMIABBjAAEAYgwgAECMAQQAiDGAAAAxBhAAIMYAAgDEGEAAgBgDCAAQYwABAGIMIABAjAEEAIgxgAAAMQYQACDGAAIAxBhAAIAYAwgAEGMAAQBiDCAAQIwBBACIMYAAADEGEAAgxgACAMQYQACAGAMIABBjAAEAYgwgAECMAQQAiDGAAAAxBhAAIMYAAgDEGEAAgBgDCAAQYwABAGIMIABAjAEEAIgxgAAAMQYQACDGAAIAxBhAAIAYAwgAEGMAAQBiDCAAQIwBBACIMYAAADEGEAAgxgACAMQYQACAGAMIABBjAAEAYgwgAECMAQQAiDGAAAAxBhAAIMYAAgDEGEAAgBgDCAAQYwABAGIMIABAjAEEAIgxgAAAMQYQACDGAAIAxBhAAIAYAwgAEGMAAQBiDCAAQIwBBACIMYAAADEGEAAgxgACAMQYQACAGAMIABBjAAEAYgwgAECMAQQAiDGAAAAxBhAAIMYAAgDEGEAAgBgDCAAQYwABAGIMIABAjAEEAIgxgAAAMQYQACDGAAIAxBhAAIAYAwgAEGMAAQBiDCAAQIwBBACIMYAAADEGEAAgxgACAMQYQACAGAMIABBjAAEAYgwgAECMAQQAiDGAAAAxBhAAIMYAAgDEGEAAgBgDCAAQYwABAGIuJnkHvKensmIAAAAASUVORK5CYII=' width=640.0/>\n",
       "            </div>\n",
       "        "
      ],
      "text/plain": [
       "Canvas(toolbar=Toolbar(toolitems=[('Home', 'Reset original view', 'home', 'home'), ('Back', 'Back to previous …"
      ]
     },
     "metadata": {},
     "output_type": "display_data"
    }
   ],
   "source": [
    "# fig = plt.figure(figsize=(3.7, 3.7))\n",
    "fig = plt.figure(facecolor=\"k\")"
   ]
  },
  {
   "cell_type": "markdown",
   "id": "b4e6bfed-7dbc-489d-ac20-66c1e4a1a25a",
   "metadata": {
    "tags": []
   },
   "source": [
    "## single-agent problem"
   ]
  },
  {
   "cell_type": "code",
   "execution_count": 38,
   "id": "6dff7c45-1399-4160-9c68-14ec819a9dc8",
   "metadata": {},
   "outputs": [
    {
     "name": "stdout",
     "output_type": "stream",
     "text": [
      "0/50\tJ: 432856\n",
      "1/50\tJ: 4390.34\tμ: 0.5\tΔ: 0.5\n",
      "2/50\tJ: 4096.25\tμ: 0.125\tΔ: 0.25\n",
      "3/50\tJ: 3473.42\tμ: 0.015625\tΔ: 0.125\n",
      "4/50\tJ: 3428.29\tμ: 0.000976562\tΔ: 0.0625\n",
      "5/50\tJ: 3371.06\tμ: 3.05176e-05\tΔ: 0.03125\n",
      "6/50\tJ: 3263.24\tμ: 0\tΔ: 0.015625\n",
      "7/50\tJ: 3236.37\tμ: 0\tΔ: 0.0078125\n",
      "8/50\tJ: 3211.05\tμ: 0\tΔ: 0.00390625\n",
      "9/50\tJ: 3206.25\tμ: 0\tΔ: 0.00195312\n",
      "10/50\tJ: 3198.65\tμ: 0\tΔ: 0.000976562\n"
     ]
    }
   ],
   "source": [
    "dt = 0.05\n",
    "N = 50\n",
    "n_d = 2\n",
    "\n",
    "x = np.array([-10, 10, 10, 0], dtype=float)\n",
    "x_goal = np.zeros((4, 1), dtype=float).T\n",
    "\n",
    "# dynamics = dec.DoubleIntDynamics4D(dt)\n",
    "dynamics = dec.UnicycleDynamics4D(dt)\n",
    "\n",
    "Q = np.diag([1., 1, 0, 0])\n",
    "Qf = 1000 * np.eye(Q.shape[0])\n",
    "R = np.eye(2)\n",
    "cost = dec.ReferenceCost(x_goal, Q, R, Qf)\n",
    "\n",
    "prob = dec.ilqrProblem(dynamics, cost)\n",
    "ilqr = dec.ilqrSolver(prob, N)\n",
    "X, U, J = ilqr.solve(x)\n",
    "\n",
    "plt.clf()\n",
    "plot_solve(X, J, x_goal)\n",
    "plt.draw()"
   ]
  },
  {
   "cell_type": "markdown",
   "id": "7da0f10b-4b23-4dd6-a2ca-c3c820010491",
   "metadata": {},
   "source": [
    "Show equations of motion, which have the form\n",
    "\n",
    "$$\\dot{x} = f(x, u, p)$$\n",
    "\n",
    "for states\n",
    "\n",
    "$$\n",
    "x = \\begin{bmatrix} o_x & o_y & o_z & \\psi & \\theta & \\phi & v_x & v_y & v_z & w_x & w_y & w_z \\end{bmatrix},\n",
    "$$\n",
    "\n",
    "inputs\n",
    "$$\n",
    "u = \\begin{bmatrix} \\tau_x & \\tau_y & \\tau_z & f_z \\end{bmatrix},\n",
    "$$\n",
    "\n",
    "and parameters\n",
    "$$\n",
    "p = \\begin{bmatrix} m & J_x & J_y & J_z & g \\end{bmatrix}.\n",
    "$$"
   ]
  },
  {
   "cell_type": "code",
   "execution_count": null,
   "id": "28eb1097-86da-484a-92ba-e1c47303885f",
   "metadata": {},
   "outputs": [],
   "source": [
    "# Single-agent problem for a 12D quadcopter (w/ analytical diff.)\n",
    "dt = 0.1\n",
    "N = 40\n",
    "n_d = 3\n",
    "\n",
    "x = np.array([2, 2, 0.5 , 0.05, 0, 0, 0.0, 0.0, 0, 0, 0, 0], dtype=float)\n",
    "xf = np.zeros((12, 1), dtype=float).T\n",
    "\n",
    "dynamics = dec.QuadcopterDynamics12D(dt)\n",
    "\n",
    "# Q = np.diag([1., 1., 1., 0, 0, 0, 0, 0, 0, 0, 0, 0])\n",
    "Q = np.diag([1., 1, 1, 1, 1, 1, 1, 1, 1, 1, 1, 1])\n",
    "Qf = 100 * np.eye(Q.shape[0])\n",
    "R = np.eye(4)\n",
    "cost = dec.ReferenceCost(xf, Q, R, Qf)\n",
    "\n",
    "prob = dec.ilqrProblem(dynamics, cost)\n",
    "ilqr = dec.ilqrSolver(prob, N)\n",
    "\n",
    "# with warnings.catch_warnings():\n",
    "    # warnings.filterwarnings(\"error\")\n",
    "X, U, J = ilqr.solve(x)\n",
    "\n",
    "plt.clf()\n",
    "plot_solve(X, J, xf, n_d=n_d)\n",
    "plt.draw()"
   ]
  },
  {
   "cell_type": "code",
   "execution_count": null,
   "id": "8810b906",
   "metadata": {},
   "outputs": [],
   "source": [
    "# Single-agent problem for a 6D quadcopter (w/ analytical diff.)\n",
    "dt = 0.1\n",
    "N = 40\n",
    "n_d = 3\n",
    "\n",
    "x = np.array([2, 2, 0.5 , 0, 0, 0], dtype=float)\n",
    "xf = np.zeros((6, 1), dtype=float).T\n",
    "\n",
    "dynamics = dec.QuadcopterDynamics6D(dt)\n",
    "\n",
    "# Q = np.diag([1., 1., 1., 0, 0, 0, 0, 0, 0, 0, 0, 0])\n",
    "Q = np.diag([1., 1., 1., 1., 1., 1.])\n",
    "Qf = 100 * np.eye(Q.shape[0])\n",
    "R = np.diag([0, 1, 1])\n",
    "cost = dec.ReferenceCost(xf, Q, R, Qf)\n",
    "\n",
    "prob = dec.ilqrProblem(dynamics, cost)\n",
    "ilqr = dec.ilqrSolver(prob, N)\n",
    "\n",
    "# with warnings.catch_warnings():\n",
    "    # warnings.filterwarnings(\"error\")\n",
    "X, U, J = ilqr.solve(x)\n",
    "\n",
    "plt.clf()\n",
    "plot_solve(X, J, xf, n_d=n_d)\n",
    "plt.draw()"
   ]
  },
  {
   "cell_type": "markdown",
   "id": "3fd87437",
   "metadata": {},
   "source": [
    "## Human Agent Alone"
   ]
  },
  {
   "cell_type": "code",
   "execution_count": null,
   "id": "d3cee611",
   "metadata": {},
   "outputs": [],
   "source": [
    "dt = 0.1\n",
    "N = 40\n",
    "n_d = 3\n",
    "\n",
    "x = np.array([2, 2, 1.75 , 0, 0, 0], dtype=float)\n",
    "xf = np.zeros((6, 1), dtype=float).T\n",
    "xf[:,2] = 1.75\n",
    "dynamics = dec.HumanDynamics6D(dt)\n",
    "\n",
    "\n",
    "Q = np.diag([1., 1., 1., 1., 1., 1.])\n",
    "Qf = 100 * np.eye(Q.shape[0])\n",
    "R = np.eye(3)\n",
    "cost = dec.ReferenceCost(xf, Q, R, Qf)\n",
    "\n",
    "prob = dec.ilqrProblem(dynamics, cost)\n",
    "ilqr = dec.ilqrSolver(prob, N)\n",
    "\n",
    "X, U, J = ilqr.solve(x)"
   ]
  },
  {
   "cell_type": "code",
   "execution_count": null,
   "id": "6ec12818",
   "metadata": {},
   "outputs": [],
   "source": [
    "plt.clf()\n",
    "plt.figure()\n",
    "plot_solve(X, J, xf, n_d=n_d)\n",
    "plt.title('Human agent alone')\n",
    "plt.draw()"
   ]
  },
  {
   "cell_type": "markdown",
   "id": "fa52b336-88bc-4de5-985c-3f8a885f5e00",
   "metadata": {
    "tags": []
   },
   "source": [
    "## multi-agent problem"
   ]
  },
  {
   "cell_type": "markdown",
   "id": "642a633c-4682-40c7-95c3-9825a74791a4",
   "metadata": {
    "tags": []
   },
   "source": [
    "### initializing the scene\n",
    "Here, we define some initial positions within some distance of each other, and then rotate them about the origin by some random angle to hopefully create some interesting scenarios."
   ]
  },
  {
   "cell_type": "code",
   "execution_count": null,
   "id": "4432bb77-cd91-4e4e-8aaf-001d7664e359",
   "metadata": {},
   "outputs": [],
   "source": [
    "def paper_parameters():\n",
    "    return [\n",
    "        (np.array([\n",
    "            [0.683, 1.443, 0.975],\n",
    "            [2.5, 1.484, 0.974],\n",
    "            [1.538, 1.332, 1.07],\n",
    "            [0.476, 1.006, 1.171],\n",
    "            [1.079, -0.6, 0.99]\n",
    "            ]),\n",
    "         np.array([\n",
    "             [2.412, 1.6, 0.998],\n",
    "             [0.533, 1.491, 0.93],\n",
    "             [1.487, 2.281, 1.123],\n",
    "             [-0.612, -0.546, 0.953],\n",
    "             [0.707, 1.054, 0.953]\n",
    "             ])\n",
    "        ),\n",
    "        (np.array([\n",
    "            [0.449, 1.695, 1.063],\n",
    "            [2.462, 1.621, 0.963],\n",
    "            [1.555, 1.237, 0.953],\n",
    "            [0.328, 1.043, 0.947],\n",
    "            [1.179, -0.503, 0.971]\n",
    "            ]),\n",
    "         np.array([\n",
    "             [2.619, 1.6, 1.026],\n",
    "             [0.463, 1.487, 1.033],\n",
    "             [1.323, 2.129, 1.216],\n",
    "             [-0.523, -0.647, 0.896],\n",
    "             [0.658, 0.977, 1.133]\n",
    "         ])\n",
    "        ),\n",
    "        (np.array([\n",
    "            [0.374, 1.497, 0.855],\n",
    "            [2.636, 1.399, 1.151],\n",
    "            [1.496, 1.245, 1.065],\n",
    "            [0.591, 1.239, 1.126],\n",
    "            [1.124, -0.56, 1.063]\n",
    "            ]),\n",
    "         np.array([\n",
    "             [2.649, 1.399, 1.034],\n",
    "             [0.502, 1.671, 1.054],\n",
    "             [1.607, 2.172, 1.09],\n",
    "             [-0.606, -0.711, 0.909],\n",
    "             [0.791, 0.862, 0.928]\n",
    "             ])\n",
    "        )\n",
    "    ]"
   ]
  },
  {
   "cell_type": "code",
   "execution_count": null,
   "id": "a1b89cb8-b729-4cad-a484-93e34f22c4f1",
   "metadata": {},
   "outputs": [],
   "source": [
    "import pocketknives"
   ]
  },
  {
   "cell_type": "code",
   "execution_count": null,
   "id": "52d0d9c3-85eb-49f8-bd7f-46be8cd47607",
   "metadata": {},
   "outputs": [],
   "source": [
    "plt.style.use('dark_background')\n",
    "\n",
    "trajs = paper_parameters()\n",
    "ntrajs = len(trajs)\n",
    "n_agents, n_states = trajs[0][0].shape\n",
    "\n",
    "t = 2\n",
    "plt.clf()\n",
    "for i, (x0, xf) in enumerate(trajs[t:t+1]):\n",
    "    ax = fig.add_subplot(1, 1, i+1)\n",
    "    ax.set_aspect('equal')\n",
    "    # ax.set_facecolor(\"k\")\n",
    "    # ax.yaxis.set_tick_params(labelcolor=\"w\", color=\"w\")\n",
    "    # ax.xaxis.set_tick_params(\n",
    "    X = np.dstack([\n",
    "        x0.reshape(n_agents, n_states), \n",
    "        xf.reshape(n_agents, n_states)\n",
    "    ]).swapaxes(1,2)\n",
    "    for i, Xi in enumerate(X):\n",
    "        plt.annotate('', Xi[1,:2], Xi[0,:2], \n",
    "                     arrowprops=dict(facecolor=plt.cm.Dark2.colors[i]))\n",
    "    pocketknives.set_bounds(X.reshape(-1, n_states), zoom=0.1)\n",
    "    plt.draw()\n",
    "plt.savefig(f\"trial{t+1}.png\", dpi=1000.0)"
   ]
  },
  {
   "cell_type": "code",
   "execution_count": null,
   "id": "73c7053f-f679-4cb4-935c-751338b7ca08",
   "metadata": {},
   "outputs": [],
   "source": [
    "def quad2_human1_setup():\n",
    "    x0 = np.array([\n",
    "        [2, 2.4, 1.5, 0, 0, 0],\n",
    "        [-2, 2.0, 1.5, 0, 0, 0],\n",
    "        [0, 0, 1.75, 0, 0, 0],\n",
    "        # [0, 0, 1.7, 0, 0, 0],\n",
    "    ]).flatten()\n",
    "    xf = np.array([\n",
    "\n",
    "        [-2, 2.0, 1.5, 0, 0, 0],\n",
    "        [2, 2.4, 1.5, 0, 0, 0],\n",
    "        [0, 3, 1.75, 0, 0, 0],\n",
    "        # [-0.5, -0.5, 1.7, 0, 0, 0],\n",
    "    ]).flatten()\n",
    "\n",
    "    return x0, xf\n",
    "\n",
    "def paper_setup():\n",
    "    \"\"\"Hardcoded example with reasonable consistency eyeballed from \n",
    "       Potential-iLQR paper\n",
    "    \"\"\"\n",
    "    x0 = np.array([[0.5, 1.5, 0, 0.1,\n",
    "                    2.5, 1.5, 0, π,\n",
    "                    1.5, 1.3, 0, π/2]], \n",
    "                     dtype=float).T\n",
    "    xf = np.array([[2.5, 1.5, 0, 0, \n",
    "                        0.5, 1.5, 0, π, \n",
    "                        1.5, 2.2, 0, π/2]]).T\n",
    "    return x0, xf\n",
    "\n",
    "def paper_setup_quads():\n",
    "    x0 = np.array([[-1.5, 0.1, 1, 0, 0, 0,\n",
    "                     1.5, 0, 1, 0, 0, 0,\n",
    "                     # 0.0, 0.5, 2, 0, 0, 0,\n",
    "                    # -2.5, 0.0, 1.5, 0, 0, 0,\n",
    "                    0, -1, 1.5, 0, 0, 0\n",
    "                  ]], dtype=float).T\n",
    "    xf = np.array([[1.5, 0, 2, 0, 0, 0,\n",
    "                   -1.5, 0, 2, 0, 0, 0,\n",
    "                   # -2.0, -0.5, 0.5, 0, 0, 0,\n",
    "                   # 0.2, -1.0, 1.0, 0, 0, 0,\n",
    "                   0.0, 2, 1.5, 0, 0, 0\n",
    "                   ]], dtype=float).T\n",
    "    return x0, xf\n",
    "\n",
    "\n",
    "def paper_setup_quads_3():\n",
    "    x0 = np.array([[-1.5, 0.1, 1, 0, 0, 0,\n",
    "                     1.5, 0, 1, 0, 0, 0,\n",
    "                     0.0, 0.0, 0.6, 0, 0, 0,\n",
    "                    # -2.5, 0.0, 1.5, 0, 0, 0,\n",
    "                    0, -1, 1.5, 0, 0, 0\n",
    "                  ]], dtype=float).T\n",
    "    xf = np.array([[1.5, 0, 2, 0, 0, 0,\n",
    "                   -1.5, 0, 2, 0, 0, 0,\n",
    "                   -2.0, -1.5, 0.6, 0, 0, 0,\n",
    "                   # 0.2, -1.0, 1.0, 0, 0, 0,\n",
    "                   0.0, 2, 1.5, 0, 0, 0\n",
    "                   ]], dtype=float).T\n",
    "    return x0, xf\n",
    "\n",
    "\n",
    "def dec_test_setup():\n",
    "    x0, xf = paper_setup()\n",
    "    x0_other = np.array([[5, 5, 0, 0,\n",
    "                          6, 6, 0, π/4]]).T\n",
    "    xf_other = np.array([[6, 4, 0, -π/2,\n",
    "                              4, 6, 0, π/4]]).T\n",
    "    \n",
    "    x0 = np.concatenate([x0, x0_other]) \n",
    "    xf = np.concatenate([xf, xf_other])    \n",
    "    \n",
    "    return x0, xf\n",
    "\n",
    "def paper_setup_3_quads():\n",
    "    x0 = np.array([[0.5, 1.5, 1, 0, 0, 0,\n",
    "                    2.5, 1.5, 1, 0, 0, 0,\n",
    "                    1.5, 1.3, 1, 0, 0, 0]], \n",
    "                     dtype=float).T\n",
    "    xf = np.array([[2.5, 1.5, 1, 0, 0, 0, \n",
    "                    0.5, 1.5, 1, 0, 0, 0, \n",
    "                    1.5, 2.2, 1, 0, 0, 0]]).T\n",
    "    x0[dec.pos_mask([6]*3, 3)] += 0.01*np.random.randn(9, 1)\n",
    "    xf[dec.pos_mask([6]*3, 3)] += 0.01*np.random.randn(9, 1)\n",
    "    return x0, xf"
   ]
  },
  {
   "cell_type": "code",
   "execution_count": null,
   "id": "3f747a0a-6dc5-4888-a884-46e8d4739979",
   "metadata": {},
   "outputs": [],
   "source": [
    "def paper_example_unicycles():\n",
    "    \"\"\"5 agents with crossing, N = 60, R = 2I\"\"\"\n",
    "    x0 = np.array([[-3.894,  1.453,  0.   ,  0.   ,  0.873,  4.82 ,  0.   ,  0.   ,\n",
    "        -3.372, -3.415,  0.   ,  0.   ,  3.502,  4.681,  0.   ,  0.   ,\n",
    "         4.592,  0.605,  0.   ,  0.   ]]).T\n",
    "    xf = np.array([[ 4.877,  2.181,  0.   ,  0.   ,  1.928, -0.136,  0.   ,  0.   ,\n",
    "        -1.879,  3.688,  0.   ,  0.   , -2.026, -0.522,  0.   ,  0.   ,\n",
    "         4.043, -3.767,  0.   ,  0.   ]]).T\n",
    "    return x0, xf"
   ]
  },
  {
   "cell_type": "code",
   "execution_count": null,
   "id": "6132947a-b3ea-48d8-8d73-8603937b2ef8",
   "metadata": {},
   "outputs": [],
   "source": [
    "def paper_example_quads():\n",
    "    \"\"\"10 quadcopters, N = 60\"\"\"\n",
    "    x0 = np.array([[ 5.915, -7.175,  1.903,  0.   ,  0.   ,  0.   ,  1.838,  2.391,\n",
    "         5.71 ,  0.   ,  0.   ,  0.   ,  3.706,  3.317, -8.283,  0.   ,\n",
    "         0.   ,  0.   ,  6.694,  7.111,  6.155,  0.   ,  0.   ,  0.   ,\n",
    "        -9.541,  0.501,  2.488,  0.   ,  0.   ,  0.   , -4.286, -7.567,\n",
    "        -7.29 ,  0.   ,  0.   ,  0.   ,  3.574, -4.309, -1.497,  0.   ,\n",
    "         0.   ,  0.   ,  0.417, -2.895,  0.594,  0.   ,  0.   ,  0.   ,\n",
    "        -6.272, -6.414, -1.265,  0.   ,  0.   ,  0.   ,  7.108, -9.521,\n",
    "        -5.234,  0.   ,  0.   ,  0.   ]]).T\n",
    "    xf = np.array([[ 0.586,  6.324,  8.746,  0.   ,  0.   ,  0.   , -5.768, -5.674,\n",
    "         9.156,  0.   ,  0.   ,  0.   ,  1.384,  6.137,  3.046,  0.   ,\n",
    "         0.   ,  0.   , -9.182,  1.458, -5.108,  0.   ,  0.   ,  0.   ,\n",
    "        -4.171, -3.339, -6.949,  0.   ,  0.   ,  0.   , -9.142, -1.331,\n",
    "         7.007,  0.   ,  0.   ,  0.   , -2.239, -7.678,  3.992,  0.   ,\n",
    "         0.   ,  0.   ,  0.704, -4.572,  9.133,  0.   ,  0.   ,  0.   ,\n",
    "         4.2  , -8.159,  4.172,  0.   ,  0.   ,  0.   ,  7.384, -1.938,\n",
    "        -5.644,  0.   ,  0.   ,  0.   ]]).T\n",
    "\n",
    "    return x0, xf"
   ]
  },
  {
   "cell_type": "markdown",
   "id": "00b6c263-eca6-4cf9-8d45-07234cabb770",
   "metadata": {},
   "source": [
    "## 2 quadcopters w/ 1 human "
   ]
  },
  {
   "cell_type": "code",
   "execution_count": null,
   "id": "2eea7a3e-12f9-4753-95d4-2d8706c94d1d",
   "metadata": {},
   "outputs": [],
   "source": [
    "n_agents = 3\n",
    "n_states = 6\n",
    "n_controls = 3\n",
    "\n",
    "x_dims = [n_states] * n_agents\n",
    "u_dims = [n_controls] * n_agents\n",
    "# n_dims = [3, 3, 3, 3, 3]\n",
    "n_dims = [3,3,2]\n",
    "\n",
    "dt = 0.05\n",
    "N = 50\n",
    "radius = 0.6\n",
    "\n",
    "x0, xf = paper_setup_quads()\n",
    "\n",
    "Q = np.diag([1, 1, 1, 5, 5, 5])\n",
    "R = np.diag([1, 1, 1])\n",
    "Qf = 1e3 * np.eye(n_states)\n",
    "\n",
    "Q_human = np.diag([1, 1, 1, 0, 0, 0])\n",
    "R_human = np.diag([1, 1, 0])\n",
    "Qf_human = 1e3 * np.eye(Q.shape[0])\n",
    "\n",
    "# Qs = [Q, Q, Q_human]\n",
    "# Rs = [R, R, R_human]\n",
    "# Qfs = [Qf, Qf, Qf_human]\n",
    "Qs = [Q] * n_agents\n",
    "Rs = [R] * n_agents\n",
    "Qfs = [Qf] * n_agents\n",
    "\n",
    "\n",
    "models = [dec.QuadcopterDynamics6D,dec.QuadcopterDynamics6D,dec.HumanDynamics6D]\n",
    "ids = [100 + i for i in range(n_agents)]\n",
    "dynamics = dec.MultiDynamicalModel([model(dt, id_) for id_, model in zip(ids, models)])\n",
    "\n",
    "goal_costs = [\n",
    "    dec.ReferenceCost(xf_i, Qi, Ri, Qfi, id_)\n",
    "    for xf_i, id_, x_dim, Qi, Ri, Qfi in zip(\n",
    "        dec.split_agents_gen(xf, x_dims), ids, x_dims, Qs, Rs, Qfs\n",
    "    )\n",
    "]\n",
    "prox_cost = dec.ProximityCost(x_dims, radius, n_dims)\n",
    "game_cost = dec.GameCost(goal_costs, prox_cost)\n",
    "goal_costs[-1].Q = Q_human\n",
    "goal_costs[-1].R = R_human\n",
    "goal_costs[-1].Qf = Qf_human\n",
    "problem = dec.ilqrProblem(dynamics, game_cost)\n",
    "solver = dec.ilqrSolver(problem, N)\n",
    "\n",
    "g = 9.80665\n",
    "U0 = np.tile([g, 0, 0], (N, n_agents))"
   ]
  },
  {
   "cell_type": "code",
   "execution_count": null,
   "id": "8e088921",
   "metadata": {},
   "outputs": [],
   "source": [
    "X, U, J = solver.solve(x0, U0)"
   ]
  },
  {
   "cell_type": "code",
   "execution_count": null,
   "id": "504c70d5-f8bf-4ac3-bea9-222f3e59596f",
   "metadata": {},
   "outputs": [],
   "source": [
    "from matplotlib import font_manager"
   ]
  },
  {
   "cell_type": "code",
   "execution_count": null,
   "id": "708822f8-20ae-4fa3-8ba4-e379ff5c09d8",
   "metadata": {},
   "outputs": [],
   "source": [
    "plt.close('all')"
   ]
  },
  {
   "cell_type": "code",
   "execution_count": null,
   "id": "8b3880a0",
   "metadata": {},
   "outputs": [],
   "source": [
    "plt.figure()\n",
    "plot_solve(X, J, xf, x_dims, True, 3)"
   ]
  },
  {
   "cell_type": "code",
   "execution_count": null,
   "id": "496b8e1d-20e0-4129-9ff4-65b6952e2998",
   "metadata": {},
   "outputs": [],
   "source": [
    "X, U, J, _ = dec.solve_centralized(solver, x0, U0, ids, True)"
   ]
  },
  {
   "cell_type": "code",
   "execution_count": null,
   "id": "7e7cb037-9a99-4ff9-ab3d-023fdc3008fc",
   "metadata": {},
   "outputs": [],
   "source": [
    "plt.clf()\n",
    "plt.figure()\n",
    "plot_solve(X, J, xf, x_dims,True, n_d=3)\n",
    "plt.title('One-shot centralized trajectory with Human and Quad')\n",
    "plt.draw()"
   ]
  },
  {
   "cell_type": "code",
   "execution_count": null,
   "id": "7449f50e-12a7-4ccf-9ac5-05372bdbea2c",
   "metadata": {},
   "outputs": [],
   "source": [
    "problem"
   ]
  },
  {
   "cell_type": "code",
   "execution_count": null,
   "id": "bc33845f-e146-471d-8b68-97ea9b71a2c7",
   "metadata": {},
   "outputs": [],
   "source": [
    "X0 = np.tile(x0, (N+1, n_agents))\n",
    "X_dec, U_dec, J_dec, _ = dec.solve_decentralized(problem, X0, U0, radius, verbose=True)"
   ]
  },
  {
   "cell_type": "code",
   "execution_count": null,
   "id": "c077db82-65ed-402f-8b78-4b9ff7cffed7",
   "metadata": {},
   "outputs": [],
   "source": []
  },
  {
   "cell_type": "code",
   "execution_count": null,
   "id": "fdeb2b43",
   "metadata": {},
   "outputs": [],
   "source": [
    "plt.clf()\n",
    "plt.figure()\n",
    "plot_solve(X_dec, J_dec, xf, x_dims, n_d=3)\n",
    "plt.title('One-shot decentralized trajectory with Human and Quad')\n",
    "plt.draw()"
   ]
  },
  {
   "cell_type": "code",
   "execution_count": null,
   "id": "86cfc4ef-c9a4-49a4-bd11-81e8995c9cac",
   "metadata": {},
   "outputs": [],
   "source": [
    "plt.clf()\n",
    "plt.figure()\n",
    "plt.plot(dec.compute_pairwise_distance(X, x_dims, n_dims[1]))\n",
    "plt.hlines(radius, *plt.xlim(), 'r', ls='--')\n",
    "plt.title('Distance between human and quad over entire horizon')\n",
    "plt.ylabel('Pairwise distance (m)',fontsize=13)\n",
    "plt.draw()"
   ]
  },
  {
   "cell_type": "code",
   "execution_count": null,
   "id": "14ee3216-72e5-4379-9738-7148e349d948",
   "metadata": {},
   "outputs": [],
   "source": [
    "dt"
   ]
  },
  {
   "cell_type": "code",
   "execution_count": null,
   "id": "03d0362d",
   "metadata": {},
   "outputs": [],
   "source": [
    "%%time\n",
    "n_d = 3\n",
    "step_size = 5\n",
    "N = 30\n",
    "\n",
    "# Start in hover condition.\n",
    "# U0 = np.zeros((N, n_agents*n_controls))\n",
    "\n",
    "X_rhc, U_rhc, J_rhc = dec.solve_rhc(\n",
    "    problem, x0,  N, radius,\n",
    "    centralized=False,\n",
    "    n_d=n_d,\n",
    "    step_size=step_size, \n",
    "    dist_converge=0.1,\n",
    "    verbose=True,\n",
    "    t_kill=2*step_size*dt,\n",
    "    t_diverge=None\n",
    ")"
   ]
  },
  {
   "cell_type": "code",
   "execution_count": null,
   "id": "d6b4caf5-bd15-4ba9-9a62-8252ac1dff4a",
   "metadata": {},
   "outputs": [],
   "source": [
    "plt.clf()\n",
    "plt.figure()\n",
    "plot_solve(X_rhc, J_rhc, xf,x_dims, True, n_d=3)\n",
    "# plt.title('RHC with human and quad')\n",
    "ax = plt.gca()\n",
    "# ax.set_title(\"5 Unicycle Agents\")\n",
    "ax.set_xlabel(\"$x$\")\n",
    "ax.set_ylabel(\"$y$\")\n",
    "ax.set_zlabel(\"$z$\")\n",
    "ax.set_xticks(np.arange(-1.5,1.7,1.0))\n",
    "ax.set_yticks(np.arange(-1.5,1.7,1.0))\n",
    "ax.set_zticks(np.arange(0,2.1,1.0))\n",
    "ax.legend(plt.gca().get_children()[1:3], [\"Start Position\", \"Goal Position\"])\n",
    "plt.savefig('/mnt/c/Users/Randy666/Documents/projects/ICON_lab/decentralized/media/2quads_1human.png')\n",
    "plt.draw()"
   ]
  },
  {
   "cell_type": "code",
   "execution_count": null,
   "id": "86136880-7e57-49a3-8171-3f54547fde16",
   "metadata": {},
   "outputs": [],
   "source": [
    "# plt.clf()\n",
    "plt.figure()\n",
    "plt.plot(dec.compute_pairwise_distance(X, x_dims, n_dims[1]))\n",
    "plt.hlines(radius, *plt.xlim(), 'r', ls='--')\n",
    "# plt.title('Distance between human and quad over entire horizon')\n",
    "plt.ylabel('Pairwise distance (m)',fontsize=13)\n",
    "plt.draw()"
   ]
  },
  {
   "cell_type": "markdown",
   "id": "f1ef5759-be12-4088-a4e6-fdc845d0d7eb",
   "metadata": {},
   "source": [
    "To be consistent between simulations, we normalize for the scale of the setup by computing the *energy*, or the sum of distances from the origin of the points. This should be the same for all runs."
   ]
  },
  {
   "cell_type": "markdown",
   "id": "37d9fa2e-2642-44e8-9a08-9f9cd9446407",
   "metadata": {},
   "source": [
    "## 3 quadcopters w/ 1 human;"
   ]
  },
  {
   "cell_type": "code",
   "execution_count": null,
   "id": "f352598f-6eec-4fc2-8960-fa4376541106",
   "metadata": {},
   "outputs": [],
   "source": [
    "n_agents = 4\n",
    "n_states = 6\n",
    "n_controls = 3\n",
    "\n",
    "x_dims = [n_states] * n_agents\n",
    "u_dims = [n_controls] * n_agents\n",
    "# n_dims = [3, 3, 3, 3, 3]\n",
    "n_dims = [3,3,3,2]\n",
    "\n",
    "dt = 0.05\n",
    "N = 50\n",
    "radius = 0.6\n",
    "\n",
    "x0, xf = paper_setup_quads_3()\n",
    "\n",
    "Q = np.diag([1, 1, 1, 5, 5, 5])\n",
    "R = np.diag([1, 1, 1])\n",
    "Qf = 1e3 * np.eye(n_states)\n",
    "\n",
    "Q_human = np.diag([1, 1, 1, 0, 0, 0])\n",
    "R_human = np.diag([1, 1, 0])\n",
    "Qf_human = 1e3 * np.eye(Q.shape[0])\n",
    "\n",
    "# Qs = [Q, Q, Q_human]\n",
    "# Rs = [R, R, R_human]\n",
    "# Qfs = [Qf, Qf, Qf_human]\n",
    "Qs = [Q] * n_agents\n",
    "Rs = [R] * n_agents\n",
    "Qfs = [Qf] * n_agents\n",
    "\n",
    "\n",
    "models = [dec.QuadcopterDynamics6D,dec.QuadcopterDynamics6D,dec.HumanDynamics6D, dec.HumanDynamics6D]\n",
    "ids = [100 + i for i in range(n_agents)]\n",
    "dynamics = dec.MultiDynamicalModel([model(dt, id_) for id_, model in zip(ids, models)])\n",
    "\n",
    "goal_costs = [\n",
    "    dec.ReferenceCost(xf_i, Qi, Ri, Qfi, id_)\n",
    "    for xf_i, id_, x_dim, Qi, Ri, Qfi in zip(\n",
    "        dec.split_agents_gen(xf, x_dims), ids, x_dims, Qs, Rs, Qfs\n",
    "    )\n",
    "]\n",
    "prox_cost = dec.ProximityCost(x_dims, radius, n_dims)\n",
    "game_cost = dec.GameCost(goal_costs, prox_cost)\n",
    "goal_costs[-1].Q = Q_human\n",
    "goal_costs[-1].R = R_human\n",
    "goal_costs[-1].Qf = Qf_human\n",
    "problem = dec.ilqrProblem(dynamics, game_cost)\n",
    "solver = dec.ilqrSolver(problem, N)\n",
    "\n",
    "g = 9.80665\n",
    "U0 = np.tile([g, 0, 0], (N, n_agents))"
   ]
  },
  {
   "cell_type": "code",
   "execution_count": null,
   "id": "b426137b-a65c-4d58-9534-e5b389d958f4",
   "metadata": {},
   "outputs": [],
   "source": [
    "%%time\n",
    "n_d = 3\n",
    "step_size = 5\n",
    "N = 25\n",
    "\n",
    "# Start in hover condition.\n",
    "# U0 = np.zeros((N, n_agents*n_controls))\n",
    "\n",
    "X_rhc, U_rhc, J_rhc = dec.solve_rhc(\n",
    "    problem, x0,  N, radius,\n",
    "    centralized=False,\n",
    "    n_d=n_d,\n",
    "    step_size=step_size, \n",
    "    dist_converge=0.1,\n",
    "    verbose=True,\n",
    "    t_kill=2*step_size*dt,\n",
    "    t_diverge=None\n",
    ")"
   ]
  },
  {
   "cell_type": "code",
   "execution_count": null,
   "id": "29d0ea6b-4c7d-4d69-a66d-2b3ef0333341",
   "metadata": {},
   "outputs": [],
   "source": [
    "plt.clf()\n",
    "plt.figure()\n",
    "plot_solve(X_rhc, J_rhc, xf,x_dims, True, n_d=3)\n",
    "# plt.title('RHC with human and quad')\n",
    "ax = plt.gca()\n",
    "# ax.set_title(\"5 Unicycle Agents\")\n",
    "ax.set_xlabel(\"$x$\")\n",
    "ax.set_ylabel(\"$y$\")\n",
    "ax.set_zlabel(\"$z$\")\n",
    "ax.set_xticks(np.arange(-1.5,1.7,1.0))\n",
    "ax.set_yticks(np.arange(-1.5,1.7,1.0))\n",
    "ax.set_zticks(np.arange(0,2.1,1.0))\n",
    "ax.legend(plt.gca().get_children()[1:3], [\"Start Position\", \"Goal Position\"])\n",
    "plt.savefig('/mnt/c/Users/Randy666/Documents/projects/ICON_lab/decentralized/media/3quads_1human.png')\n",
    "plt.draw()"
   ]
  },
  {
   "cell_type": "code",
   "execution_count": null,
   "id": "a4124a29-24a9-42c3-a529-063af61d623c",
   "metadata": {},
   "outputs": [],
   "source": []
  },
  {
   "cell_type": "code",
   "execution_count": null,
   "id": "b7bdbddd-6e58-424b-a5f1-5b4912bc8ff3",
   "metadata": {},
   "outputs": [],
   "source": []
  },
  {
   "cell_type": "markdown",
   "id": "5c39c2b1-0545-4f2b-845d-b9e5403b5661",
   "metadata": {},
   "source": [
    "# Drones only:"
   ]
  },
  {
   "cell_type": "code",
   "execution_count": null,
   "id": "4671c093-63cf-46b9-9679-69d37434da0f",
   "metadata": {},
   "outputs": [],
   "source": [
    "def paper_setup_3_quads():\n",
    "    x0 = np.array([[0.5, 1.5, 1, 0.5, 0.0, 0,\n",
    "                    2.5, 1.5, 1, -0.5, 0.0, 0,\n",
    "                    1.5, 1.3, 1, 0, 0.2, 0]], \n",
    "                     dtype=float).T\n",
    "    xf = np.array([[2.5, 1.5, 1, 0, 0, 0, \n",
    "                    0.5, 1.5, 1, 0, 0, 0, \n",
    "                    1.5, 2.2, 1, 0, 0, 0]]).T\n",
    "    x0[dec.pos_mask([6]*3, 3)] += 0.1*np.random.randn(9, 1)\n",
    "    xf[dec.pos_mask([6]*3, 3)] += 0.1*np.random.randn(9, 1)\n",
    "    return x0, xf"
   ]
  },
  {
   "cell_type": "code",
   "execution_count": null,
   "id": "44037e5d",
   "metadata": {},
   "outputs": [],
   "source": [
    "def paper_setup_5_quads():\n",
    "    x0 = np.array([[0.5, 1.5, 1, 0.1, 0.0, 0,\n",
    "                    2.5, 1.5, 1, -0.1, 0.0, 0,\n",
    "                    1.5, 1.3, 1, 0, 0.1, 0,\n",
    "                    0.5, 1.0, 1, 0.1, 0, 0,\n",
    "                    1.2,-0.5, 1, 0, 0, 0]], \n",
    "                     dtype=float).T\n",
    "    xf = np.array([[2.5, 1.5, 1, 0, 0, 0, \n",
    "                    0.5, 1.5, 1, 0, 0, 0, \n",
    "                    1.5, 2.2, 1, 0, 0, 0,\n",
    "                    -0.5,-0.6, 1, 0, 0, 0,\n",
    "                    0.7, 1.0, 1, 0, 0, 0]]).T\n",
    "    x0[dec.pos_mask([6]*5, 3)] += 0.1*np.random.randn(15, 1)\n",
    "    xf[dec.pos_mask([6]*5, 3)] += 0.1*np.random.randn(15, 1)\n",
    "    return x0, xf"
   ]
  },
  {
   "cell_type": "code",
   "execution_count": null,
   "id": "e3d3ae23",
   "metadata": {},
   "outputs": [],
   "source": [
    "def paper_setup_7_quads():\n",
    "    x0 = np.array([[0.5, 1.5, 1, 0.1, 0.0, 0,\n",
    "                    2.5, 1.5, 1, -0.1, 0.0, 0,\n",
    "                    1.5, 1.3, 1, 0, 0.1, 0,\n",
    "                    0.5, 1.0, 1, 0.1, 0, 0,\n",
    "                    1.2,-0.5, 1, 0, 0, 0,\n",
    "                    1.7, 1.4, 1, 0, 0, 0,\n",
    "                    -1.5, 1.1, 1, 0.1, 0, 0]], \n",
    "                     dtype=float).T\n",
    "    xf = np.array([[2.5, 1.5, 1, 0, 0, 0, \n",
    "                    0.5, 1.5, 1, 0, 0, 0, \n",
    "                    1.5, 2.2, 1, 0, 0, 0,\n",
    "                    -0.5,-0.6, 1, 0, 0, 0,\n",
    "                    0.7, 1.0, 1, 0, 0, 0,\n",
    "                    2.0, 2.1, 1, 0, 0, 0,\n",
    "                    -0.6, 0.6, 1, 0, 0, 0]]).T\n",
    "    x0[dec.pos_mask([6]*7, 3)] += 0.1*np.random.randn(21, 1)\n",
    "    xf[dec.pos_mask([6]*7, 3)] += 0.1*np.random.randn(21, 1)\n",
    "    return x0, xf"
   ]
  },
  {
   "cell_type": "code",
   "execution_count": null,
   "id": "1d5df34d-5e4d-454b-82d4-33ae3b77f726",
   "metadata": {},
   "outputs": [],
   "source": [
    "n_states = 6\n",
    "n_controls = 3\n",
    "n_agents = 7\n",
    "x_dims = [n_states] * n_agents\n",
    "u_dims = [n_controls] * n_agents\n",
    "n_dims = [3] * n_agents\n",
    "\n",
    "# ENERGY = 20.0\n",
    "n_d = n_dims[0]\n",
    "\n",
    "# x0, xf = paper_setup()\n",
    "# x0, xf = car_setup()\n",
    "# x0, xf = bike_setup()\n",
    "# x0, xf = double_int_setup()\n",
    "# x0, xf = dec_test_setup()\n",
    "# x0, xf = dec.random_setup(\n",
    "#     n_agents, n_states, \n",
    "#     is_rotation=False, \n",
    "#     rel_dist=2.0, \n",
    "#     var=n_agents/2, \n",
    "#     n_d=2, \n",
    "#     random=True\n",
    "# )\n",
    "\n",
    "\n",
    "# x0, xf = paper_example_unicycles()\n",
    "# x0, xf = paper_setup_3_quads()\n",
    "\n",
    "x0 = np.array([\n",
    "\n",
    "\n",
    "x_dims = [n_states] * n_agents\n",
    "u_dims = [n_controls] * n_agents\n",
    "\n",
    "# x0 = dec.normalize_energy(x0, x_dims, ENERGY)\n",
    "# xf = dec.normalize_energy(xf, x_dims, ENERGY)\n",
    "# x0 = dec.perturb_state(x0, x_dims)\n",
    "\n",
    "plt.clf()\n",
    "plt.figure()\n",
    "plt.gca().set_aspect('equal')\n",
    "X = np.dstack([\n",
    "    x0.reshape(n_agents, n_states), \n",
    "    xf.reshape(n_agents, n_states)\n",
    "]).swapaxes(1,2)\n",
    "for i, Xi in enumerate(X):\n",
    "    plt.annotate('', Xi[1,:2], Xi[0,:2], \n",
    "                 arrowprops=dict(facecolor=plt.cm.tab20.colors[i]))\n",
    "pocketknives.set_bounds(X.reshape(-1, n_states), zoom=0.2)\n",
    "plt.draw()"
   ]
  },
  {
   "cell_type": "code",
   "execution_count": null,
   "id": "1f606b8b-543c-442a-8e82-7d1118b629ee",
   "metadata": {},
   "outputs": [],
   "source": [
    "dt = 0.05\n",
    "N = 30\n",
    "\n",
    "tol = 1e-6\n",
    "ids = [100 + i for i in range(n_agents)]\n",
    "\n",
    "# model = dec.DoubleIntDynamics4D\n",
    "# model = dec.UnicycleDynamics4D\n",
    "# model = dec.BikeDynamics5D\n",
    "model = dec.QuadcopterDynamics6D\n",
    "dynamics = dec.MultiDynamicalModel([model(dt, id_) for id_ in ids])\n",
    "\n",
    "# Q = np.eye(4)\n",
    "# R = np.eye(2)\n",
    "Q = np.diag([1, 1, 1, 5, 5, 5])\n",
    "R = np.diag([0, 1, 1])\n",
    "Qf = 1e3 * np.eye(n_states)\n",
    "radius = 0.7\n",
    "\n",
    "goal_costs = [\n",
    "    dec.ReferenceCost(xf_i, Q.copy(), R.copy(), Qf.copy(), id_)\n",
    "    for xf_i, id_, x_dim, u_dim in zip(\n",
    "        dec.split_agents_gen(xf, x_dims), ids, x_dims, u_dims\n",
    "    )\n",
    "]\n",
    "prox_cost = dec.ProximityCost(x_dims, radius, n_dims)\n",
    "goal_costs = [dec.ReferenceCost(xf_i, Q.copy(), R.copy(), Qf.copy(), id_) \n",
    "              for xf_i, id_ in zip(split_agents(xf.T, x_dims), ids)]\n",
    "prox_cost = dec.ProximityCost(x_dims, radius, n_dims)\n",
    "game_cost = dec.GameCost(goal_costs, prox_cost)\n",
    "\n",
    "problem = dec.ilqrProblem(dynamics, game_cost)\n",
    "solver = dec.ilqrSolver(problem, N)\n",
    "\n",
    "# U0 = None"
   ]
  },
  {
   "cell_type": "code",
   "execution_count": null,
   "id": "563b0318-aef0-4483-afb9-9dae0352b3df",
   "metadata": {
    "tags": []
   },
   "outputs": [],
   "source": [
    "# %%time\n",
    "# U0 = np.tile([1.5*g, 0, 0.0], (N, n_agents))\n",
    "# U0[:, ~dec.pos_mask([3]*3, 1)] = 1e-3*np.random.randn(N, n_agents*(n_controls-1))\n",
    "# X, U, J = solver.solve(x0, U0, tol=tol, t_kill=None)"
   ]
  },
  {
   "cell_type": "code",
   "execution_count": null,
   "id": "93648d57-6fb2-4cda-870c-c5d1a69ed7d9",
   "metadata": {},
   "outputs": [],
   "source": [
    "# # fname = \"10-quads\"\n",
    "# # fname = \"5-unicycles\"\n",
    "# fname = \"_\""
   ]
  },
  {
   "cell_type": "code",
   "execution_count": null,
   "id": "f583a3f3-8ec4-482d-b904-c957475a345a",
   "metadata": {},
   "outputs": [],
   "source": [
    "plt.clf()\n",
    "plt.figure()\n",
    "plot_solve(X, J, xf.T, x_dims, True, n_d)\n",
    "\n",
    "ax = plt.gca()\n",
    "# ax.set_title(\"5 Unicycle Agents\")\n",
    "# ax.set_xlabel(\"$x$\")\n",
    "# ax.set_ylabel(\"$y$\")\n",
    "# ax.set_zlabel(\"$z$\")\n",
    "ax.legend(plt.gca().get_children()[1:3], [\"Start Position\", \"Goal Position\"])\n",
    "# pocketknives.ticks_off()\n",
    "ax.set_title('')\n",
    "# ax.legend(plt.gca().get_children()[1:3], [\"Start Position\", \"Goal Position\"], loc=(-0.2, 0.75))\n",
    "# ax.yaxis.set_major_locator(plt.MultipleLocator(3))\n",
    "# plt.savefig(f\"/home/iconlab/Downloads/{fname}.png\")\n",
    "# plt.gcf().set_facecolor(\"#EAEAF2\")\n",
    "plt.gca().set_zlim(0, 1.5)\n",
    "plt.draw()\n"
   ]
  },
  {
   "cell_type": "code",
   "execution_count": null,
   "id": "b87a4e75-51b8-4810-b699-4242d87f6435",
   "metadata": {},
   "outputs": [],
   "source": [
    "plt.clf()\n",
    "plt.figure()\n",
    "plt.plot(dec.compute_pairwise_distance(X, x_dims, n_d))\n",
    "plt.hlines(radius, 0, N, 'r', ls='--', label=\"$d_{prox}$\")\n",
    "plt.title(\"Inter-Agent Distances\")\n",
    "plt.xlabel(\"Time Steps\")\n",
    "plt.ylabel(\"Distance\")\n",
    "plt.legend()\n",
    "plt.grid(False)\n",
    "plt.draw()\n",
    "# plt.savefig(f\"/home/iconlab/Downloads/{fname}-distances.png\")"
   ]
  },
  {
   "cell_type": "code",
   "execution_count": null,
   "id": "d9ae135c-adc9-40ee-87ad-a42fb0f1edfc",
   "metadata": {},
   "outputs": [],
   "source": [
    "costs = []\n",
    "for xi, ui in zip(X, U):\n",
    "    costs.append(game_cost(xi, ui).item())\n",
    "plt.clf()\n",
    "plt.plot(costs)\n",
    "plt.draw()"
   ]
  },
  {
   "cell_type": "markdown",
   "id": "68c1de09-898c-411a-896b-c4000ec679cf",
   "metadata": {},
   "source": [
    "## decentralized multi-agent"
   ]
  },
  {
   "cell_type": "code",
   "execution_count": null,
   "id": "2d74de30-c356-4ee1-8c90-2abacc98d974",
   "metadata": {},
   "outputs": [],
   "source": [
    "graph = dec.define_inter_graph_threshold(X, 4*radius, x_dims, ids)\n",
    "graph"
   ]
  },
  {
   "cell_type": "code",
   "execution_count": null,
   "id": "572bedc9-a7aa-4aaf-8057-1bb4cda239c6",
   "metadata": {},
   "outputs": [],
   "source": [
    "nx.draw_networkx?"
   ]
  },
  {
   "cell_type": "code",
   "execution_count": null,
   "id": "1cbc443c-be7f-4e7f-98b9-fc3d598d4098",
   "metadata": {},
   "outputs": [],
   "source": [
    "plt.clf()\n",
    "dec.plot_interaction_graph(graph)\n",
    "plt.title(\"One-Shot Interaction Graph\")"
   ]
  },
  {
   "cell_type": "code",
   "execution_count": null,
   "id": "5cc9f0d2-ccb1-4735-85d1-a3907e420b84",
   "metadata": {},
   "outputs": [],
   "source": [
    "plt.grid(False)\n",
    "plt.savefig(\"/home/iconlab/Downloads/graph.png\")"
   ]
  },
  {
   "cell_type": "code",
   "execution_count": null,
   "id": "3a50e984-954e-40c4-bff3-6371d6a153a3",
   "metadata": {},
   "outputs": [],
   "source": [
    "# %%time\n",
    "X0 = np.tile(x0.T, (N,1))\n",
    "U0 = np.zeros((N, n_controls*n_agents))\n",
    "X_dec1, U_dec1, J_dec, _ = dec.solve_decentralized(problem, X0, U0, radius)"
   ]
  },
  {
   "cell_type": "code",
   "execution_count": null,
   "id": "f86c1bc4-080d-4fb2-b316-4da8f917b3a1",
   "metadata": {},
   "outputs": [],
   "source": [
    "plt.clf()\n",
    "plt.figure()\n",
    "plot_solve(X_dec1, J_dec, xf, x_dims, n_d=3)\n",
    "plt.gca().set_zlim(-1, 1)\n",
    "plt.draw()"
   ]
  },
  {
   "cell_type": "code",
   "execution_count": null,
   "id": "678b88a8-8fb3-4ecd-8841-883238887092",
   "metadata": {},
   "outputs": [],
   "source": [
    "plt.clf()\n",
    "plt.figure()\n",
    "plt.plot(dec.compute_pairwise_distance(X_dec, x_dims, n_d))\n",
    "plt.hlines(radius, *plt.xlim(), 'r', ls='--')\n",
    "plt.draw()"
   ]
  },
  {
   "cell_type": "markdown",
   "id": "cd932c21-f1c7-47cf-ac60-2d23bac796d5",
   "metadata": {
    "tags": []
   },
   "source": [
    "## With receding horizon:"
   ]
  },
  {
   "cell_type": "code",
   "execution_count": null,
   "id": "6d86ff8a",
   "metadata": {},
   "outputs": [],
   "source": [
    "%%time\n",
    "#Decentralized without multiprocessing:\n",
    "step_size = 2\n",
    "U0 = np.zeros((N, dynamics.n_u))\n",
    "N = 4\n",
    "X, U, J = dec.solve_rhc(\n",
    "    problem, x0, N, radius,\n",
    "    centralized=False,\n",
    "    n_d=n_d,\n",
    "    step_size=step_size, \n",
    "    dist_converge=0.1,\n",
    "    verbose=True,\n",
    "    t_kill=step_size*dt,\n",
    "    t_diverge=None\n",
    ")"
   ]
  },
  {
   "cell_type": "code",
   "execution_count": null,
   "id": "b03d6018",
   "metadata": {},
   "outputs": [],
   "source": [
    "print(x0.T)"
   ]
  },
  {
   "cell_type": "code",
   "execution_count": null,
   "id": "e92cd646",
   "metadata": {},
   "outputs": [],
   "source": [
    "print(xf.T)"
   ]
  },
  {
   "cell_type": "code",
   "execution_count": null,
   "id": "629fa1cb",
   "metadata": {},
   "outputs": [],
   "source": [
    "plt.clf()\n",
    "plt.figure()\n",
    "plot_solve(X, J, xf, x_dims, n_d=3)\n",
    "plt.savefig('/mnt/c/Users/Randy666/Documents/projects/ICON_lab/decentralized/media/7_drone_Trial1')"
   ]
  },
  {
   "cell_type": "code",
   "execution_count": null,
   "id": "d5ac8059",
   "metadata": {},
   "outputs": [],
   "source": [
    "# plt.clf()\n",
    "# plt.figure()\n",
    "# plt.plot(dec.compute_pairwise_distance(X, x_dims, n_d))\n",
    "# plt.hlines(radius, *plt.xlim(), 'r', ls='--')\n",
    "# plt.draw()"
   ]
  },
  {
   "cell_type": "markdown",
   "id": "ce44002f-d19a-4f80-9e38-9a9bf4f3a2d0",
   "metadata": {},
   "source": [
    "## animation"
   ]
  },
  {
   "cell_type": "code",
   "execution_count": null,
   "id": "fd5d8eee-d9af-4c29-9b1e-abe38ddccc90",
   "metadata": {},
   "outputs": [],
   "source": [
    "_, axes = plt.subplots(1, 2, figsize=(5.0, 3.7))"
   ]
  },
  {
   "cell_type": "code",
   "execution_count": null,
   "id": "86412aa3-9981-4600-a2a2-2211da3ec579",
   "metadata": {},
   "outputs": [],
   "source": [
    "def setup(axes, X, xf, x_dims, radius):\n",
    "    \n",
    "    ax1, ax2 = axes\n",
    "    n_agents = len(x_dims)\n",
    "    handles1 = []\n",
    "    for i in range(n_agents):\n",
    "        handles1.append((\n",
    "            ax1.plot(0, c=plt.cm.tab20.colors[2*i], marker='o', markersize=4)[0],\n",
    "            ax1.add_artist(plt.Circle(np.nan, radius, color='k', fill=True, alpha=0.3, lw=2)),\n",
    "        ))\n",
    "        \n",
    "    for xg in split_agents(xf, x_dims):\n",
    "        ax1.scatter(xg[0,0], xg[0,1], c='r', marker='x', zorder=10)\n",
    "\n",
    "    X_cat = np.vstack(split_agents(X, x_dims))\n",
    "    pocketknives.set_bounds(X_cat, axes[0], zoom=0.15)\n",
    "    plt.draw()\n",
    "    \n",
    "    handles2 = []\n",
    "    n_pairs = pocketknives.nchoosek(n_agents, 2)\n",
    "    for i in range(n_pairs):\n",
    "        handles2.append(ax2.plot(0, c=plt.cm.tab20.colors[2*i])[0])\n",
    "    ax2.hlines(radius, 0, X.shape[0], 'r', ls='--')\n",
    "    ax2.set_ylim(0.0, distances.max())\n",
    "        \n",
    "    return handles1, handles2\n",
    "    \n",
    "def animate(t, handles1, handles2, X, x_dims, xf, distances):\n",
    "    \"\"\"Animate the solution into a gif\"\"\"\n",
    "    \n",
    "    for (i, xi), hi in zip(enumerate(split_agents(X, x_dims)), handles1):\n",
    "        hi[0].set_xdata(xi[:t,0])\n",
    "        hi[0].set_ydata(xi[:t,1])\n",
    "        hi[1].set_center(xi[t-1,:2])\n",
    "        \n",
    "    for i, hi in enumerate(handles2):\n",
    "        hi.set_xdata(range(t))\n",
    "        hi.set_ydata(distances[:t, i])\n",
    "    \n",
    "    plt.draw()\n",
    "    "
   ]
  },
  {
   "cell_type": "code",
   "execution_count": null,
   "id": "d23639a7-3ef6-438f-a215-12798324ac8d",
   "metadata": {},
   "outputs": [],
   "source": [
    "distances = dec.compute_pairwise_distance(X, x_dims).T\n",
    "handles1, handles2 = setup(axes, X, xf.flatten(), x_dims, radius)\n",
    "animate(10, handles1, handles2, X, x_dims, xf, distances)\n",
    "plt.draw()"
   ]
  },
  {
   "cell_type": "code",
   "execution_count": null,
   "id": "cb12a6da-32df-47e7-bb14-d0f52afdcd71",
   "metadata": {},
   "outputs": [],
   "source": [
    "handles = setup(axes, X, xf.flatten(), x_dims, radius)\n",
    "anim = FuncAnimation(\n",
    "    plt.gcf(), \n",
    "    animate, \n",
    "    frames=N+1, \n",
    "    fargs=(*handles, X, x_dims, xf, distances))\n",
    "anim.save('traj.gif', fps=5)"
   ]
  },
  {
   "cell_type": "markdown",
   "id": "ee818f0b-485f-4abf-8742-c01e022dc54f",
   "metadata": {},
   "source": [
    "## old"
   ]
  },
  {
   "cell_type": "code",
   "execution_count": null,
   "id": "8bc88d0d-8172-41cd-9871-325675778c6a",
   "metadata": {},
   "outputs": [],
   "source": [
    "# Old RHC for plotting...\n",
    "rhc = dec.RecedingHorizonController(x0, ilqr, step_size=5)\n",
    "U0 = np.zeros((ilqr.N, ilqr.n_u))\n",
    "for Xi, Ui, Ji in rhc.solve(U0, J_converge=101.0, tol=tol, verbose=False):\n",
    "    plt.cla()\n",
    "    plot_solve(Xi, Ji, xf.T, x_dims)\n",
    "    fig.canvas.draw()"
   ]
  },
  {
   "cell_type": "code",
   "execution_count": null,
   "id": "614cbcae-7d0b-43c9-8575-d3ae00a6cae6",
   "metadata": {},
   "outputs": [],
   "source": [
    "# Manual decentralized RHC for plotting...\n",
    "step_size = 5\n",
    "Xi = np.tile(x0.T, (N,1))\n",
    "Ui = np.zeros((N, dynamics.n_u))\n",
    "X_dec = np.zeros((0, dynamics.n_x))\n",
    "U_dec = np.zeros((0, dynamics.n_u))\n",
    "Ji = np.inf\n",
    "J_converge = 100.0\n",
    "\n",
    "while Ji >= J_converge:\n",
    "    Xi, Ui, Ji = dec.solve_decentralized(prob, Xi, Ui, radius)\n",
    "    \n",
    "    X_dec = np.r_[X_dec, Xi[:step_size]]\n",
    "    U_dec = np.r_[U_dec, Ui[:step_size]]\n",
    "    \n",
    "    # Seed the next solve by staying at the last visited state.\n",
    "    Xi = np.r_[Xi[step_size:], np.tile(Xi[-1], (step_size, 1))]\n",
    "    Ui = np.r_[Ui[step_size:], np.zeros((step_size, dynamics.n_u))]\n",
    "    \n",
    "    plt.cla()\n",
    "    plot_solve(Xi[:step_size], Ji, xf.T, x_dims)\n",
    "    fig.canvas.draw()"
   ]
  },
  {
   "cell_type": "code",
   "execution_count": null,
   "id": "18e04e80-d538-48a0-8e59-d9377ec87bc6",
   "metadata": {},
   "outputs": [],
   "source": []
  },
  {
   "cell_type": "code",
   "execution_count": null,
   "id": "22f08729-6a64-4ede-9624-b5b4fd25a825",
   "metadata": {},
   "outputs": [],
   "source": []
  }
 ],
 "metadata": {
  "kernelspec": {
   "display_name": "Python 3.10.4 ('Randy')",
   "language": "python",
   "name": "python3"
  },
  "language_info": {
   "codemirror_mode": {
    "name": "ipython",
    "version": 3
   },
   "file_extension": ".py",
   "mimetype": "text/x-python",
   "name": "python",
   "nbconvert_exporter": "python",
   "pygments_lexer": "ipython3",
   "version": "3.10.7"
  },
  "vscode": {
   "interpreter": {
    "hash": "399811294a7819b7e239898a57da83318870bf6cc244d0feadb37fb854947374"
   }
  }
 },
 "nbformat": 4,
 "nbformat_minor": 5
}
