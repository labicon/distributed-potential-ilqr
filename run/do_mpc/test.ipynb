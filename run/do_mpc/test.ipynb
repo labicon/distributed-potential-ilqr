{
 "cells": [
  {
   "cell_type": "code",
   "execution_count": 87,
   "metadata": {},
   "outputs": [],
   "source": [
    "import numpy as np\n",
    "import baseline_model\n",
    "from casadi import *\n",
    "import do_mpc\n",
    "import decentralized as dec\n",
    "import util\n",
    "import sim_drone_main\n",
    "from baseline_model import baseline_drone_model\n",
    "from baseline_model_mpc import baseline_drone_mpc\n",
    "from baseline_model_simulator import baseline_drone_simulator\n",
    "import itertools"
   ]
  },
  {
   "cell_type": "code",
   "execution_count": 88,
   "metadata": {},
   "outputs": [
    {
     "name": "stdout",
     "output_type": "stream",
     "text": [
      "The autoreload extension is already loaded. To reload it, use:\n",
      "  %reload_ext autoreload\n"
     ]
    }
   ],
   "source": [
    "%load_ext autoreload\n",
    "%autoreload 2"
   ]
  },
  {
   "cell_type": "code",
   "execution_count": 3,
   "metadata": {},
   "outputs": [],
   "source": [
    "Q = np.eye(6)\n",
    "R = np.eye(3)\n",
    "n_agents = 3\n",
    "n_inputs = 3\n",
    "n_states = 6\n",
    "Qf = Q*1e3"
   ]
  },
  {
   "cell_type": "code",
   "execution_count": 4,
   "metadata": {},
   "outputs": [],
   "source": [
    "Qs = [Q] * n_agents\n",
    "Rs = [R] * n_agents\n",
    "Qfs = [Qf] * n_agents"
   ]
  },
  {
   "cell_type": "code",
   "execution_count": 143,
   "metadata": {},
   "outputs": [
    {
     "name": "stdout",
     "output_type": "stream",
     "text": [
      "Shape of x is (6, 1)\n",
      "Shape of u is (3, 1)\n"
     ]
    }
   ],
   "source": [
    "model_type = 'continuous' # either 'discrete' or 'continuous'\n",
    "model = do_mpc.model.Model(model_type)\n",
    "\n",
    "x = model.set_variable(var_type='_x', var_name='x', shape=(6, 1))\n",
    "u = model.set_variable(var_type='_u', var_name='u', shape=(3, 1))\n",
    "print(f'Shape of x is {x.shape}')\n",
    "print(f'Shape of u is {u.shape}')\n",
    "#x = p_x,p_y,p_z,v_x,v_y,v_z\n",
    "#u = theta, phi, tau\n",
    "g = 9.81\n",
    "model.set_rhs('x', vertcat(x[3], x[4], x[5], g*np.tan(u[0]), -g*np.tan(u[1]), u[2]-g))"
   ]
  },
  {
   "cell_type": "code",
   "execution_count": 144,
   "metadata": {},
   "outputs": [],
   "source": [
    "theta_max = np.pi/6\n",
    "phi_max = np.pi/6\n",
    "tau_max = 5\n",
    "v_max = 5\n",
    "\n",
    "x_dims = [6,6,6]\n",
    "\n",
    "Q = np.eye(n_states)*10\n",
    "Qf = np.eye(n_states)*1e3\n",
    "R = np.eye(n_inputs)\n",
    "\n",
    "radius = 0.5\n",
    "n_dims = [3,3,3]\n",
    "episode=200\n",
    "x_baseline_init, x_baseline_f = util.paper_setup_3_quads() \n",
    "#concatenated initial and final states of all 3 agents\n",
    "\n",
    "x_baseline1 = x_baseline_init\n",
    "\n",
    "states_list = np.zeros((episode+1,9)) #positions of each drone\n",
    "states_list[0,:] = np.array([x_baseline1[0],x_baseline1[1],x_baseline1[2],\\\n",
    "                        x_baseline1[6],x_baseline1[7],x_baseline1[8],\\\n",
    "                        x_baseline1[12],x_baseline1[13],x_baseline1[14]]).flatten()"
   ]
  },
  {
   "cell_type": "code",
   "execution_count": 153,
   "metadata": {},
   "outputs": [
    {
     "name": "stdout",
     "output_type": "stream",
     "text": [
      "Shape of x is (6, 1)\n",
      "Shape of u is (3, 1)\n"
     ]
    },
    {
     "data": {
      "text/plain": [
       "<do_mpc.model.Model at 0x7f52a0a56fb0>"
      ]
     },
     "execution_count": 153,
     "metadata": {},
     "output_type": "execute_result"
    }
   ],
   "source": [
    "baseline_drone_model(dec.split_agents(x_baseline_f.reshape(1,-1),x_dims)[0].flatten(), Q, R, Qf)"
   ]
  },
  {
   "cell_type": "code",
   "execution_count": 178,
   "metadata": {},
   "outputs": [
    {
     "name": "stdout",
     "output_type": "stream",
     "text": [
      "Shape of x is (6, 1)\n",
      "Shape of u is (3, 1)\n",
      "Shape of x is (6, 1)\n",
      "Shape of u is (3, 1)\n",
      "Shape of x is (6, 1)\n",
      "Shape of u is (3, 1)\n"
     ]
    }
   ],
   "source": [
    "model_baseline = [baseline_drone_model(dec.split_agents(x_baseline_f.reshape(1,-1),x_dims)[i].flatten(), Q, R, Qf, x_baseline1, x_dims) for i in range(n_agents)]"
   ]
  },
  {
   "cell_type": "code",
   "execution_count": 180,
   "metadata": {},
   "outputs": [
    {
     "name": "stderr",
     "output_type": "stream",
     "text": [
      "/home/randy233/anaconda3/envs/Randy/lib/python3.10/site-packages/do_mpc/controller.py:904: UserWarning: rterm was not set and defaults to zero. Changes in the control inputs are not penalized. Can lead to oscillatory behavior.\n",
      "  warnings.warn('rterm was not set and defaults to zero. Changes in the control inputs are not penalized. Can lead to oscillatory behavior.')\n"
     ]
    }
   ],
   "source": [
    "mpc_baseline = [baseline_drone_mpc(model_i,n_agents,x_baseline1,x_dims, v_max, theta_max, phi_max, tau_max) for model_i in model_baseline]"
   ]
  },
  {
   "cell_type": "code",
   "execution_count": 181,
   "metadata": {},
   "outputs": [
    {
     "data": {
      "text/plain": [
       "3"
      ]
     },
     "execution_count": 181,
     "metadata": {},
     "output_type": "execute_result"
    }
   ],
   "source": [
    "len(mpc_baseline)"
   ]
  },
  {
   "cell_type": "code",
   "execution_count": 182,
   "metadata": {},
   "outputs": [],
   "source": [
    "simulator_baseline = [baseline_drone_simulator(model_i) for model_i in model_baseline]"
   ]
  },
  {
   "cell_type": "code",
   "execution_count": 190,
   "metadata": {},
   "outputs": [
    {
     "data": {
      "text/plain": [
       "array([[0.491, 1.501, 0.984, 0.   , 0.   , 0.   ]])"
      ]
     },
     "execution_count": 190,
     "metadata": {},
     "output_type": "execute_result"
    }
   ],
   "source": [
    "dec.split_agents(x_baseline1.reshape(1,-1),x_dims)[0]"
   ]
  },
  {
   "cell_type": "code",
   "execution_count": 192,
   "metadata": {},
   "outputs": [
    {
     "data": {
      "text/plain": [
       "[<do_mpc.simulator.Simulator at 0x7f52a058d8d0>,\n",
       " <do_mpc.simulator.Simulator at 0x7f52a058ec80>,\n",
       " <do_mpc.simulator.Simulator at 0x7f52a057b670>]"
      ]
     },
     "execution_count": 192,
     "metadata": {},
     "output_type": "execute_result"
    }
   ],
   "source": [
    "simulator_baseline"
   ]
  },
  {
   "cell_type": "code",
   "execution_count": 198,
   "metadata": {},
   "outputs": [],
   "source": [
    "split_states = dec.split_agents(x_baseline1.reshape(1,-1),x_dims)\n",
    "for m in range(len(simulator_baseline)):\n",
    "        simulator_baseline[m].x0['x'] = split_states[m].T #dimension mismatch here?\n",
    "        mpc_baseline[m].x0 = split_states[m].T"
   ]
  },
  {
   "cell_type": "code",
   "execution_count": 205,
   "metadata": {},
   "outputs": [],
   "source": [
    "u_init_baseline = np.full((n_agents*n_inputs,1), 0.0)\n",
    "u_dims = [3,3,3]"
   ]
  },
  {
   "cell_type": "code",
   "execution_count": 207,
   "metadata": {},
   "outputs": [
    {
     "data": {
      "text/plain": [
       "[array([[0., 0., 0.]]), array([[0., 0., 0.]]), array([[0., 0., 0.]])]"
      ]
     },
     "execution_count": 207,
     "metadata": {},
     "output_type": "execute_result"
    }
   ],
   "source": [
    "split_inputs = dec.split_agents(u_init_baseline.reshape(1,-1),u_dims)\n",
    "split_inputs"
   ]
  },
  {
   "cell_type": "code",
   "execution_count": null,
   "metadata": {},
   "outputs": [],
   "source": []
  },
  {
   "cell_type": "code",
   "execution_count": 212,
   "metadata": {},
   "outputs": [
    {
     "name": "stdout",
     "output_type": "stream",
     "text": [
      "(3, 1)\n",
      "(3, 1)\n",
      "(3, 1)\n"
     ]
    }
   ],
   "source": [
    "for m in range(len(mpc_baseline)):\n",
    "    print(split_inputs[m].T.shape)"
   ]
  },
  {
   "cell_type": "code",
   "execution_count": 225,
   "metadata": {},
   "outputs": [
    {
     "ename": "TypeError",
     "evalue": "unsupported operand type(s) for /: 'float' and 'DMStruct'",
     "output_type": "error",
     "traceback": [
      "\u001b[0;31m---------------------------------------------------------------------------\u001b[0m",
      "\u001b[0;31mTypeError\u001b[0m                                 Traceback (most recent call last)",
      "Input \u001b[0;32mIn [225]\u001b[0m, in \u001b[0;36m<cell line: 1>\u001b[0;34m()\u001b[0m\n\u001b[0;32m----> 1\u001b[0m \u001b[43mmpc_baseline\u001b[49m\u001b[43m[\u001b[49m\u001b[38;5;241;43m0\u001b[39;49m\u001b[43m]\u001b[49m\u001b[38;5;241;43m.\u001b[39;49m\u001b[43mset_initial_guess\u001b[49m\u001b[43m(\u001b[49m\u001b[43m)\u001b[49m\n",
      "File \u001b[0;32m~/anaconda3/envs/Randy/lib/python3.10/site-packages/do_mpc/controller.py:986\u001b[0m, in \u001b[0;36mMPC.set_initial_guess\u001b[0;34m(self)\u001b[0m\n\u001b[1;32m    973\u001b[0m \u001b[38;5;124;03m\"\"\"Initial guess for optimization variables.\u001b[39;00m\n\u001b[1;32m    974\u001b[0m \u001b[38;5;124;03mUses the current class attributes :py:attr:`x0`, :py:attr:`z0` and :py:attr:`u0` to create the initial guess.\u001b[39;00m\n\u001b[1;32m    975\u001b[0m \u001b[38;5;124;03mThe initial guess is simply the initial values for all :math:`k=0,\\dots,N` instances of :math:`x_k`, :math:`u_k` and :math:`z_k`.\u001b[39;00m\n\u001b[0;32m   (...)\u001b[0m\n\u001b[1;32m    982\u001b[0m \u001b[38;5;124;03m    :py:attr:`opt_x_num`.\u001b[39;00m\n\u001b[1;32m    983\u001b[0m \u001b[38;5;124;03m\"\"\"\u001b[39;00m\n\u001b[1;32m    984\u001b[0m \u001b[38;5;28;01massert\u001b[39;00m \u001b[38;5;28mself\u001b[39m\u001b[38;5;241m.\u001b[39mflags[\u001b[38;5;124m'\u001b[39m\u001b[38;5;124msetup\u001b[39m\u001b[38;5;124m'\u001b[39m] \u001b[38;5;241m==\u001b[39m \u001b[38;5;28;01mTrue\u001b[39;00m, \u001b[38;5;124m'\u001b[39m\u001b[38;5;124mMPC was not setup yet. Please call MPC.setup().\u001b[39m\u001b[38;5;124m'\u001b[39m\n\u001b[0;32m--> 986\u001b[0m \u001b[38;5;28mself\u001b[39m\u001b[38;5;241m.\u001b[39mopt_x_num[\u001b[38;5;124m'\u001b[39m\u001b[38;5;124m_x\u001b[39m\u001b[38;5;124m'\u001b[39m] \u001b[38;5;241m=\u001b[39m \u001b[38;5;28;43mself\u001b[39;49m\u001b[38;5;241;43m.\u001b[39;49m\u001b[43m_x0\u001b[49m\u001b[38;5;241;43m.\u001b[39;49m\u001b[43mcat\u001b[49m\u001b[38;5;241;43m/\u001b[39;49m\u001b[38;5;28;43mself\u001b[39;49m\u001b[38;5;241;43m.\u001b[39;49m\u001b[43m_x_scaling\u001b[49m\n\u001b[1;32m    987\u001b[0m \u001b[38;5;28mself\u001b[39m\u001b[38;5;241m.\u001b[39mopt_x_num[\u001b[38;5;124m'\u001b[39m\u001b[38;5;124m_u\u001b[39m\u001b[38;5;124m'\u001b[39m] \u001b[38;5;241m=\u001b[39m \u001b[38;5;28mself\u001b[39m\u001b[38;5;241m.\u001b[39m_u0\u001b[38;5;241m.\u001b[39mcat\u001b[38;5;241m/\u001b[39m\u001b[38;5;28mself\u001b[39m\u001b[38;5;241m.\u001b[39m_u_scaling\n\u001b[1;32m    988\u001b[0m \u001b[38;5;28mself\u001b[39m\u001b[38;5;241m.\u001b[39mopt_x_num[\u001b[38;5;124m'\u001b[39m\u001b[38;5;124m_z\u001b[39m\u001b[38;5;124m'\u001b[39m] \u001b[38;5;241m=\u001b[39m \u001b[38;5;28mself\u001b[39m\u001b[38;5;241m.\u001b[39m_z0\u001b[38;5;241m.\u001b[39mcat\u001b[38;5;241m/\u001b[39m\u001b[38;5;28mself\u001b[39m\u001b[38;5;241m.\u001b[39m_z_scaling\n",
      "\u001b[0;31mTypeError\u001b[0m: unsupported operand type(s) for /: 'float' and 'DMStruct'"
     ]
    }
   ],
   "source": [
    "mpc_baseline[0].set_initial_guess()"
   ]
  },
  {
   "cell_type": "code",
   "execution_count": 224,
   "metadata": {},
   "outputs": [
    {
     "name": "stdout",
     "output_type": "stream",
     "text": [
      "This is Ipopt version 3.14.4, running with linear solver MUMPS 5.4.1.\n",
      "\n",
      "Number of nonzeros in equality constraint Jacobian...:      666\n",
      "Number of nonzeros in inequality constraint Jacobian.:        0\n",
      "Number of nonzeros in Lagrangian Hessian.............:       51\n",
      "\n",
      "Total number of variables............................:      267\n",
      "                     variables with only lower bounds:        0\n",
      "                variables with lower and upper bounds:       15\n",
      "                     variables with only upper bounds:        0\n",
      "Total number of equality constraints.................:      216\n",
      "Total number of inequality constraints...............:       15\n",
      "        inequality constraints with only lower bounds:        0\n",
      "   inequality constraints with lower and upper bounds:        0\n",
      "        inequality constraints with only upper bounds:       15\n",
      "\n",
      "iter    objective    inf_pr   inf_du lg(mu)  ||d||  lg(rg) alpha_du alpha_pr  ls\n",
      "   0  9.1634593e+03 6.50e-03 8.42e+00  -1.0 0.00e+00    -  0.00e+00 0.00e+00   0\n",
      "   1  9.0552056e+03 5.72e-03 1.34e+01  -1.0 4.14e-01  -4.0 9.60e-01 1.19e-01f  1\n",
      "   2  9.2098502e+03 5.71e-05 2.13e-01  -1.0 3.40e-02  -4.5 1.00e+00 9.90e-01h  1\n",
      "   3  9.1751306e+03 4.77e-05 2.25e+00  -1.7 2.71e-02  -5.0 1.00e+00 9.90e-01h  1\n",
      "   4  9.1746454e+03 1.67e-07 1.86e-05  -1.7 1.01e-03  -5.4 1.00e+00 1.00e+00h  1\n",
      "   5  9.1661141e+03 2.53e-06 2.49e+02  -5.7 6.68e-03  -5.9 9.98e-01 9.87e-01f  1\n",
      "   6  9.1659891e+03 1.73e-09 1.78e-07  -5.7 3.04e-04  -6.4 1.00e+00 1.00e+00h  1\n",
      "   7  9.1659883e+03 2.24e-14 3.38e-12  -8.6 6.54e-07  -6.9 1.00e+00 1.00e+00h  1\n",
      "\n",
      "Number of Iterations....: 7\n",
      "\n",
      "                                   (scaled)                 (unscaled)\n",
      "Objective...............:   1.9056108853023812e+02    9.1659882634775331e+03\n",
      "Dual infeasibility......:   3.3803654157098690e-12    1.6259557481350882e-10\n",
      "Constraint violation....:   2.2370993946196904e-14    2.2370993946196904e-14\n",
      "Variable bound violation:   4.9774909527400268e-08    4.9774909527400268e-08\n",
      "Complementarity.........:   2.5085674164142199e-09    1.2066209148121182e-07\n",
      "Overall NLP error.......:   2.5085674164142199e-09    1.2066209148121182e-07\n",
      "\n",
      "\n",
      "Number of objective function evaluations             = 8\n",
      "Number of objective gradient evaluations             = 8\n",
      "Number of equality constraint evaluations            = 8\n",
      "Number of inequality constraint evaluations          = 8\n",
      "Number of equality constraint Jacobian evaluations   = 8\n",
      "Number of inequality constraint Jacobian evaluations = 8\n",
      "Number of Lagrangian Hessian evaluations             = 7\n",
      "Total seconds in IPOPT                               = 0.025\n",
      "\n",
      "EXIT: Optimal Solution Found.\n",
      "           S  :   t_proc      (avg)   t_wall      (avg)    n_eval\n",
      "       nlp_f  |        0 (       0)  31.30us (  3.91us)         8\n",
      "       nlp_g  |        0 (       0)  91.80us ( 11.47us)         8\n",
      "    nlp_grad  |        0 (       0)  15.10us ( 15.10us)         1\n",
      "  nlp_grad_f  |        0 (       0)  41.30us (  4.59us)         9\n",
      "  nlp_hess_l  |        0 (       0)  39.80us (  5.69us)         7\n",
      "   nlp_jac_g  |        0 (       0) 105.80us ( 11.76us)         9\n",
      "       total  |        0 (       0)  25.80ms ( 25.80ms)         1\n",
      "This is Ipopt version 3.14.4, running with linear solver MUMPS 5.4.1.\n",
      "\n",
      "Number of nonzeros in equality constraint Jacobian...:      666\n",
      "Number of nonzeros in inequality constraint Jacobian.:        0\n",
      "Number of nonzeros in Lagrangian Hessian.............:       51\n",
      "\n",
      "Total number of variables............................:      267\n",
      "                     variables with only lower bounds:        0\n",
      "                variables with lower and upper bounds:       15\n",
      "                     variables with only upper bounds:        0\n",
      "Total number of equality constraints.................:      216\n",
      "Total number of inequality constraints...............:       15\n",
      "        inequality constraints with only lower bounds:        0\n",
      "   inequality constraints with lower and upper bounds:        0\n",
      "        inequality constraints with only upper bounds:       15\n",
      "\n",
      "iter    objective    inf_pr   inf_du lg(mu)  ||d||  lg(rg) alpha_du alpha_pr  ls\n",
      "   0  4.1269604e+03 4.91e-01 1.36e+00  -1.0 0.00e+00    -  0.00e+00 0.00e+00   0\n",
      "   1  3.2364613e+03 3.65e-01 2.31e+00  -1.0 8.83e+00  -4.0 2.12e-01 2.57e-01f  1\n",
      "   2  3.1096074e+03 3.16e-01 2.96e+00  -1.0 6.49e+00  -4.5 3.82e-01 1.34e-01f  1\n",
      "   3  3.2101284e+03 2.03e-01 6.16e+00  -1.0 5.25e+00  -5.0 6.31e-01 3.57e-01h  1\n",
      "   4  3.9921060e+03 1.42e-01 2.12e+01  -1.0 1.71e+00  -5.4 1.00e+00 2.99e-01h  1\n",
      "   5  9.0762854e+03 2.34e-03 5.57e-01  -1.0 1.43e+00  -5.9 1.00e+00 9.90e-01h  1\n",
      "   6  9.1198488e+03 3.42e-05 6.66e+00  -1.7 2.54e-02  -6.4 1.00e+00 9.90e-01h  1\n",
      "   7  9.1202051e+03 1.63e-07 1.36e-05  -1.7 3.16e-03  -6.9 1.00e+00 1.00e+00h  1\n",
      "   8  9.1131541e+03 1.76e-06 3.58e+02  -5.7 5.50e-03  -7.3 9.94e-01 9.89e-01f  1\n",
      "   9  9.1130699e+03 2.66e-08 9.36e-08  -5.7 2.06e-03  -7.8 1.00e+00 1.00e+00h  1\n",
      "iter    objective    inf_pr   inf_du lg(mu)  ||d||  lg(rg) alpha_du alpha_pr  ls\n",
      "  10  9.1130692e+03 3.85e-13 2.75e-12  -8.6 8.04e-06  -8.3 1.00e+00 1.00e+00h  1\n",
      "\n",
      "Number of Iterations....: 10\n",
      "\n",
      "                                   (scaled)                 (unscaled)\n",
      "Objective...............:   2.2984934530234418e+02    9.1130691965078531e+03\n",
      "Dual infeasibility......:   2.7533531010703882e-12    1.0916497194920670e-10\n",
      "Constraint violation....:   3.8509473387904336e-13    3.8509473387904336e-13\n",
      "Variable bound violation:   4.9814697256067575e-08    4.9814697256067575e-08\n",
      "Complementarity.........:   2.5475564429899855e-09    1.0100554394200564e-07\n",
      "Overall NLP error.......:   2.5475564429899855e-09    1.0100554394200564e-07\n",
      "\n",
      "\n",
      "Number of objective function evaluations             = 11\n",
      "Number of objective gradient evaluations             = 11\n",
      "Number of equality constraint evaluations            = 11\n",
      "Number of inequality constraint evaluations          = 11\n",
      "Number of equality constraint Jacobian evaluations   = 11\n",
      "Number of inequality constraint Jacobian evaluations = 11\n",
      "Number of Lagrangian Hessian evaluations             = 10\n",
      "Total seconds in IPOPT                               = 0.025\n",
      "\n",
      "EXIT: Optimal Solution Found.\n",
      "           S  :   t_proc      (avg)   t_wall      (avg)    n_eval\n",
      "       nlp_f  |        0 (       0)  45.90us (  4.17us)        11\n",
      "       nlp_g  |        0 (       0) 150.50us ( 13.68us)        11\n",
      "    nlp_grad  |        0 (       0)  19.40us ( 19.40us)         1\n",
      "  nlp_grad_f  |        0 (       0)  59.60us (  4.97us)        12\n",
      "  nlp_hess_l  |        0 (       0)  55.40us (  5.54us)        10\n",
      "   nlp_jac_g  |        0 (       0) 131.90us ( 10.99us)        12\n",
      "       total  |  15.62ms ( 15.62ms)  25.72ms ( 25.72ms)         1\n",
      "This is Ipopt version 3.14.4, running with linear solver MUMPS 5.4.1.\n",
      "\n",
      "Number of nonzeros in equality constraint Jacobian...:      666\n",
      "Number of nonzeros in inequality constraint Jacobian.:        0\n",
      "Number of nonzeros in Lagrangian Hessian.............:       51\n",
      "\n",
      "Total number of variables............................:      267\n",
      "                     variables with only lower bounds:        0\n",
      "                variables with lower and upper bounds:       15\n",
      "                     variables with only upper bounds:        0\n",
      "Total number of equality constraints.................:      216\n",
      "Total number of inequality constraints...............:       15\n",
      "        inequality constraints with only lower bounds:        0\n",
      "   inequality constraints with lower and upper bounds:        0\n",
      "        inequality constraints with only upper bounds:       15\n",
      "\n",
      "iter    objective    inf_pr   inf_du lg(mu)  ||d||  lg(rg) alpha_du alpha_pr  ls\n",
      "   0  9.1294743e+02 4.91e-01 1.36e+00  -1.0 0.00e+00    -  0.00e+00 0.00e+00   0\n",
      "   1  6.2410419e+02 2.80e-01 2.18e+00  -1.0 9.23e+00  -4.0 3.18e-01 4.30e-01f  1\n",
      "   2  6.5165195e+02 2.17e-01 4.41e+00  -1.0 5.08e+00  -4.5 5.25e-01 2.24e-01h  1\n",
      "   3  8.7679954e+02 1.86e-01 2.32e+01  -1.0 1.97e+00  -5.0 1.00e+00 1.42e-01h  1\n",
      "   4  6.6067880e+03 2.50e-03 4.95e-01  -1.0 1.86e+00  -5.4 1.00e+00 9.90e-01h  1\n",
      "   5  6.6886525e+03 4.21e-05 5.13e+00  -1.7 2.15e-02  -5.9 1.00e+00 9.90e-01h  1\n",
      "   6  6.6894284e+03 9.38e-09 8.38e-07  -1.7 9.68e-04  -6.4 1.00e+00 1.00e+00h  1\n",
      "   7  6.6860892e+03 3.93e-06 1.59e+02  -5.7 5.92e-03  -6.9 9.97e-01 1.00e+00f  1\n",
      "   8  6.6860811e+03 2.17e-10 1.73e-09  -5.7 2.72e-04  -7.3 1.00e+00 1.00e+00h  1\n",
      "   9  6.6860808e+03 3.44e-14 9.43e-13  -8.6 5.47e-07  -7.8 1.00e+00 1.00e+00h  1\n",
      "\n",
      "Number of Iterations....: 9\n",
      "\n",
      "                                   (scaled)                 (unscaled)\n",
      "Objective...............:   3.5899197200292349e+02    6.6860807886433149e+03\n",
      "Dual infeasibility......:   9.4324548172153300e-13    1.7567566926709970e-11\n",
      "Constraint violation....:   3.4361402612148595e-14    3.4361402612148595e-14\n",
      "Variable bound violation:   4.9912075361646657e-08    4.9912075361646657e-08\n",
      "Complementarity.........:   2.5072521237078168e-09    4.6696560268683301e-08\n",
      "Overall NLP error.......:   2.5072521237078168e-09    4.6696560268683301e-08\n",
      "\n",
      "\n",
      "Number of objective function evaluations             = 10\n",
      "Number of objective gradient evaluations             = 10\n",
      "Number of equality constraint evaluations            = 10\n",
      "Number of inequality constraint evaluations          = 10\n",
      "Number of equality constraint Jacobian evaluations   = 10\n",
      "Number of inequality constraint Jacobian evaluations = 10\n",
      "Number of Lagrangian Hessian evaluations             = 9\n",
      "Total seconds in IPOPT                               = 0.019\n",
      "\n",
      "EXIT: Optimal Solution Found.\n",
      "           S  :   t_proc      (avg)   t_wall      (avg)    n_eval\n",
      "       nlp_f  |        0 (       0)  43.30us (  4.33us)        10\n",
      "       nlp_g  |        0 (       0) 135.50us ( 13.55us)        10\n",
      "    nlp_grad  |        0 (       0)  20.30us ( 20.30us)         1\n",
      "  nlp_grad_f  |        0 (       0)  60.00us (  5.45us)        11\n",
      "  nlp_hess_l  |        0 (       0)  54.80us (  6.09us)         9\n",
      "   nlp_jac_g  |        0 (       0) 126.60us ( 11.51us)        11\n",
      "       total  |  15.62ms ( 15.62ms)  19.42ms ( 19.42ms)         1\n"
     ]
    }
   ],
   "source": [
    "u0_baseline = []\n",
    "x_baseline_next = []\n",
    "for m in range(len(mpc_baseline)):\n",
    "    mpc_baseline[m].u0 = split_inputs[m].T\n",
    "    simulator_baseline[m].u0 = split_inputs[m].T\n",
    "    mpc_baseline[m].set_initial_guess()\n",
    "    u0_baseline.append(mpc_baseline[m].make_step(split_states[m].T))\n",
    "    x_baseline_next.append(simulator_baseline[m].make_step(split_inputs[m].T))"
   ]
  },
  {
   "cell_type": "code",
   "execution_count": 226,
   "metadata": {},
   "outputs": [
    {
     "ename": "AttributeError",
     "evalue": "'list' object has no attribute 'data'",
     "output_type": "error",
     "traceback": [
      "\u001b[0;31m---------------------------------------------------------------------------\u001b[0m",
      "\u001b[0;31mAttributeError\u001b[0m                            Traceback (most recent call last)",
      "Input \u001b[0;32mIn [226]\u001b[0m, in \u001b[0;36m<cell line: 1>\u001b[0;34m()\u001b[0m\n\u001b[0;32m----> 1\u001b[0m \u001b[43mmpc_baseline\u001b[49m\u001b[38;5;241;43m.\u001b[39;49m\u001b[43mdata\u001b[49m\u001b[38;5;241m.\u001b[39m_lam_g_num\n",
      "\u001b[0;31mAttributeError\u001b[0m: 'list' object has no attribute 'data'"
     ]
    }
   ],
   "source": [
    "mpc_baseline.data._lam_g_num"
   ]
  },
  {
   "cell_type": "code",
   "execution_count": null,
   "metadata": {},
   "outputs": [],
   "source": []
  }
 ],
 "metadata": {
  "kernelspec": {
   "display_name": "Python 3 (ipykernel)",
   "language": "python",
   "name": "python3"
  },
  "language_info": {
   "codemirror_mode": {
    "name": "ipython",
    "version": 3
   },
   "file_extension": ".py",
   "mimetype": "text/x-python",
   "name": "python",
   "nbconvert_exporter": "python",
   "pygments_lexer": "ipython3",
   "version": "3.10.4"
  },
  "vscode": {
   "interpreter": {
    "hash": "399811294a7819b7e239898a57da83318870bf6cc244d0feadb37fb854947374"
   }
  }
 },
 "nbformat": 4,
 "nbformat_minor": 4
}
