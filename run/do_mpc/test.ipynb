{
 "cells": [
  {
   "cell_type": "code",
   "execution_count": 3,
   "metadata": {},
   "outputs": [],
   "source": [
    "import numpy as np\n",
    "import baseline_model\n",
    "from casadi import *\n",
    "import do_mpc\n",
    "import decentralized as dec\n"
   ]
  },
  {
   "cell_type": "code",
   "execution_count": 6,
   "metadata": {},
   "outputs": [],
   "source": [
    "Q = np.eye(6)\n",
    "R = np.eye(3)\n",
    "n_agents = 3\n",
    "n_inputs = 3\n",
    "n_states = 6\n",
    "Qf = Q*1e3"
   ]
  },
  {
   "cell_type": "code",
   "execution_count": 7,
   "metadata": {},
   "outputs": [],
   "source": [
    "Qs = [Q] * n_agents\n",
    "Rs = [R] * n_agents\n",
    "Qfs = [Qf] * n_agents"
   ]
  },
  {
   "cell_type": "code",
   "execution_count": 8,
   "metadata": {},
   "outputs": [
    {
     "name": "stdout",
     "output_type": "stream",
     "text": [
      "Shape of x is (6, 1)\n",
      "Shape of u is (3, 1)\n"
     ]
    }
   ],
   "source": [
    "model_type = 'continuous' # either 'discrete' or 'continuous'\n",
    "model = do_mpc.model.Model(model_type)\n",
    "\n",
    "x = model.set_variable(var_type='_x', var_name='x', shape=(6, 1))\n",
    "u = model.set_variable(var_type='_u', var_name='u', shape=(3, 1))\n",
    "print(f'Shape of x is {x.shape}')\n",
    "print(f'Shape of u is {u.shape}')\n",
    "#x = p_x,p_y,p_z,v_x,v_y,v_z\n",
    "#u = theta, phi, tau\n",
    "g = 9.81\n",
    "model.set_rhs('x', vertcat(x[3], x[4], x[5], g*np.tan(u[0]), -g*np.tan(u[1]), u[2]-g))"
   ]
  },
  {
   "cell_type": "code",
   "execution_count": 13,
   "metadata": {},
   "outputs": [],
   "source": [
    "xf = np.random.rand(18)\n",
    "x_dims = [6,6,6]"
   ]
  },
  {
   "cell_type": "code",
   "execution_count": 41,
   "metadata": {},
   "outputs": [],
   "source": [
    "\n",
    "\n",
    "total_stage_cost= [(x-xf_i.T).T@Qi@(x-xf_i.T) + u.T@Ri@u\n",
    "    for xf_i, Qi, Ri, in zip(\n",
    "        dec.split_agents(xf.reshape(1,-1), x_dims), Qs, Rs, \n",
    "    )]\n",
    " \n",
    "\n",
    "total_terminal_cost = [(x-xf_i.T).T@Qfi@(x-xf_i.T)\n",
    "#shape is not correct unless xf_i is transposed\n",
    "for xf_i, Qfi in zip(\n",
    "    dec.split_agents(xf.reshape(1,-1), x_dims), Qfs\n",
    ")]"
   ]
  },
  {
   "cell_type": "code",
   "execution_count": 42,
   "metadata": {},
   "outputs": [
    {
     "data": {
      "text/plain": [
       "3"
      ]
     },
     "execution_count": 42,
     "metadata": {},
     "output_type": "execute_result"
    }
   ],
   "source": [
    "len(total_stage_cost)"
   ]
  },
  {
   "cell_type": "code",
   "execution_count": 50,
   "metadata": {},
   "outputs": [
    {
     "data": {
      "text/plain": [
       "SX(@1=1000, @2=0.67056, @3=0.3322, @4=0.589424, @5=0.59735, @6=0.0866769, @7=0.324466, @8=0.0406781, @9=0.0136367, @10=0.929077, @11=0.449056, @12=0.608274, @13=0.800826, @14=0.637524, @15=0.414727, @16=0.184916, @17=0.614452, @18=0.838018, @19=0.657215, (((((((((@1*(x_0-@2))*(x_0-@2))+((@1*(x_1-@3))*(x_1-@3)))+((@1*(x_2-@4))*(x_2-@4)))+((@1*(x_3-@5))*(x_3-@5)))+((@1*(x_4-@6))*(x_4-@6)))+((@1*(x_5-@7))*(x_5-@7)))+(((((((@1*(x_0-@8))*(x_0-@8))+((@1*(x_1-@9))*(x_1-@9)))+((@1*(x_2-@10))*(x_2-@10)))+((@1*(x_3-@11))*(x_3-@11)))+((@1*(x_4-@12))*(x_4-@12)))+((@1*(x_5-@13))*(x_5-@13))))+(((((((@1*(x_0-@14))*(x_0-@14))+((@1*(x_1-@15))*(x_1-@15)))+((@1*(x_2-@16))*(x_2-@16)))+((@1*(x_3-@17))*(x_3-@17)))+((@1*(x_4-@18))*(x_4-@18)))+((@1*(x_5-@19))*(x_5-@19)))))"
      ]
     },
     "execution_count": 50,
     "metadata": {},
     "output_type": "execute_result"
    }
   ],
   "source": [
    "model.set_expression('total_stage_cost',np.sum(total_stage_cost))\n",
    "model.set_expression('total_terminal_cost',np.sum(total_terminal_cost))"
   ]
  },
  {
   "cell_type": "code",
   "execution_count": null,
   "metadata": {},
   "outputs": [],
   "source": []
  },
  {
   "cell_type": "code",
   "execution_count": null,
   "metadata": {},
   "outputs": [],
   "source": []
  },
  {
   "cell_type": "code",
   "execution_count": null,
   "metadata": {},
   "outputs": [],
   "source": [
    "|"
   ]
  }
 ],
 "metadata": {
  "kernelspec": {
   "display_name": "Python 3 (ipykernel)",
   "language": "python",
   "name": "python3"
  },
  "language_info": {
   "codemirror_mode": {
    "name": "ipython",
    "version": 3
   },
   "file_extension": ".py",
   "mimetype": "text/x-python",
   "name": "python",
   "nbconvert_exporter": "python",
   "pygments_lexer": "ipython3",
   "version": "3.10.4"
  },
  "vscode": {
   "interpreter": {
    "hash": "399811294a7819b7e239898a57da83318870bf6cc244d0feadb37fb854947374"
   }
  }
 },
 "nbformat": 4,
 "nbformat_minor": 4
}
