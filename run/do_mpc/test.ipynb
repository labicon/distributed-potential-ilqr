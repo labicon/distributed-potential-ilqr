{
 "cells": [
  {
   "cell_type": "code",
   "execution_count": 12,
   "metadata": {},
   "outputs": [],
   "source": [
    "import numpy as np\n",
    "import baseline_model\n",
    "from casadi import *\n",
    "import do_mpc\n",
    "import decentralized as dec\n",
    "import util\n",
    "import sim_drone_main\n",
    "from baseline_model import baseline_drone_model\n",
    "import itertools"
   ]
  },
  {
   "cell_type": "code",
   "execution_count": 2,
   "metadata": {},
   "outputs": [],
   "source": [
    "%load_ext autoreload\n",
    "%autoreload 2"
   ]
  },
  {
   "cell_type": "code",
   "execution_count": 3,
   "metadata": {},
   "outputs": [],
   "source": [
    "Q = np.eye(6)\n",
    "R = np.eye(3)\n",
    "n_agents = 3\n",
    "n_inputs = 3\n",
    "n_states = 6\n",
    "Qf = Q*1e3"
   ]
  },
  {
   "cell_type": "code",
   "execution_count": 4,
   "metadata": {},
   "outputs": [],
   "source": [
    "Qs = [Q] * n_agents\n",
    "Rs = [R] * n_agents\n",
    "Qfs = [Qf] * n_agents"
   ]
  },
  {
   "cell_type": "code",
   "execution_count": 5,
   "metadata": {},
   "outputs": [
    {
     "name": "stdout",
     "output_type": "stream",
     "text": [
      "Shape of x is (6, 1)\n",
      "Shape of u is (3, 1)\n"
     ]
    }
   ],
   "source": [
    "model_type = 'continuous' # either 'discrete' or 'continuous'\n",
    "model = do_mpc.model.Model(model_type)\n",
    "\n",
    "x = model.set_variable(var_type='_x', var_name='x', shape=(6, 1))\n",
    "u = model.set_variable(var_type='_u', var_name='u', shape=(3, 1))\n",
    "print(f'Shape of x is {x.shape}')\n",
    "print(f'Shape of u is {u.shape}')\n",
    "#x = p_x,p_y,p_z,v_x,v_y,v_z\n",
    "#u = theta, phi, tau\n",
    "g = 9.81\n",
    "model.set_rhs('x', vertcat(x[3], x[4], x[5], g*np.tan(u[0]), -g*np.tan(u[1]), u[2]-g))"
   ]
  },
  {
   "cell_type": "code",
   "execution_count": 6,
   "metadata": {},
   "outputs": [],
   "source": [
    "theta_max = np.pi/6\n",
    "phi_max = np.pi/6\n",
    "tau_max = 5\n",
    "v_max = 5\n",
    "\n",
    "x_dims = [6,6,6]\n",
    "\n",
    "Q = np.eye(n_states)*10\n",
    "Qf = np.eye(n_states)*1e3\n",
    "R = np.eye(n_inputs)\n",
    "\n",
    "radius = 0.5\n",
    "n_dims = [3,3,3]\n",
    "episode=200\n",
    "x_baseline_init, x_baseline_f = util.paper_setup_3_quads()\n",
    "\n",
    "x_baseline1 = x_baseline_init\n",
    "\n",
    "states_list = np.zeros((episode+1,9)) #positions of each drone\n",
    "states_list[0,:] = np.array([x_baseline1[0],x_baseline1[1],x_baseline1[2],\\\n",
    "                        x_baseline1[6],x_baseline1[7],x_baseline1[8],\\\n",
    "                        x_baseline1[12],x_baseline1[13],x_baseline1[14]]).flatten()"
   ]
  },
  {
   "cell_type": "code",
   "execution_count": 7,
   "metadata": {},
   "outputs": [],
   "source": [
    "# sim_drone_main.setup_baseline(x_baseline1, x_baseline_f, v_max, theta_max, phi_max, tau_max,\\\n",
    "#                     x_dims, Q, R, Qf, n_agents, n_dims, radius)"
   ]
  },
  {
   "cell_type": "code",
   "execution_count": 78,
   "metadata": {},
   "outputs": [
    {
     "name": "stdout",
     "output_type": "stream",
     "text": [
      "Shape of x is (6, 1)\n",
      "Shape of u is (3, 1)\n"
     ]
    }
   ],
   "source": [
    "model_baseline = baseline_drone_model(x_baseline_f, x_dims, Q, R, Qf, n_agents, n_dims, radius)"
   ]
  },
  {
   "cell_type": "code",
   "execution_count": 50,
   "metadata": {},
   "outputs": [
    {
     "data": {
      "text/plain": [
       "SX(@1=1000, @2=0.67056, @3=0.3322, @4=0.589424, @5=0.59735, @6=0.0866769, @7=0.324466, @8=0.0406781, @9=0.0136367, @10=0.929077, @11=0.449056, @12=0.608274, @13=0.800826, @14=0.637524, @15=0.414727, @16=0.184916, @17=0.614452, @18=0.838018, @19=0.657215, (((((((((@1*(x_0-@2))*(x_0-@2))+((@1*(x_1-@3))*(x_1-@3)))+((@1*(x_2-@4))*(x_2-@4)))+((@1*(x_3-@5))*(x_3-@5)))+((@1*(x_4-@6))*(x_4-@6)))+((@1*(x_5-@7))*(x_5-@7)))+(((((((@1*(x_0-@8))*(x_0-@8))+((@1*(x_1-@9))*(x_1-@9)))+((@1*(x_2-@10))*(x_2-@10)))+((@1*(x_3-@11))*(x_3-@11)))+((@1*(x_4-@12))*(x_4-@12)))+((@1*(x_5-@13))*(x_5-@13))))+(((((((@1*(x_0-@14))*(x_0-@14))+((@1*(x_1-@15))*(x_1-@15)))+((@1*(x_2-@16))*(x_2-@16)))+((@1*(x_3-@17))*(x_3-@17)))+((@1*(x_4-@18))*(x_4-@18)))+((@1*(x_5-@19))*(x_5-@19)))))"
      ]
     },
     "execution_count": 50,
     "metadata": {},
     "output_type": "execute_result"
    }
   ],
   "source": [
    "model.set_expression('total_stage_cost',np.sum(total_stage_cost))\n",
    "model.set_expression('total_terminal_cost',np.sum(total_terminal_cost))"
   ]
  },
  {
   "cell_type": "code",
   "execution_count": 52,
   "metadata": {},
   "outputs": [],
   "source": [
    "radius = 0.5\n",
    "n_dims = [3,3,3]"
   ]
  },
  {
   "cell_type": "code",
   "execution_count": 68,
   "metadata": {},
   "outputs": [],
   "source": [
    "def compute_pairwise_distance(X, x_dims, n_d=2):\n",
    "    \"\"\"Compute the distance between each pair of agents\"\"\"\n",
    "    assert len(set(x_dims)) == 1\n",
    "\n",
    "    n_agents = len(x_dims)\n",
    "    n_states = x_dims[0]\n",
    "\n",
    "    if n_agents == 1:\n",
    "        raise ValueError(\"Can't compute pairwise distance for one agent.\")\n",
    "\n",
    "    pair_inds = np.array(list(itertools.combinations(range(n_agents), 2)))\n",
    "    X_agent = reshape(X,(n_agents, n_states))\n",
    "    dX = X_agent[:n_d, pair_inds[:, 0]] - X_agent[:n_d, pair_inds[:, 1]]\n",
    "    return np.linalg.norm(dX, axis=0).T"
   ]
  },
  {
   "cell_type": "code",
   "execution_count": 53,
   "metadata": {},
   "outputs": [
    {
     "ename": "AssertionError",
     "evalue": "The variable name x_new for type _x already exists.",
     "output_type": "error",
     "traceback": [
      "\u001b[0;31m---------------------------------------------------------------------------\u001b[0m",
      "\u001b[0;31mAssertionError\u001b[0m                            Traceback (most recent call last)",
      "Input \u001b[0;32mIn [53]\u001b[0m, in \u001b[0;36m<cell line: 1>\u001b[0;34m()\u001b[0m\n\u001b[0;32m----> 1\u001b[0m x_new \u001b[38;5;241m=\u001b[39m \u001b[43mmodel\u001b[49m\u001b[38;5;241;43m.\u001b[39;49m\u001b[43mset_variable\u001b[49m\u001b[43m(\u001b[49m\u001b[43mvar_type\u001b[49m\u001b[38;5;241;43m=\u001b[39;49m\u001b[38;5;124;43m'\u001b[39;49m\u001b[38;5;124;43m_x\u001b[39;49m\u001b[38;5;124;43m'\u001b[39;49m\u001b[43m,\u001b[49m\u001b[43m \u001b[49m\u001b[43mvar_name\u001b[49m\u001b[38;5;241;43m=\u001b[39;49m\u001b[38;5;124;43m'\u001b[39;49m\u001b[38;5;124;43mx_new\u001b[39;49m\u001b[38;5;124;43m'\u001b[39;49m\u001b[43m,\u001b[49m\u001b[43m \u001b[49m\u001b[43mshape\u001b[49m\u001b[38;5;241;43m=\u001b[39;49m\u001b[43m(\u001b[49m\u001b[38;5;241;43m18\u001b[39;49m\u001b[43m,\u001b[49m\u001b[43m \u001b[49m\u001b[38;5;241;43m1\u001b[39;49m\u001b[43m)\u001b[49m\u001b[43m)\u001b[49m\n",
      "File \u001b[0;32m~/anaconda3/envs/Randy/lib/python3.10/site-packages/do_mpc/model.py:791\u001b[0m, in \u001b[0;36mModel.set_variable\u001b[0;34m(self, var_type, var_name, shape)\u001b[0m\n\u001b[1;32m    789\u001b[0m \u001b[38;5;28;01massert\u001b[39;00m var_type \u001b[38;5;129;01min\u001b[39;00m [\u001b[38;5;124m'\u001b[39m\u001b[38;5;124m_x\u001b[39m\u001b[38;5;124m'\u001b[39m,\u001b[38;5;124m'\u001b[39m\u001b[38;5;124m_u\u001b[39m\u001b[38;5;124m'\u001b[39m,\u001b[38;5;124m'\u001b[39m\u001b[38;5;124m_z\u001b[39m\u001b[38;5;124m'\u001b[39m,\u001b[38;5;124m'\u001b[39m\u001b[38;5;124m_p\u001b[39m\u001b[38;5;124m'\u001b[39m,\u001b[38;5;124m'\u001b[39m\u001b[38;5;124m_tvp\u001b[39m\u001b[38;5;124m'\u001b[39m], \u001b[38;5;124m'\u001b[39m\u001b[38;5;124mTrying to set non-existing variable var_type: \u001b[39m\u001b[38;5;132;01m{}\u001b[39;00m\u001b[38;5;124m with var_name \u001b[39m\u001b[38;5;132;01m{}\u001b[39;00m\u001b[38;5;124m'\u001b[39m\u001b[38;5;241m.\u001b[39mformat(var_type, var_name)\n\u001b[1;32m    790\u001b[0m \u001b[38;5;66;03m# Check validity of var_name:\u001b[39;00m\n\u001b[0;32m--> 791\u001b[0m \u001b[38;5;28;01massert\u001b[39;00m var_name \u001b[38;5;129;01mnot\u001b[39;00m \u001b[38;5;129;01min\u001b[39;00m \u001b[38;5;28mgetattr\u001b[39m(\u001b[38;5;28mself\u001b[39m,var_type)[\u001b[38;5;124m'\u001b[39m\u001b[38;5;124mname\u001b[39m\u001b[38;5;124m'\u001b[39m], \u001b[38;5;124m'\u001b[39m\u001b[38;5;124mThe variable name \u001b[39m\u001b[38;5;132;01m{}\u001b[39;00m\u001b[38;5;124m for type \u001b[39m\u001b[38;5;132;01m{}\u001b[39;00m\u001b[38;5;124m already exists.\u001b[39m\u001b[38;5;124m'\u001b[39m\u001b[38;5;241m.\u001b[39mformat(var_name, var_type)\n\u001b[1;32m    793\u001b[0m \u001b[38;5;66;03m# Create variable:\u001b[39;00m\n\u001b[1;32m    794\u001b[0m var \u001b[38;5;241m=\u001b[39m \u001b[38;5;28mself\u001b[39m\u001b[38;5;241m.\u001b[39msv\u001b[38;5;241m.\u001b[39msym(var_name, shape)\n",
      "\u001b[0;31mAssertionError\u001b[0m: The variable name x_new for type _x already exists."
     ]
    }
   ],
   "source": [
    "x_new = model.set_variable(var_type='_x', var_name='x_new', shape=(18, 1))"
   ]
  },
  {
   "cell_type": "code",
   "execution_count": 25,
   "metadata": {},
   "outputs": [],
   "source": [
    "import itertools"
   ]
  },
  {
   "cell_type": "code",
   "execution_count": 81,
   "metadata": {},
   "outputs": [],
   "source": [
    "distances = compute_pairwise_distance(x_baseline_f,x_dims,n_d=3)\n",
    "\n",
    "pair_costs = SX(np.fmin(np.zeros(1), distances - radius) ** 2)"
   ]
  },
  {
   "cell_type": "code",
   "execution_count": 82,
   "metadata": {},
   "outputs": [
    {
     "data": {
      "text/plain": [
       "SX(@1=0, [@1, @1, @1])"
      ]
     },
     "execution_count": 82,
     "metadata": {},
     "output_type": "execute_result"
    }
   ],
   "source": [
    "model.set_expression('total_prox_cost',pair_costs)"
   ]
  },
  {
   "cell_type": "code",
   "execution_count": 65,
   "metadata": {},
   "outputs": [
    {
     "data": {
      "text/plain": [
       "\u001b[0;31mSignature:\u001b[0m \u001b[0mSX\u001b[0m\u001b[0;34m.\u001b[0m\u001b[0mreshape\u001b[0m\u001b[0;34m(\u001b[0m\u001b[0mself\u001b[0m\u001b[0;34m,\u001b[0m \u001b[0marg\u001b[0m\u001b[0;34m)\u001b[0m\u001b[0;34m\u001b[0m\u001b[0;34m\u001b[0m\u001b[0m\n",
       "\u001b[0;31mDocstring:\u001b[0m <no docstring>\n",
       "\u001b[0;31mFile:\u001b[0m      ~/anaconda3/envs/Randy/lib/python3.10/site-packages/casadi/casadi.py\n",
       "\u001b[0;31mType:\u001b[0m      function\n"
      ]
     },
     "metadata": {},
     "output_type": "display_data"
    }
   ],
   "source": [
    "SX.reshape?"
   ]
  },
  {
   "cell_type": "code",
   "execution_count": null,
   "metadata": {},
   "outputs": [],
   "source": []
  }
 ],
 "metadata": {
  "kernelspec": {
   "display_name": "Python 3 (ipykernel)",
   "language": "python",
   "name": "python3"
  },
  "language_info": {
   "codemirror_mode": {
    "name": "ipython",
    "version": 3
   },
   "file_extension": ".py",
   "mimetype": "text/x-python",
   "name": "python",
   "nbconvert_exporter": "python",
   "pygments_lexer": "ipython3",
   "version": "3.10.4"
  },
  "vscode": {
   "interpreter": {
    "hash": "399811294a7819b7e239898a57da83318870bf6cc244d0feadb37fb854947374"
   }
  }
 },
 "nbformat": 4,
 "nbformat_minor": 4
}
