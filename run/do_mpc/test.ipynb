{
 "cells": [
  {
   "cell_type": "code",
   "execution_count": 87,
   "metadata": {},
   "outputs": [],
   "source": [
    "import numpy as np\n",
    "import baseline_model\n",
    "from casadi import *\n",
    "import do_mpc\n",
    "import decentralized as dec\n",
    "import util\n",
    "import sim_drone_main\n",
    "from baseline_model import baseline_drone_model\n",
    "from baseline_model_mpc import baseline_drone_mpc\n",
    "from baseline_model_simulator import baseline_drone_simulator\n",
    "import itertools"
   ]
  },
  {
   "cell_type": "code",
   "execution_count": 88,
   "metadata": {},
   "outputs": [
    {
     "name": "stdout",
     "output_type": "stream",
     "text": [
      "The autoreload extension is already loaded. To reload it, use:\n",
      "  %reload_ext autoreload\n"
     ]
    }
   ],
   "source": [
    "%load_ext autoreload\n",
    "%autoreload 2"
   ]
  },
  {
   "cell_type": "code",
   "execution_count": 3,
   "metadata": {},
   "outputs": [],
   "source": [
    "Q = np.eye(6)\n",
    "R = np.eye(3)\n",
    "n_agents = 3\n",
    "n_inputs = 3\n",
    "n_states = 6\n",
    "Qf = Q*1e3"
   ]
  },
  {
   "cell_type": "code",
   "execution_count": 4,
   "metadata": {},
   "outputs": [],
   "source": [
    "Qs = [Q] * n_agents\n",
    "Rs = [R] * n_agents\n",
    "Qfs = [Qf] * n_agents"
   ]
  },
  {
   "cell_type": "code",
   "execution_count": 143,
   "metadata": {},
   "outputs": [
    {
     "name": "stdout",
     "output_type": "stream",
     "text": [
      "Shape of x is (6, 1)\n",
      "Shape of u is (3, 1)\n"
     ]
    }
   ],
   "source": [
    "model_type = 'continuous' # either 'discrete' or 'continuous'\n",
    "model = do_mpc.model.Model(model_type)\n",
    "\n",
    "x = model.set_variable(var_type='_x', var_name='x', shape=(6, 1))\n",
    "u = model.set_variable(var_type='_u', var_name='u', shape=(3, 1))\n",
    "print(f'Shape of x is {x.shape}')\n",
    "print(f'Shape of u is {u.shape}')\n",
    "#x = p_x,p_y,p_z,v_x,v_y,v_z\n",
    "#u = theta, phi, tau\n",
    "g = 9.81\n",
    "model.set_rhs('x', vertcat(x[3], x[4], x[5], g*np.tan(u[0]), -g*np.tan(u[1]), u[2]-g))"
   ]
  },
  {
   "cell_type": "code",
   "execution_count": 144,
   "metadata": {},
   "outputs": [],
   "source": [
    "theta_max = np.pi/6\n",
    "phi_max = np.pi/6\n",
    "tau_max = 5\n",
    "v_max = 5\n",
    "\n",
    "x_dims = [6,6,6]\n",
    "\n",
    "Q = np.eye(n_states)*10\n",
    "Qf = np.eye(n_states)*1e3\n",
    "R = np.eye(n_inputs)\n",
    "\n",
    "radius = 0.5\n",
    "n_dims = [3,3,3]\n",
    "episode=200\n",
    "x_baseline_init, x_baseline_f = util.paper_setup_3_quads() \n",
    "#concatenated initial and final states of all 3 agents\n",
    "\n",
    "x_baseline1 = x_baseline_init\n",
    "\n",
    "states_list = np.zeros((episode+1,9)) #positions of each drone\n",
    "states_list[0,:] = np.array([x_baseline1[0],x_baseline1[1],x_baseline1[2],\\\n",
    "                        x_baseline1[6],x_baseline1[7],x_baseline1[8],\\\n",
    "                        x_baseline1[12],x_baseline1[13],x_baseline1[14]]).flatten()"
   ]
  },
  {
   "cell_type": "code",
   "execution_count": 153,
   "metadata": {},
   "outputs": [
    {
     "name": "stdout",
     "output_type": "stream",
     "text": [
      "Shape of x is (6, 1)\n",
      "Shape of u is (3, 1)\n"
     ]
    },
    {
     "data": {
      "text/plain": [
       "<do_mpc.model.Model at 0x7f52a0a56fb0>"
      ]
     },
     "execution_count": 153,
     "metadata": {},
     "output_type": "execute_result"
    }
   ],
   "source": [
    "baseline_drone_model(dec.split_agents(x_baseline_f.reshape(1,-1),x_dims)[0].flatten(), Q, R, Qf)"
   ]
  },
  {
   "cell_type": "code",
   "execution_count": 160,
   "metadata": {},
   "outputs": [
    {
     "name": "stdout",
     "output_type": "stream",
     "text": [
      "Shape of x is (6, 1)\n",
      "Shape of u is (3, 1)\n",
      "Shape of x is (6, 1)\n",
      "Shape of u is (3, 1)\n",
      "Shape of x is (6, 1)\n",
      "Shape of u is (3, 1)\n"
     ]
    }
   ],
   "source": [
    "model_baseline = [baseline_drone_model(dec.split_agents(x_baseline_f.reshape(1,-1),x_dims)[i].flatten(), Q, R, Qf) for i in range(n_agents)]"
   ]
  },
  {
   "cell_type": "code",
   "execution_count": 161,
   "metadata": {},
   "outputs": [
    {
     "data": {
      "text/plain": [
       "3"
      ]
     },
     "execution_count": 161,
     "metadata": {},
     "output_type": "execute_result"
    }
   ],
   "source": [
    "len(model_baseline)"
   ]
  },
  {
   "cell_type": "code",
   "execution_count": 162,
   "metadata": {},
   "outputs": [
    {
     "ename": "Exception",
     "evalue": "Error occured in struct context with powerIndex ('total_prox_cost',), at canonicalIndex ()",
     "output_type": "error",
     "traceback": [
      "\u001b[0;31m---------------------------------------------------------------------------\u001b[0m",
      "\u001b[0;31mException\u001b[0m                                 Traceback (most recent call last)",
      "File \u001b[0;32m~/anaconda3/envs/Randy/lib/python3.10/site-packages/casadi/tools/structure3.py:349\u001b[0m, in \u001b[0;36mStructure.traverseByPowerIndex\u001b[0;34m(self, powerIndex, canonicalIndex, dispatcher, payload)\u001b[0m\n\u001b[1;32m    348\u001b[0m \u001b[38;5;28;01mif\u001b[39;00m is_string(p):\n\u001b[0;32m--> 349\u001b[0m   \u001b[38;5;28;01mreturn\u001b[39;00m \u001b[38;5;28;43mself\u001b[39;49m\u001b[38;5;241;43m.\u001b[39;49m\u001b[43mdict\u001b[49m\u001b[43m[\u001b[49m\u001b[43mp\u001b[49m\u001b[43m]\u001b[49m\u001b[38;5;241m.\u001b[39mtraverseByPowerIndex(\n\u001b[1;32m    350\u001b[0m     powerIndex[\u001b[38;5;241m1\u001b[39m:],\n\u001b[1;32m    351\u001b[0m     canonicalIndex\u001b[38;5;241m=\u001b[39mcanonicalIndex\u001b[38;5;241m+\u001b[39m(p,),\n\u001b[1;32m    352\u001b[0m     dispatcher\u001b[38;5;241m=\u001b[39mdispatcher,\n\u001b[1;32m    353\u001b[0m     payload\u001b[38;5;241m=\u001b[39mpayload\n\u001b[1;32m    354\u001b[0m   )\n\u001b[1;32m    355\u001b[0m \u001b[38;5;28;01melif\u001b[39;00m \u001b[38;5;28misinstance\u001b[39m(p,\u001b[38;5;28mslice\u001b[39m):\n",
      "File \u001b[0;32m~/anaconda3/envs/Randy/lib/python3.10/site-packages/casadi/tools/structure3.py:130\u001b[0m, in \u001b[0;36mSafeDict.__getitem__\u001b[0;34m(self, k)\u001b[0m\n\u001b[1;32m    129\u001b[0m \u001b[38;5;28;01mif\u001b[39;00m k \u001b[38;5;129;01mnot\u001b[39;00m \u001b[38;5;129;01min\u001b[39;00m \u001b[38;5;28mself\u001b[39m:\n\u001b[0;32m--> 130\u001b[0m   \u001b[38;5;28;01mraise\u001b[39;00m \u001b[38;5;167;01mException\u001b[39;00m(\u001b[38;5;124m\"\u001b[39m\u001b[38;5;124mUnknown keyword \u001b[39m\u001b[38;5;124m'\u001b[39m\u001b[38;5;132;01m%s\u001b[39;00m\u001b[38;5;124m'\u001b[39m\u001b[38;5;124m. Available entries: \u001b[39m\u001b[38;5;132;01m%s\u001b[39;00m\u001b[38;5;124m\"\u001b[39m \u001b[38;5;241m%\u001b[39m (k,\u001b[38;5;28mstr\u001b[39m(\u001b[38;5;28mlist\u001b[39m(\u001b[38;5;28mself\u001b[39m\u001b[38;5;241m.\u001b[39mkeys()))))\n\u001b[1;32m    131\u001b[0m \u001b[38;5;28;01mreturn\u001b[39;00m \u001b[38;5;28mdict\u001b[39m\u001b[38;5;241m.\u001b[39m\u001b[38;5;21m__getitem__\u001b[39m(\u001b[38;5;28mself\u001b[39m,k)\n",
      "\u001b[0;31mException\u001b[0m: Unknown keyword 'total_prox_cost'. Available entries: ['default', 'total_stage_cost', 'total_terminal_cost']",
      "\nThe above exception was the direct cause of the following exception:\n",
      "\u001b[0;31mException\u001b[0m                                 Traceback (most recent call last)",
      "Input \u001b[0;32mIn [162]\u001b[0m, in \u001b[0;36m<cell line: 1>\u001b[0;34m()\u001b[0m\n\u001b[0;32m----> 1\u001b[0m mpc_baseline \u001b[38;5;241m=\u001b[39m [baseline_drone_mpc(model_i, v_max, theta_max, phi_max, tau_max) \u001b[38;5;28;01mfor\u001b[39;00m model_i \u001b[38;5;129;01min\u001b[39;00m model_baseline]\n",
      "Input \u001b[0;32mIn [162]\u001b[0m, in \u001b[0;36m<listcomp>\u001b[0;34m(.0)\u001b[0m\n\u001b[0;32m----> 1\u001b[0m mpc_baseline \u001b[38;5;241m=\u001b[39m [\u001b[43mbaseline_drone_mpc\u001b[49m\u001b[43m(\u001b[49m\u001b[43mmodel_i\u001b[49m\u001b[43m,\u001b[49m\u001b[43m \u001b[49m\u001b[43mv_max\u001b[49m\u001b[43m,\u001b[49m\u001b[43m \u001b[49m\u001b[43mtheta_max\u001b[49m\u001b[43m,\u001b[49m\u001b[43m \u001b[49m\u001b[43mphi_max\u001b[49m\u001b[43m,\u001b[49m\u001b[43m \u001b[49m\u001b[43mtau_max\u001b[49m\u001b[43m)\u001b[49m \u001b[38;5;28;01mfor\u001b[39;00m model_i \u001b[38;5;129;01min\u001b[39;00m model_baseline]\n",
      "File \u001b[0;32m/mnt/c/Users/Randy666/Documents/projects/ICON_lab/decentralized/run/do_mpc/baseline_model_mpc.py:25\u001b[0m, in \u001b[0;36mbaseline_drone_mpc\u001b[0;34m(model, v_max, theta_max, phi_max, tau_max)\u001b[0m\n\u001b[1;32m     11\u001b[0m setup_mpc \u001b[38;5;241m=\u001b[39m {\n\u001b[1;32m     12\u001b[0m     \u001b[38;5;124m'\u001b[39m\u001b[38;5;124mn_horizon\u001b[39m\u001b[38;5;124m'\u001b[39m: \u001b[38;5;241m5\u001b[39m,\n\u001b[1;32m     13\u001b[0m     \u001b[38;5;124m'\u001b[39m\u001b[38;5;124mn_robust\u001b[39m\u001b[38;5;124m'\u001b[39m: \u001b[38;5;241m0\u001b[39m,\n\u001b[0;32m   (...)\u001b[0m\n\u001b[1;32m     20\u001b[0m     \u001b[38;5;124m'\u001b[39m\u001b[38;5;124mstore_full_solution\u001b[39m\u001b[38;5;124m'\u001b[39m: \u001b[38;5;28;01mTrue\u001b[39;00m\n\u001b[1;32m     21\u001b[0m }\n\u001b[1;32m     23\u001b[0m mpc\u001b[38;5;241m.\u001b[39mset_param(\u001b[38;5;241m*\u001b[39m\u001b[38;5;241m*\u001b[39msetup_mpc)\n\u001b[0;32m---> 25\u001b[0m mpc\u001b[38;5;241m.\u001b[39mset_nl_cons(\u001b[38;5;124m'\u001b[39m\u001b[38;5;124mcollision\u001b[39m\u001b[38;5;124m'\u001b[39m,\u001b[43mmodel\u001b[49m\u001b[38;5;241;43m.\u001b[39;49m\u001b[43maux\u001b[49m\u001b[43m[\u001b[49m\u001b[38;5;124;43m'\u001b[39;49m\u001b[38;5;124;43mtotal_prox_cost\u001b[39;49m\u001b[38;5;124;43m'\u001b[39;49m\u001b[43m]\u001b[49m,\u001b[38;5;241m0\u001b[39m) \n\u001b[1;32m     26\u001b[0m \u001b[38;5;66;03m#in this case we want the collision avoidance cost inccured to be 0, which means their \u001b[39;00m\n\u001b[1;32m     27\u001b[0m \u001b[38;5;66;03m#pairwise distances must be > radius\u001b[39;00m\n\u001b[1;32m     29\u001b[0m \u001b[38;5;124;03m\"\"\"\u001b[39;00m\n\u001b[1;32m     30\u001b[0m \u001b[38;5;124;03mTODO: how to separate the goal_costs and terminal_costs for each agent and add them to mpc.set_objective?\u001b[39;00m\n\u001b[1;32m     31\u001b[0m \u001b[38;5;124;03mmterm: terminal cost\u001b[39;00m\n\u001b[1;32m     32\u001b[0m \u001b[38;5;124;03mlterm: stage cost\u001b[39;00m\n\u001b[1;32m     33\u001b[0m \u001b[38;5;124;03m\"\"\"\u001b[39;00m\n",
      "File \u001b[0;32m~/anaconda3/envs/Randy/lib/python3.10/site-packages/casadi/tools/structure3.py:123\u001b[0m, in \u001b[0;36mproperGetitem.<locals>.proper\u001b[0;34m(self, mbt, *args)\u001b[0m\n\u001b[1;32m    121\u001b[0m \u001b[38;5;28;01mif\u001b[39;00m \u001b[38;5;129;01mnot\u001b[39;00m \u001b[38;5;28misinstance\u001b[39m(mbt,\u001b[38;5;28mtuple\u001b[39m):\n\u001b[1;32m    122\u001b[0m   mbt \u001b[38;5;241m=\u001b[39m (mbt,)\n\u001b[0;32m--> 123\u001b[0m \u001b[38;5;28;01mreturn\u001b[39;00m \u001b[43mf\u001b[49m\u001b[43m(\u001b[49m\u001b[38;5;28;43mself\u001b[39;49m\u001b[43m,\u001b[49m\u001b[43mmbt\u001b[49m\u001b[43m,\u001b[49m\u001b[38;5;241;43m*\u001b[39;49m\u001b[43margs\u001b[49m\u001b[43m)\u001b[49m\n",
      "File \u001b[0;32m~/anaconda3/envs/Randy/lib/python3.10/site-packages/casadi/tools/structure3.py:634\u001b[0m, in \u001b[0;36mMasterGettable.__getitem__\u001b[0;34m(self, powerIndex)\u001b[0m\n\u001b[1;32m    632\u001b[0m \u001b[38;5;129m@properGetitem\u001b[39m\n\u001b[1;32m    633\u001b[0m \u001b[38;5;28;01mdef\u001b[39;00m \u001b[38;5;21m__getitem__\u001b[39m(\u001b[38;5;28mself\u001b[39m,powerIndex):\n\u001b[0;32m--> 634\u001b[0m   \u001b[38;5;28;01mreturn\u001b[39;00m \u001b[38;5;28;43mself\u001b[39;49m\u001b[38;5;241;43m.\u001b[39;49m\u001b[43mstruct\u001b[49m\u001b[38;5;241;43m.\u001b[39;49m\u001b[43mtraverseByPowerIndex\u001b[49m\u001b[43m(\u001b[49m\u001b[43mpowerIndex\u001b[49m\u001b[43m,\u001b[49m\u001b[43mdispatcher\u001b[49m\u001b[38;5;241;43m=\u001b[39;49m\u001b[43mGetterDispatcher\u001b[49m\u001b[43m(\u001b[49m\u001b[43mstruct\u001b[49m\u001b[38;5;241;43m=\u001b[39;49m\u001b[38;5;28;43mself\u001b[39;49m\u001b[38;5;241;43m.\u001b[39;49m\u001b[43mstruct\u001b[49m\u001b[43m,\u001b[49m\u001b[43mmaster\u001b[49m\u001b[38;5;241;43m=\u001b[39;49m\u001b[38;5;28;43mself\u001b[39;49m\u001b[38;5;241;43m.\u001b[39;49m\u001b[43mmaster\u001b[49m\u001b[43m,\u001b[49m\u001b[43mpriority_object_map\u001b[49m\u001b[38;5;241;43m=\u001b[39;49m\u001b[38;5;28;43mself\u001b[39;49m\u001b[38;5;241;43m.\u001b[39;49m\u001b[43mpriority_object_map\u001b[49m\u001b[43m)\u001b[49m\u001b[43m)\u001b[49m\n",
      "File \u001b[0;32m~/anaconda3/envs/Randy/lib/python3.10/site-packages/casadi/tools/structure3.py:435\u001b[0m, in \u001b[0;36mStructure.traverseByPowerIndex\u001b[0;34m(self, powerIndex, canonicalIndex, dispatcher, payload)\u001b[0m\n\u001b[1;32m    433\u001b[0m     \u001b[38;5;28;01mraise\u001b[39;00m \u001b[38;5;167;01mException\u001b[39;00m(\u001b[38;5;124m\"\u001b[39m\u001b[38;5;124mI don\u001b[39m\u001b[38;5;124m'\u001b[39m\u001b[38;5;124mt know what to do with this: \u001b[39m\u001b[38;5;132;01m%s\u001b[39;00m\u001b[38;5;124m\"\u001b[39m \u001b[38;5;241m%\u001b[39m \u001b[38;5;28mstr\u001b[39m(p))\n\u001b[1;32m    434\u001b[0m \u001b[38;5;28;01mexcept\u001b[39;00m \u001b[38;5;167;01mException\u001b[39;00m \u001b[38;5;28;01mas\u001b[39;00m e:\n\u001b[0;32m--> 435\u001b[0m   \u001b[38;5;28;01mraise\u001b[39;00m \u001b[38;5;167;01mException\u001b[39;00m(\u001b[38;5;124m\"\u001b[39m\u001b[38;5;124mError occured in struct context with powerIndex \u001b[39m\u001b[38;5;132;01m%s\u001b[39;00m\u001b[38;5;124m, at canonicalIndex \u001b[39m\u001b[38;5;132;01m%s\u001b[39;00m\u001b[38;5;124m\"\u001b[39m \u001b[38;5;241m%\u001b[39m (\u001b[38;5;28mstr\u001b[39m(powerIndex),\u001b[38;5;28mstr\u001b[39m(canonicalIndex))) \u001b[38;5;28;01mfrom\u001b[39;00m \u001b[38;5;21;01me\u001b[39;00m\n",
      "\u001b[0;31mException\u001b[0m: Error occured in struct context with powerIndex ('total_prox_cost',), at canonicalIndex ()"
     ]
    }
   ],
   "source": [
    "mpc_baseline = [baseline_drone_mpc(model_i, v_max, theta_max, phi_max, tau_max) for model_i in model_baseline]"
   ]
  },
  {
   "cell_type": "code",
   "execution_count": 89,
   "metadata": {},
   "outputs": [],
   "source": [
    "simulator_baseline = baseline_drone_simulator(model_baseline)"
   ]
  },
  {
   "cell_type": "code",
   "execution_count": 94,
   "metadata": {},
   "outputs": [
    {
     "ename": "Exception",
     "evalue": "Error occured in struct context with powerIndex ('x',), at canonicalIndex ()",
     "output_type": "error",
     "traceback": [
      "\u001b[0;31m---------------------------------------------------------------------------\u001b[0m",
      "\u001b[0;31mRuntimeError\u001b[0m                              Traceback (most recent call last)",
      "File \u001b[0;32m~/anaconda3/envs/Randy/lib/python3.10/site-packages/casadi/tools/structure3.py:599\u001b[0m, in \u001b[0;36mSetterDispatcher.__call__\u001b[0;34m(self, payload, canonicalIndex, extraIndex, entry)\u001b[0m\n\u001b[1;32m    598\u001b[0m \u001b[38;5;28;01mif\u001b[39;00m \u001b[38;5;28mtype\u001b[39m \u001b[38;5;129;01mis\u001b[39;00m \u001b[38;5;28;01mNone\u001b[39;00m:\n\u001b[0;32m--> 599\u001b[0m   \u001b[38;5;28mself\u001b[39m\u001b[38;5;241m.\u001b[39mmaster[i] \u001b[38;5;241m=\u001b[39m payload_\n\u001b[1;32m    600\u001b[0m \u001b[38;5;28;01melif\u001b[39;00m \u001b[38;5;28mtype\u001b[39m\u001b[38;5;241m==\u001b[39m\u001b[38;5;124m\"\u001b[39m\u001b[38;5;124msymm\u001b[39m\u001b[38;5;124m\"\u001b[39m:\n",
      "File \u001b[0;32m~/anaconda3/envs/Randy/lib/python3.10/site-packages/casadi/casadi.py:7481\u001b[0m, in \u001b[0;36mDM.__setitem__\u001b[0;34m(self, s, val)\u001b[0m\n\u001b[1;32m   7480\u001b[0m   \u001b[38;5;28;01mreturn\u001b[39;00m \u001b[38;5;28mself\u001b[39m\u001b[38;5;241m.\u001b[39mset(val, \u001b[38;5;28;01mFalse\u001b[39;00m, s[\u001b[38;5;241m0\u001b[39m], s[\u001b[38;5;241m1\u001b[39m])\n\u001b[0;32m-> 7481\u001b[0m \u001b[38;5;28;01mreturn\u001b[39;00m \u001b[38;5;28;43mself\u001b[39;49m\u001b[38;5;241;43m.\u001b[39;49m\u001b[43mset\u001b[49m\u001b[43m(\u001b[49m\u001b[43mval\u001b[49m\u001b[43m,\u001b[49m\u001b[43m \u001b[49m\u001b[38;5;28;43;01mFalse\u001b[39;49;00m\u001b[43m,\u001b[49m\u001b[43m \u001b[49m\u001b[43ms\u001b[49m\u001b[43m)\u001b[49m\n",
      "File \u001b[0;32m~/anaconda3/envs/Randy/lib/python3.10/site-packages/casadi/casadi.py:6372\u001b[0m, in \u001b[0;36mDM.set\u001b[0;34m(self, *args)\u001b[0m\n\u001b[1;32m   6358\u001b[0m \u001b[38;5;124;03m\"\"\"\u001b[39;00m\n\u001b[1;32m   6359\u001b[0m \n\u001b[1;32m   6360\u001b[0m \n\u001b[0;32m   (...)\u001b[0m\n\u001b[1;32m   6370\u001b[0m \n\u001b[1;32m   6371\u001b[0m \u001b[38;5;124;03m\"\"\"\u001b[39;00m\n\u001b[0;32m-> 6372\u001b[0m \u001b[38;5;28;01mreturn\u001b[39;00m \u001b[43m_casadi\u001b[49m\u001b[38;5;241;43m.\u001b[39;49m\u001b[43mDM_set\u001b[49m\u001b[43m(\u001b[49m\u001b[38;5;28;43mself\u001b[39;49m\u001b[43m,\u001b[49m\u001b[43m \u001b[49m\u001b[38;5;241;43m*\u001b[39;49m\u001b[43margs\u001b[49m\u001b[43m)\u001b[49m\n",
      "\u001b[0;31mRuntimeError\u001b[0m: .../casadi/core/matrix_impl.hpp:329: Dimension mismatch. lhs is [6,1], while rhs is [18,1]",
      "\nThe above exception was the direct cause of the following exception:\n",
      "\u001b[0;31mException\u001b[0m                                 Traceback (most recent call last)",
      "File \u001b[0;32m~/anaconda3/envs/Randy/lib/python3.10/site-packages/casadi/tools/structure3.py:218\u001b[0m, in \u001b[0;36mStructEntry.traverseByPowerIndex\u001b[0;34m(self, powerIndex, dims, canonicalIndex, dispatcher, payload)\u001b[0m\n\u001b[1;32m    217\u001b[0m   \u001b[38;5;28;01melse\u001b[39;00m:\n\u001b[0;32m--> 218\u001b[0m     \u001b[38;5;28;01mreturn\u001b[39;00m \u001b[43mdispatcher\u001b[49m\u001b[43m(\u001b[49m\u001b[43mpayload\u001b[49m\u001b[43m,\u001b[49m\u001b[43mcanonicalIndex\u001b[49m\u001b[43m,\u001b[49m\u001b[43mentry\u001b[49m\u001b[38;5;241;43m=\u001b[39;49m\u001b[38;5;28;43mself\u001b[39;49m\u001b[43m)\u001b[49m\n\u001b[1;32m    220\u001b[0m \u001b[38;5;28;01mif\u001b[39;00m \u001b[38;5;28mlen\u001b[39m(dims)\u001b[38;5;241m==\u001b[39m\u001b[38;5;241m0\u001b[39m:\n",
      "File \u001b[0;32m~/anaconda3/envs/Randy/lib/python3.10/site-packages/casadi/tools/structure3.py:616\u001b[0m, in \u001b[0;36mSetterDispatcher.__call__\u001b[0;34m(self, payload, canonicalIndex, extraIndex, entry)\u001b[0m\n\u001b[1;32m    615\u001b[0m   \u001b[38;5;28;01mexcept\u001b[39;00m \u001b[38;5;167;01mException\u001b[39;00m \u001b[38;5;28;01mas\u001b[39;00m e:\n\u001b[0;32m--> 616\u001b[0m     \u001b[38;5;28;01mraise\u001b[39;00m \u001b[38;5;167;01mException\u001b[39;00m(\u001b[38;5;124m\"\u001b[39m\u001b[38;5;124mError in powerIndex slicing for canonicalIndex \u001b[39m\u001b[38;5;132;01m%s\u001b[39;00m\u001b[38;5;124m\"\u001b[39m \u001b[38;5;241m%\u001b[39m (\u001b[38;5;28mstr\u001b[39m(canonicalIndex))) \u001b[38;5;28;01mfrom\u001b[39;00m \u001b[38;5;21;01me\u001b[39;00m\n\u001b[1;32m    617\u001b[0m \u001b[38;5;28;01melse\u001b[39;00m:\n",
      "\u001b[0;31mException\u001b[0m: Error in powerIndex slicing for canonicalIndex ('x',)",
      "\nThe above exception was the direct cause of the following exception:\n",
      "\u001b[0;31mException\u001b[0m                                 Traceback (most recent call last)",
      "File \u001b[0;32m~/anaconda3/envs/Randy/lib/python3.10/site-packages/casadi/tools/structure3.py:349\u001b[0m, in \u001b[0;36mStructure.traverseByPowerIndex\u001b[0;34m(self, powerIndex, canonicalIndex, dispatcher, payload)\u001b[0m\n\u001b[1;32m    348\u001b[0m \u001b[38;5;28;01mif\u001b[39;00m is_string(p):\n\u001b[0;32m--> 349\u001b[0m   \u001b[38;5;28;01mreturn\u001b[39;00m \u001b[38;5;28;43mself\u001b[39;49m\u001b[38;5;241;43m.\u001b[39;49m\u001b[43mdict\u001b[49m\u001b[43m[\u001b[49m\u001b[43mp\u001b[49m\u001b[43m]\u001b[49m\u001b[38;5;241;43m.\u001b[39;49m\u001b[43mtraverseByPowerIndex\u001b[49m\u001b[43m(\u001b[49m\n\u001b[1;32m    350\u001b[0m \u001b[43m    \u001b[49m\u001b[43mpowerIndex\u001b[49m\u001b[43m[\u001b[49m\u001b[38;5;241;43m1\u001b[39;49m\u001b[43m:\u001b[49m\u001b[43m]\u001b[49m\u001b[43m,\u001b[49m\n\u001b[1;32m    351\u001b[0m \u001b[43m    \u001b[49m\u001b[43mcanonicalIndex\u001b[49m\u001b[38;5;241;43m=\u001b[39;49m\u001b[43mcanonicalIndex\u001b[49m\u001b[38;5;241;43m+\u001b[39;49m\u001b[43m(\u001b[49m\u001b[43mp\u001b[49m\u001b[43m,\u001b[49m\u001b[43m)\u001b[49m\u001b[43m,\u001b[49m\n\u001b[1;32m    352\u001b[0m \u001b[43m    \u001b[49m\u001b[43mdispatcher\u001b[49m\u001b[38;5;241;43m=\u001b[39;49m\u001b[43mdispatcher\u001b[49m\u001b[43m,\u001b[49m\n\u001b[1;32m    353\u001b[0m \u001b[43m    \u001b[49m\u001b[43mpayload\u001b[49m\u001b[38;5;241;43m=\u001b[39;49m\u001b[43mpayload\u001b[49m\n\u001b[1;32m    354\u001b[0m \u001b[43m  \u001b[49m\u001b[43m)\u001b[49m\n\u001b[1;32m    355\u001b[0m \u001b[38;5;28;01melif\u001b[39;00m \u001b[38;5;28misinstance\u001b[39m(p,\u001b[38;5;28mslice\u001b[39m):\n",
      "File \u001b[0;32m~/anaconda3/envs/Randy/lib/python3.10/site-packages/casadi/tools/structure3.py:279\u001b[0m, in \u001b[0;36mStructEntry.traverseByPowerIndex\u001b[0;34m(self, powerIndex, dims, canonicalIndex, dispatcher, payload)\u001b[0m\n\u001b[1;32m    278\u001b[0m \u001b[38;5;28;01mexcept\u001b[39;00m \u001b[38;5;167;01mException\u001b[39;00m \u001b[38;5;28;01mas\u001b[39;00m e:\n\u001b[0;32m--> 279\u001b[0m   \u001b[38;5;28;01mraise\u001b[39;00m \u001b[38;5;167;01mException\u001b[39;00m(\u001b[38;5;124m\"\u001b[39m\u001b[38;5;124mError occured in entry context with powerIndex \u001b[39m\u001b[38;5;132;01m%s\u001b[39;00m\u001b[38;5;124m, at canonicalIndex \u001b[39m\u001b[38;5;132;01m%s\u001b[39;00m\u001b[38;5;124m\"\u001b[39m \u001b[38;5;241m%\u001b[39m (\u001b[38;5;28mstr\u001b[39m(powerIndex),\u001b[38;5;28mstr\u001b[39m(canonicalIndex))) \u001b[38;5;28;01mfrom\u001b[39;00m \u001b[38;5;21;01me\u001b[39;00m\n",
      "\u001b[0;31mException\u001b[0m: Error occured in entry context with powerIndex (), at canonicalIndex ('x',)",
      "\nThe above exception was the direct cause of the following exception:\n",
      "\u001b[0;31mException\u001b[0m                                 Traceback (most recent call last)",
      "Input \u001b[0;32mIn [94]\u001b[0m, in \u001b[0;36m<cell line: 1>\u001b[0;34m()\u001b[0m\n\u001b[0;32m----> 1\u001b[0m simulator_baseline\u001b[38;5;241m.\u001b[39mx0[\u001b[38;5;124m'\u001b[39m\u001b[38;5;124mx\u001b[39m\u001b[38;5;124m'\u001b[39m] \u001b[38;5;241m=\u001b[39m x_baseline1\n",
      "File \u001b[0;32m~/anaconda3/envs/Randy/lib/python3.10/site-packages/casadi/tools/structure3.py:123\u001b[0m, in \u001b[0;36mproperGetitem.<locals>.proper\u001b[0;34m(self, mbt, *args)\u001b[0m\n\u001b[1;32m    121\u001b[0m \u001b[38;5;28;01mif\u001b[39;00m \u001b[38;5;129;01mnot\u001b[39;00m \u001b[38;5;28misinstance\u001b[39m(mbt,\u001b[38;5;28mtuple\u001b[39m):\n\u001b[1;32m    122\u001b[0m   mbt \u001b[38;5;241m=\u001b[39m (mbt,)\n\u001b[0;32m--> 123\u001b[0m \u001b[38;5;28;01mreturn\u001b[39;00m \u001b[43mf\u001b[49m\u001b[43m(\u001b[49m\u001b[38;5;28;43mself\u001b[39;49m\u001b[43m,\u001b[49m\u001b[43mmbt\u001b[49m\u001b[43m,\u001b[49m\u001b[38;5;241;43m*\u001b[39;49m\u001b[43margs\u001b[49m\u001b[43m)\u001b[49m\n",
      "File \u001b[0;32m~/anaconda3/envs/Randy/lib/python3.10/site-packages/casadi/tools/structure3.py:639\u001b[0m, in \u001b[0;36mMasterSettable.__setitem__\u001b[0;34m(self, powerIndex, value)\u001b[0m\n\u001b[1;32m    637\u001b[0m \u001b[38;5;129m@properGetitem\u001b[39m\n\u001b[1;32m    638\u001b[0m \u001b[38;5;28;01mdef\u001b[39;00m \u001b[38;5;21m__setitem__\u001b[39m(\u001b[38;5;28mself\u001b[39m,powerIndex,value):\n\u001b[0;32m--> 639\u001b[0m   \u001b[38;5;28;01mreturn\u001b[39;00m \u001b[38;5;28;43mself\u001b[39;49m\u001b[38;5;241;43m.\u001b[39;49m\u001b[43mstruct\u001b[49m\u001b[38;5;241;43m.\u001b[39;49m\u001b[43mtraverseByPowerIndex\u001b[49m\u001b[43m(\u001b[49m\u001b[43mpowerIndex\u001b[49m\u001b[43m,\u001b[49m\u001b[43mdispatcher\u001b[49m\u001b[38;5;241;43m=\u001b[39;49m\n\u001b[1;32m    640\u001b[0m \u001b[43m  \u001b[49m\u001b[43mSetterDispatcher\u001b[49m\u001b[43m(\u001b[49m\u001b[43mstruct\u001b[49m\u001b[38;5;241;43m=\u001b[39;49m\u001b[38;5;28;43mself\u001b[39;49m\u001b[38;5;241;43m.\u001b[39;49m\u001b[43mstruct\u001b[49m\u001b[43m,\u001b[49m\u001b[43mmaster\u001b[49m\u001b[38;5;241;43m=\u001b[39;49m\u001b[38;5;28;43mself\u001b[39;49m\u001b[38;5;241;43m.\u001b[39;49m\u001b[43mmaster\u001b[49m\u001b[43m,\u001b[49m\u001b[43mmtype\u001b[49m\u001b[38;5;241;43m=\u001b[39;49m\u001b[38;5;28;43mself\u001b[39;49m\u001b[38;5;241;43m.\u001b[39;49m\u001b[43mmtype\u001b[49m\u001b[43m)\u001b[49m\u001b[43m,\u001b[49m\u001b[43mpayload\u001b[49m\u001b[38;5;241;43m=\u001b[39;49m\u001b[43mvalue\u001b[49m\u001b[43m)\u001b[49m\n",
      "File \u001b[0;32m~/anaconda3/envs/Randy/lib/python3.10/site-packages/casadi/tools/structure3.py:435\u001b[0m, in \u001b[0;36mStructure.traverseByPowerIndex\u001b[0;34m(self, powerIndex, canonicalIndex, dispatcher, payload)\u001b[0m\n\u001b[1;32m    433\u001b[0m     \u001b[38;5;28;01mraise\u001b[39;00m \u001b[38;5;167;01mException\u001b[39;00m(\u001b[38;5;124m\"\u001b[39m\u001b[38;5;124mI don\u001b[39m\u001b[38;5;124m'\u001b[39m\u001b[38;5;124mt know what to do with this: \u001b[39m\u001b[38;5;132;01m%s\u001b[39;00m\u001b[38;5;124m\"\u001b[39m \u001b[38;5;241m%\u001b[39m \u001b[38;5;28mstr\u001b[39m(p))\n\u001b[1;32m    434\u001b[0m \u001b[38;5;28;01mexcept\u001b[39;00m \u001b[38;5;167;01mException\u001b[39;00m \u001b[38;5;28;01mas\u001b[39;00m e:\n\u001b[0;32m--> 435\u001b[0m   \u001b[38;5;28;01mraise\u001b[39;00m \u001b[38;5;167;01mException\u001b[39;00m(\u001b[38;5;124m\"\u001b[39m\u001b[38;5;124mError occured in struct context with powerIndex \u001b[39m\u001b[38;5;132;01m%s\u001b[39;00m\u001b[38;5;124m, at canonicalIndex \u001b[39m\u001b[38;5;132;01m%s\u001b[39;00m\u001b[38;5;124m\"\u001b[39m \u001b[38;5;241m%\u001b[39m (\u001b[38;5;28mstr\u001b[39m(powerIndex),\u001b[38;5;28mstr\u001b[39m(canonicalIndex))) \u001b[38;5;28;01mfrom\u001b[39;00m \u001b[38;5;21;01me\u001b[39;00m\n",
      "\u001b[0;31mException\u001b[0m: Error occured in struct context with powerIndex ('x',), at canonicalIndex ()"
     ]
    }
   ],
   "source": [
    "simulator_baseline.x0['x'] = x_baseline1"
   ]
  },
  {
   "cell_type": "code",
   "execution_count": null,
   "metadata": {},
   "outputs": [],
   "source": []
  }
 ],
 "metadata": {
  "kernelspec": {
   "display_name": "Python 3 (ipykernel)",
   "language": "python",
   "name": "python3"
  },
  "language_info": {
   "codemirror_mode": {
    "name": "ipython",
    "version": 3
   },
   "file_extension": ".py",
   "mimetype": "text/x-python",
   "name": "python",
   "nbconvert_exporter": "python",
   "pygments_lexer": "ipython3",
   "version": "3.10.4"
  },
  "vscode": {
   "interpreter": {
    "hash": "399811294a7819b7e239898a57da83318870bf6cc244d0feadb37fb854947374"
   }
  }
 },
 "nbformat": 4,
 "nbformat_minor": 4
}
