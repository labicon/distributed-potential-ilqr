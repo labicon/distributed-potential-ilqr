{
 "cells": [
  {
   "cell_type": "markdown",
   "id": "f4c0c84e-5811-4ffc-930d-0d8b4e85b4b1",
   "metadata": {
    "tags": []
   },
   "source": [
    "# Derivations\n",
    "Specifically of discretizing and linearizing continuous time dynamics as well as quadraticizing costs."
   ]
  },
  {
   "cell_type": "markdown",
   "id": "84423b58-761d-4212-ae1b-17a53a3b541a",
   "metadata": {},
   "source": [
    "References:\n",
    "1. [Jackson, Howell - iLQR Tutorial](http://roboticexplorationlab.org/papers/iLQR_Tutorial.pdf)\n",
    "1. [Kavuncu et. al. - Potential iLQR](https://arxiv.org/pdf/2107.04926.pdf)\n",
    "1. [Pyomo - 2.6 Model Predictive Control of a Double Integrator](https://jckantor.github.io/ND-Pyomo-Cookbook/02.06-Model-Predictive-Control-of-a-Double-Integrator.html)\n",
    "1. [Discretizing an SSM](https://en.wikipedia.org/wiki/Discretization#Discretization_of_linear_state_space_models)\n",
    "1. [Drake - ilqr_driving](https://colab.research.google.com/github/RussTedrake/underactuated/blob/master/exercises/trajopt/ilqr_driving/ilqr_driving.ipynb#scrollTo=WCdJhqQqHLii)\n",
    "1. [Al - Augmenting an Angular State](https://github.com/anassinator/ilqr/blob/master/ilqr/examples/cartpole.py)"
   ]
  },
  {
   "cell_type": "code",
   "execution_count": 1,
   "id": "0747eee0-ce0b-4ad2-afed-5936abaeb5f1",
   "metadata": {},
   "outputs": [],
   "source": [
    "import matplotlib.pyplot as plt\n",
    "import numpy as np\n",
    "import sympy as sym\n",
    "from sympy.utilities.codegen import codegen\n",
    "from IPython.display import display, Math"
   ]
  },
  {
   "cell_type": "code",
   "execution_count": 2,
   "id": "d83f9f5a-c7c0-4615-b4bd-6f7d42a96507",
   "metadata": {},
   "outputs": [],
   "source": [
    "%matplotlib ipympl\n",
    "np.set_printoptions(precision=3, suppress=True)"
   ]
  },
  {
   "cell_type": "markdown",
   "id": "9cd272bf-c3b8-4910-bbeb-244862fe1cc7",
   "metadata": {
    "tags": []
   },
   "source": [
    "## Dynamical System [1]\n",
    "A dynamical system can be modeled by the following non-linear, continuous dynamics:\n",
    "\n",
    "$$\\dot x = f_c(x, u)$$\n",
    "\n",
    "Discretizing using the [following method](https://en.wikipedia.org/wiki/Discretization#Discretization_of_linear_state_space_models):\n",
    "\n",
    "$$x_{k+1} = f(x_k, u_k)$$\n",
    "\n",
    "Using a 1st order Taylor Series expansion, we linearize around an operating point:\n",
    "\n",
    "$$\\begin{aligned}\n",
    "x_{k+1} + \\delta x_{k+1} &\\approx f(x_k, u_k) + \n",
    "\\left.\\frac{\\partial f}{\\partial x}\\right|_{x_k, u_k}(x - x_k) + \n",
    "\\left.\\frac{\\partial f}{\\partial u}\\right|_{x_k, u_k}(u - u_k)\n",
    "\\\\\n",
    "\\delta x_{k+1} &= A \\delta x_k + B \\delta u_k\n",
    "\\end{aligned}\n",
    "$$"
   ]
  },
  {
   "cell_type": "code",
   "execution_count": 3,
   "id": "dcab3f80-3948-4f0b-805e-450103eeaef0",
   "metadata": {},
   "outputs": [],
   "source": [
    "def discretize(A, B, Δt):\n",
    "    \"\"\"Compute the discretization of continuous dynamics assuming zero-order hold.\"\"\"\n",
    "    \n",
    "    k, t = sym.symbols('k t')\n",
    "    Ad = sym.exp(A * Δt).simplify()\n",
    "    # Ad_approx = sym.summation(1/sym.factorial(k) * (A*Δt) ** k, (k, 0, sym.oo))\n",
    "    Ad_approx = sym.eye(A.shape[0], A.shape[0]) + A * Δt\n",
    "    # Bd = A**-1 * (Ad - sym.eye(4,4)) * B # for non-singular A\n",
    "    Bd = sym.integrate(Ad, (t, 0, Δt)) * B\n",
    "    \n",
    "    return Ad, Bd"
   ]
  },
  {
   "cell_type": "code",
   "execution_count": 4,
   "id": "e525e51e-7750-406c-863d-c03f67a9bd10",
   "metadata": {},
   "outputs": [],
   "source": [
    "def linearize(x_dot, x, u):\n",
    "    \"\"\"Compute the linearization of the dynamics with respect to x and u.\"\"\"\n",
    "    \n",
    "    A = x_dot.jacobian(x)\n",
    "    B = x_dot.jacobian(u)\n",
    "    return A, B"
   ]
  },
  {
   "cell_type": "markdown",
   "id": "1c4dab43-9bae-4272-966c-e72e0e2159c0",
   "metadata": {
    "tags": []
   },
   "source": [
    "## Unicycle Dynamics [2]\n",
    "A unicycle can be modelled using the following continuous dynamics:\n",
    "\n",
    "$$\\begin{aligned}\n",
    "x &= \\begin{bmatrix} p_x & p_y & v & \\theta \\end{bmatrix} \\\\\n",
    "u &= \\begin{bmatrix} a & \\omega\\end{bmatrix}\n",
    "\\end{aligned}$$\n",
    "\n",
    "\n",
    "$$\\begin{aligned}\n",
    "\\dot p_{x} &= v\\cos\\theta \\\\\n",
    "\\dot p_{y} &= v\\sin\\theta \\\\\n",
    "\\dot \\theta &= \\omega \\\\\n",
    "\\dot v &= a\n",
    "\\end{aligned}$$"
   ]
  },
  {
   "cell_type": "code",
   "execution_count": 17,
   "id": "5a2e881c-21d5-4fb5-aae2-6d66ed8cad97",
   "metadata": {
    "tags": [
     "hide_input"
    ]
   },
   "outputs": [
    {
     "data": {
      "text/latex": [
       "$\\displaystyle x = \\left[\\begin{matrix}p_{x}\\\\p_{y}\\\\v\\\\\\theta\\end{matrix}\\right]u = \\left[\\begin{matrix}a\\\\\\omega\\end{matrix}\\right]$"
      ],
      "text/plain": [
       "<IPython.core.display.Math object>"
      ]
     },
     "metadata": {},
     "output_type": "display_data"
    }
   ],
   "source": [
    "Δt = sym.Symbol('\\Delta t')\n",
    "p_x, p_y, v, theta, omega, a = sym.symbols('p_x p_y v theta omega a')\n",
    "\n",
    "x = sym.Matrix([p_x, p_y, v, theta])\n",
    "u = sym.Matrix([a, omega])\n",
    "display(Math('x = ' + sym.latex(x) + 'u = ' + sym.latex(u)))"
   ]
  },
  {
   "cell_type": "code",
   "execution_count": 19,
   "id": "4fc81680-a990-405f-aae7-ff393dcf8d9a",
   "metadata": {
    "tags": [
     "hide_input"
    ]
   },
   "outputs": [
    {
     "name": "stdout",
     "output_type": "stream",
     "text": [
      "Continuous Time:\n"
     ]
    },
    {
     "data": {
      "text/latex": [
       "$\\displaystyle A = \\left[\\begin{matrix}0 & 0 & \\cos{\\left(\\theta \\right)} & - v \\sin{\\left(\\theta \\right)}\\\\0 & 0 & \\sin{\\left(\\theta \\right)} & v \\cos{\\left(\\theta \\right)}\\\\0 & 0 & 0 & 0\\\\0 & 0 & 0 & 0\\end{matrix}\\right]\\; B = \\left[\\begin{matrix}0 & 0\\\\0 & 0\\\\1 & 0\\\\0 & 1\\end{matrix}\\right]$"
      ],
      "text/plain": [
       "<IPython.core.display.Math object>"
      ]
     },
     "metadata": {},
     "output_type": "display_data"
    }
   ],
   "source": [
    "x_dot = sym.Matrix([\n",
    "    x[2]*sym.cos(x[3]),\n",
    "    x[2]*sym.sin(x[3]),\n",
    "    u[0],\n",
    "    u[1],\n",
    "])\n",
    "\n",
    "A, B = linearize(x_dot, x, u)\n",
    "print('Continuous Time:')\n",
    "display(Math('A = ' + sym.latex(A) + '\\; B = ' + sym.latex(B)))\n",
    "\n",
    "# Ad, Bd = discretize(A, B, Δt)\n",
    "# print('Discrete Time:')\n",
    "# display(Math('A_d = ' + sym.latex(Ad)))\n",
    "# display(Math('B_d = \\Delta t ' + sym.latex(Bd/Δt)))\n",
    "\n",
    "# print('Others:')\n",
    "# Bo = sym.Matrix([[0, 0], [0, 0], [Δt, 0], [0, Δt]])\n",
    "# display(Math('B = \\Delta t' + sym.latex(Bo/Δt)))"
   ]
  },
  {
   "cell_type": "code",
   "execution_count": 20,
   "id": "052f6a7c",
   "metadata": {},
   "outputs": [
    {
     "name": "stdout",
     "output_type": "stream",
     "text": [
      "Matrix([[0, 0, cos(theta), -v*sin(theta)], [0, 0, sin(theta), v*cos(theta)], [0, 0, 0, 0], [0, 0, 0, 0]])\n"
     ]
    }
   ],
   "source": [
    "print(A)"
   ]
  },
  {
   "cell_type": "markdown",
   "id": "ace68f2c-ada3-4021-ac8b-5d34f28342fd",
   "metadata": {},
   "source": [
    "## Car Dynamics\n",
    "- \"car\" dynamics represent a simplified version of the unicycle dynamics where the linear velocity is in the control, rather than the state.\n",
    "$$\\begin{aligned}\n",
    "x &= \\begin{bmatrix} p_x & p_y & \\theta \\end{bmatrix} \\\\\n",
    "u &= \\begin{bmatrix} v & \\omega\\end{bmatrix}\n",
    "\\end{aligned}$$\n",
    "\n",
    "\n",
    "$$\\begin{aligned}\n",
    "\\dot p_{x} &= v\\cos\\theta \\\\\n",
    "\\dot p_{y} &= v\\sin\\theta \\\\\n",
    "\\dot \\theta &= \\omega \\\\\n",
    "\\end{aligned}$$"
   ]
  },
  {
   "cell_type": "code",
   "execution_count": 11,
   "id": "09c9718e-875d-4a90-a6b0-3cf635b85d3f",
   "metadata": {},
   "outputs": [
    {
     "data": {
      "text/latex": [
       "$\\displaystyle x = \\left[\\begin{matrix}p_{x}\\\\p_{y}\\\\\\theta\\end{matrix}\\right]$"
      ],
      "text/plain": [
       "<IPython.core.display.Math object>"
      ]
     },
     "metadata": {},
     "output_type": "display_data"
    },
    {
     "data": {
      "text/latex": [
       "$\\displaystyle u = \\left[\\begin{matrix}v\\\\\\omega\\end{matrix}\\right]$"
      ],
      "text/plain": [
       "<IPython.core.display.Math object>"
      ]
     },
     "metadata": {},
     "output_type": "display_data"
    }
   ],
   "source": [
    "delta_t = sym.Symbol('\\Delta t')\n",
    "p_x, p_y, v, theta, omega = sym.symbols('p_x p_y v theta omega')\n",
    "\n",
    "x = sym.Matrix([p_x, p_y, theta])\n",
    "u = sym.Matrix([v, omega])\n",
    "display(Math('x = ' + sym.latex(x)))\n",
    "display(Math('u = ' + sym.latex(u)))"
   ]
  },
  {
   "cell_type": "code",
   "execution_count": 12,
   "id": "d6bc4776-827a-414a-b956-a8481faf5f77",
   "metadata": {},
   "outputs": [
    {
     "name": "stdout",
     "output_type": "stream",
     "text": [
      "Continuous time:\n"
     ]
    },
    {
     "data": {
      "text/latex": [
       "$\\displaystyle A = \\left[\\begin{matrix}0 & 0 & - v \\sin{\\left(\\theta \\right)}\\\\0 & 0 & v \\cos{\\left(\\theta \\right)}\\\\0 & 0 & 0\\end{matrix}\\right]\\;B = \\left[\\begin{matrix}\\cos{\\left(\\theta \\right)} & 0\\\\\\sin{\\left(\\theta \\right)} & 0\\\\0 & 1\\end{matrix}\\right]$"
      ],
      "text/plain": [
       "<IPython.core.display.Math object>"
      ]
     },
     "metadata": {},
     "output_type": "display_data"
    },
    {
     "name": "stdout",
     "output_type": "stream",
     "text": [
      "Discrete Time:\n"
     ]
    },
    {
     "data": {
      "text/latex": [
       "$\\displaystyle A_d = \\left[\\begin{matrix}1 & 0 & - \\Delta t v \\sin{\\left(\\theta \\right)}\\\\0 & 1 & \\Delta t v \\cos{\\left(\\theta \\right)}\\\\0 & 0 & 1\\end{matrix}\\right]\\;B_d = \\Delta t \\left[\\begin{matrix}\\cos{\\left(\\theta \\right)} & - \\Delta t v \\sin{\\left(\\theta \\right)}\\\\\\sin{\\left(\\theta \\right)} & \\Delta t v \\cos{\\left(\\theta \\right)}\\\\0 & 1\\end{matrix}\\right]$"
      ],
      "text/plain": [
       "<IPython.core.display.Math object>"
      ]
     },
     "metadata": {},
     "output_type": "display_data"
    }
   ],
   "source": [
    "x_dot = sym.Matrix([\n",
    "    u[0]*sym.cos(x[2]),\n",
    "    u[0]*sym.sin(x[2]),\n",
    "    u[1],\n",
    "])\n",
    "\n",
    "A, B = linearize(x_dot, x, u)\n",
    "print('Continuous time:')\n",
    "display(Math('A = ' + sym.latex(A) + '\\;B = ' + sym.latex(B)))\n",
    "\n",
    "Ad, Bd = discretize(A, B, Δt)\n",
    "print('Discrete Time:')\n",
    "display(Math('A_d = ' + sym.latex(Ad) + '\\;B_d = \\Delta t ' + sym.latex(Bd/Δt)))"
   ]
  },
  {
   "cell_type": "markdown",
   "id": "98c055cb-4078-49d7-87d6-e92ea4e89d3f",
   "metadata": {},
   "source": [
    "## Bicycle Dynamics [5]\n",
    "- We can add an additional component to the standard car/unicycle dynamics via steering.\n",
    "- Letting $\\phi$ be the steering angle, the dynamics are:\n",
    "$$\\begin{aligned}\n",
    "x &= \\begin{bmatrix} p_x & p_y & v & \\theta & \\phi \\end{bmatrix} \\\\\n",
    "u &= \\begin{bmatrix} a & \\rho\\end{bmatrix}\n",
    "\\end{aligned}$$\n",
    "\n",
    "\n",
    "$$\\begin{aligned}\n",
    "\\dot p_{x} &= v\\cos\\theta \\\\\n",
    "\\dot p_{y} &= v\\sin\\theta \\\\\n",
    "\\dot v &= a \\\\\n",
    "\\dot \\phi &= \\rho \\\\\n",
    "\\end{aligned}$$"
   ]
  },
  {
   "cell_type": "code",
   "execution_count": 13,
   "id": "962642af-5728-4ef5-b6cc-bfaadbcfa918",
   "metadata": {},
   "outputs": [
    {
     "data": {
      "text/latex": [
       "$\\displaystyle x = \\left[\\begin{matrix}p_{x}\\\\p_{y}\\\\v\\\\\\theta\\\\\\phi\\end{matrix}\\right]\\;u = \\left[\\begin{matrix}a\\\\\\rho\\end{matrix}\\right]$"
      ],
      "text/plain": [
       "<IPython.core.display.Math object>"
      ]
     },
     "metadata": {},
     "output_type": "display_data"
    }
   ],
   "source": [
    "delta_t = sym.Symbol('\\Delta t')\n",
    "p_x, p_y, theta, v, phi, a, rho = sym.symbols('p_x p_y theta v phi a rho')\n",
    "\n",
    "x = sym.Matrix([p_x, p_y, v, theta, phi])\n",
    "u = sym.Matrix([a, rho])\n",
    "display(Math('x = ' + sym.latex(x) + '\\;u = ' + sym.latex(u)))"
   ]
  },
  {
   "cell_type": "code",
   "execution_count": 14,
   "id": "4da9e89b-2273-4c10-b57b-793b342d15ee",
   "metadata": {
    "tags": []
   },
   "outputs": [
    {
     "name": "stdout",
     "output_type": "stream",
     "text": [
      "Continuous time:\n"
     ]
    },
    {
     "data": {
      "text/latex": [
       "$\\displaystyle A = \\left[\\begin{matrix}0 & 0 & \\cos{\\left(\\theta \\right)} & - v \\sin{\\left(\\theta \\right)} & 0\\\\0 & 0 & \\sin{\\left(\\theta \\right)} & v \\cos{\\left(\\theta \\right)} & 0\\\\0 & 0 & 0 & 0 & 0\\\\0 & 0 & \\tan{\\left(\\phi \\right)} & 0 & v \\left(\\tan^{2}{\\left(\\phi \\right)} + 1\\right)\\\\0 & 0 & 0 & 0 & 0\\end{matrix}\\right]\\;B = \\left[\\begin{matrix}0 & 0\\\\0 & 0\\\\1 & 0\\\\0 & 0\\\\0 & 1\\end{matrix}\\right]$"
      ],
      "text/plain": [
       "<IPython.core.display.Math object>"
      ]
     },
     "metadata": {},
     "output_type": "display_data"
    },
    {
     "name": "stdout",
     "output_type": "stream",
     "text": [
      "Discrete Time:\n"
     ]
    },
    {
     "data": {
      "text/latex": [
       "$\\displaystyle A_d = \\left[\\begin{matrix}1 & 0 & \\frac{\\Delta t \\left(- \\Delta t v \\sin{\\left(\\theta \\right)} \\tan{\\left(\\phi \\right)} + 2 \\cos{\\left(\\theta \\right)}\\right)}{2} & - \\Delta t v \\sin{\\left(\\theta \\right)} & - \\frac{\\Delta t^{2} v^{2} \\sin{\\left(\\theta \\right)}}{2 \\cos^{2}{\\left(\\phi \\right)}}\\\\0 & 1 & \\frac{\\Delta t \\left(\\Delta t v \\cos{\\left(\\theta \\right)} \\tan{\\left(\\phi \\right)} + 2 \\sin{\\left(\\theta \\right)}\\right)}{2} & \\Delta t v \\cos{\\left(\\theta \\right)} & \\frac{\\Delta t^{2} v^{2} \\cos{\\left(\\theta \\right)}}{2 \\cos^{2}{\\left(\\phi \\right)}}\\\\0 & 0 & 1 & 0 & 0\\\\0 & 0 & \\Delta t \\tan{\\left(\\phi \\right)} & 1 & \\frac{\\Delta t v}{\\cos^{2}{\\left(\\phi \\right)}}\\\\0 & 0 & 0 & 0 & 1\\end{matrix}\\right]$"
      ],
      "text/plain": [
       "<IPython.core.display.Math object>"
      ]
     },
     "metadata": {},
     "output_type": "display_data"
    },
    {
     "data": {
      "text/latex": [
       "$\\displaystyle B_d = \\Delta t \\left[\\begin{matrix}\\frac{\\Delta t \\left(- \\Delta t v \\sin{\\left(\\theta \\right)} \\tan{\\left(\\phi \\right)} + 2 \\cos{\\left(\\theta \\right)}\\right)}{2} & - \\frac{\\Delta t^{2} v^{2} \\sin{\\left(\\theta \\right)}}{2 \\cos^{2}{\\left(\\phi \\right)}}\\\\\\frac{\\Delta t \\left(\\Delta t v \\cos{\\left(\\theta \\right)} \\tan{\\left(\\phi \\right)} + 2 \\sin{\\left(\\theta \\right)}\\right)}{2} & \\frac{\\Delta t^{2} v^{2} \\cos{\\left(\\theta \\right)}}{2 \\cos^{2}{\\left(\\phi \\right)}}\\\\1 & 0\\\\\\Delta t \\tan{\\left(\\phi \\right)} & \\frac{\\Delta t v}{\\cos^{2}{\\left(\\phi \\right)}}\\\\0 & 1\\end{matrix}\\right]$"
      ],
      "text/plain": [
       "<IPython.core.display.Math object>"
      ]
     },
     "metadata": {},
     "output_type": "display_data"
    }
   ],
   "source": [
    "x_dot = sym.Matrix([\n",
    "    x[2]*sym.cos(x[3]),\n",
    "    x[2]*sym.sin(x[3]),\n",
    "    u[0],\n",
    "    x[2]*sym.tan(x[4]),\n",
    "    u[1]\n",
    "])\n",
    "\n",
    "A, B = linearize(x_dot, x, u)\n",
    "print('Continuous time:')\n",
    "display(Math('A = ' + sym.latex(A) + '\\;B = ' + sym.latex(B)))\n",
    "\n",
    "Ad, Bd = discretize(A, B, Δt)\n",
    "print('Discrete Time:')\n",
    "display(Math('A_d = ' + sym.latex(Ad)))\n",
    "display(Math('B_d = \\Delta t ' + sym.latex(Bd/Δt)))"
   ]
  },
  {
   "cell_type": "code",
   "execution_count": 15,
   "id": "bc616855-506c-46ed-a220-07dac0ebeb2b",
   "metadata": {},
   "outputs": [
    {
     "data": {
      "text/latex": [
       "$\\displaystyle \\left[\\begin{matrix}\\Delta t \\left(- \\frac{\\Delta t v \\sin{\\left(\\theta \\right)} \\tan{\\left(\\phi \\right)}}{2} + \\cos{\\left(\\theta \\right)}\\right) & - \\frac{\\Delta t^{2} v^{2} \\sin{\\left(\\theta \\right)}}{2 \\cos^{2}{\\left(\\phi \\right)}}\\\\\\Delta t \\left(\\frac{\\Delta t v \\cos{\\left(\\theta \\right)} \\tan{\\left(\\phi \\right)}}{2} + \\sin{\\left(\\theta \\right)}\\right) & \\frac{\\Delta t^{2} v^{2} \\cos{\\left(\\theta \\right)}}{2 \\cos^{2}{\\left(\\phi \\right)}}\\\\1 & 0\\\\\\Delta t \\tan{\\left(\\phi \\right)} & \\frac{\\Delta t v}{\\cos^{2}{\\left(\\phi \\right)}}\\\\0 & 1\\end{matrix}\\right]$"
      ],
      "text/plain": [
       "Matrix([\n",
       "[\\Delta t*(-\\Delta t*v*sin(theta)*tan(phi)/2 + cos(theta)), -\\Delta t**2*v**2*sin(theta)/(2*cos(phi)**2)],\n",
       "[ \\Delta t*(\\Delta t*v*cos(theta)*tan(phi)/2 + sin(theta)),  \\Delta t**2*v**2*cos(theta)/(2*cos(phi)**2)],\n",
       "[                                                        1,                                            0],\n",
       "[                                        \\Delta t*tan(phi),                       \\Delta t*v/cos(phi)**2],\n",
       "[                                                        0,                                            1]])"
      ]
     },
     "execution_count": 15,
     "metadata": {},
     "output_type": "execute_result"
    }
   ],
   "source": [
    "Bd.simplify()\n",
    "Bd / Δt"
   ]
  },
  {
   "cell_type": "markdown",
   "id": "8cc690da-b9a9-448c-a8fe-45a113170f27",
   "metadata": {
    "tags": []
   },
   "source": [
    "## Double Integrator Dynamics [3]\n",
    "- The double integrator model is a canonical second order linear system often used to demostrate control principles. \n",
    "- This can be represented in the discretized equation as:\n",
    "$$x_{k+1} = A x_k + B u_k \n",
    "= \\begin{bmatrix} 1 & \\Delta t \\\\ 0 & 1\\end{bmatrix} x_k + \\begin{bmatrix} \\frac{\\Delta t^2}{2} \\\\ \\Delta t \\end{bmatrix} u_k$$"
   ]
  },
  {
   "cell_type": "code",
   "execution_count": 16,
   "id": "86b326ea-e90f-4536-98a0-2c8a07f48ef3",
   "metadata": {},
   "outputs": [
    {
     "data": {
      "text/latex": [
       "$\\displaystyle x = \\left[\\begin{matrix}p_{x}\\\\p_{y}\\\\v_{x}\\\\v_{y}\\end{matrix}\\right]\\;u = \\left[\\begin{matrix}a_{x}\\\\a_{y}\\end{matrix}\\right]$"
      ],
      "text/plain": [
       "<IPython.core.display.Math object>"
      ]
     },
     "metadata": {},
     "output_type": "display_data"
    }
   ],
   "source": [
    "# dt = sym.Symbol('\\Delta t')\n",
    "dt, p_x, p_y, v_x, v_y, a_x, a_y = sym.symbols('dt p_x p_y v_x v_y a_x a_y')\n",
    "\n",
    "x = sym.Matrix([p_x, p_y, v_x, v_y])\n",
    "u = sym.Matrix([a_x, a_y])\n",
    "display(Math('x = ' + sym.latex(x) + '\\;u = ' + sym.latex(u)))"
   ]
  },
  {
   "cell_type": "code",
   "execution_count": 17,
   "id": "1c3a3139-68a3-4b85-8822-3e0d19d006ef",
   "metadata": {},
   "outputs": [
    {
     "data": {
      "text/latex": [
       "$\\displaystyle \\left[\\begin{matrix}v_{x}\\\\v_{y}\\\\a_{x}\\\\a_{y}\\end{matrix}\\right]$"
      ],
      "text/plain": [
       "Matrix([\n",
       "[v_x],\n",
       "[v_y],\n",
       "[a_x],\n",
       "[a_y]])"
      ]
     },
     "execution_count": 17,
     "metadata": {},
     "output_type": "execute_result"
    }
   ],
   "source": [
    "x_dot = sym.Matrix([\n",
    "    v_x,\n",
    "    v_y,\n",
    "    a_x,\n",
    "    a_y\n",
    "])\n",
    "\n",
    "A = x_dot.jacobian(x)\n",
    "B = x_dot.jacobian(u)\n",
    "x_dot"
   ]
  },
  {
   "cell_type": "markdown",
   "id": "fa685cb6-8eae-462e-9624-8dd1b9967cb1",
   "metadata": {},
   "source": [
    "## Quadcopter Dynamics (6D)"
   ]
  },
  {
   "cell_type": "code",
   "execution_count": 5,
   "id": "8afc7d6b-efff-4aae-9fb3-cb88abcf8d58",
   "metadata": {},
   "outputs": [],
   "source": [
    "# components of position (meters)\n",
    "o_x, o_y, o_z = sym.symbols(\"o_x, o_y, o_z\")\n",
    "\n",
    "# pitch, and roll angles (radians)\n",
    "theta, phi = sym.symbols(\"theta, phi\")\n",
    "\n",
    "# components of linear velocity (meters / second)\n",
    "v_x, v_y, v_z = sym.symbols(\"v_x, v_y, v_z\")\n",
    "\n",
    "# net rotor force\n",
    "tau = sym.symbols(\"tau\")"
   ]
  },
  {
   "cell_type": "code",
   "execution_count": 6,
   "id": "33bd3880-488b-453b-a962-5b2feaf99232",
   "metadata": {},
   "outputs": [],
   "source": [
    "x = sym.Matrix([o_x, o_y, o_z, v_x, v_y, v_z])\n",
    "u = sym.Matrix([tau, phi, theta])\n",
    "\n",
    "g = sym.nsimplify(9.81)"
   ]
  },
  {
   "cell_type": "code",
   "execution_count": 7,
   "id": "be206d01-5567-431e-83a5-dcbe73beb577",
   "metadata": {},
   "outputs": [],
   "source": [
    "# Full EOM: (the full EOM is a nonlinear function of [states, inputs, and fixed\n",
    "# parameters])\n",
    "x_dot = sym.Matrix(\n",
    "    [v_x, v_y, v_z, g * sym.tan(theta), -g * sym.tan(phi), tau - g]\n",
    ")\n",
    "\n",
    "A = x_dot.jacobian(x)  # here the state vector is 6-dimensional\n",
    "B = x_dot.jacobian(u)  # here the input vector is also 6-dimensional"
   ]
  },
  {
   "cell_type": "code",
   "execution_count": 34,
   "id": "af01c55c-83c6-4ffe-9209-59adf9eb9185",
   "metadata": {},
   "outputs": [
    {
     "name": "stdout",
     "output_type": "stream",
     "text": [
      "/******************************************************************************\n",
      " *                       Code generated with sympy 1.9                        *\n",
      " *                                                                            *\n",
      " *              See http://www.sympy.org/ for more information.               *\n",
      " *                                                                            *\n",
      " *                       This file is part of 'project'                       *\n",
      " ******************************************************************************/\n",
      "\n",
      "\n",
      "#ifndef PROJECT__F_QUAD_6D__H\n",
      "#define PROJECT__F_QUAD_6D__H\n",
      "\n",
      "void f_quad_6d(double phi, double tau, double theta, double v_x, double v_y, double v_z, double *out_1368188485089575696);\n",
      "\n",
      "#endif\n",
      "\n",
      " /******************************************************************************\n",
      " *                       Code generated with sympy 1.9                        *\n",
      " *                                                                            *\n",
      " *              See http://www.sympy.org/ for more information.               *\n",
      " *                                                                            *\n",
      " *                       This file is part of 'project'                       *\n",
      " ******************************************************************************/\n",
      "#include \"f_quad_6d.h\"\n",
      "#include <math.h>\n",
      "\n",
      "void f_quad_6d(double phi, double tau, double theta, double v_x, double v_y, double v_z, double *out_1368188485089575696) {\n",
      "\n",
      "   out_1368188485089575696[0] = v_x;\n",
      "   out_1368188485089575696[1] = v_y;\n",
      "   out_1368188485089575696[2] = v_z;\n",
      "   out_1368188485089575696[3] = (981.0/100.0)*tan(theta);\n",
      "   out_1368188485089575696[4] = -981.0/100.0*tan(phi);\n",
      "   out_1368188485089575696[5] = tau - 981.0/100.0;\n",
      "\n",
      "}\n",
      "\n"
     ]
    }
   ],
   "source": [
    "#[(c_name, c_code), (h_name, c_header)] = codegen((\"linearize_quad_6d\", (B, A)), \"C\")\n",
    "[(c_name, c_code), (h_name, c_header)] = codegen((\"f_quad_6d\", x_dot), \"C\")\n",
    "print(c_header, c_code)"
   ]
  },
  {
   "cell_type": "markdown",
   "id": "90f64058-9bb7-42a5-be15-d642675f5bc0",
   "metadata": {},
   "source": [
    "## Quadcopter Dynamics (12D)"
   ]
  },
  {
   "cell_type": "code",
   "execution_count": 45,
   "id": "84e6d7f1-244e-4255-b639-b69f6c5c730e",
   "metadata": {},
   "outputs": [],
   "source": [
    "# # components of position (meters)\n",
    "o_x, o_y, o_z = sym.symbols(\"o_x, o_y, o_z\")\n",
    "\n",
    "# yaw, pitch, and roll angles (radians)\n",
    "psi, theta, phi = sym.symbols(\"psi, theta, phi\")\n",
    "\n",
    "# components of linear velocity (meters / second)\n",
    "v_x, v_y, v_z = sym.symbols(\"v_x, v_y, v_z\")\n",
    "\n",
    "# components of angular velocity (radians / second)\n",
    "w_x, w_y, w_z = sym.symbols(\"w_x, w_y, w_z\")\n",
    "\n",
    "# components of net rotor torque\n",
    "tau_x, tau_y, tau_z = sym.symbols(\"tau_x, tau_y, tau_z\")\n",
    "\n",
    "# net rotor force\n",
    "f_z = sym.symbols(\"f_z\")"
   ]
  },
  {
   "cell_type": "code",
   "execution_count": 46,
   "id": "b3f8898b-f4ae-4755-898c-6517d113bd3b",
   "metadata": {},
   "outputs": [],
   "source": [
    "x = sym.Matrix(\n",
    "    [o_x, o_y, o_z, psi, theta, phi, v_x, v_y, v_z, w_x, w_y, w_z]\n",
    ")  # state variables\n",
    "u = sym.Matrix([tau_x, tau_y, tau_z, f_z])  # input variables"
   ]
  },
  {
   "cell_type": "code",
   "execution_count": 47,
   "id": "71d3a33e-10d4-4ef1-a1e3-b886abe39f68",
   "metadata": {},
   "outputs": [],
   "source": [
    "m = sym.nsimplify(0.0315)  # mass of a Crazyflie drone\n",
    "\n",
    "# Principle moments of inertia of a Crazyflie drone\n",
    "J_x = sym.nsimplify(1.7572149113694408e-05)\n",
    "J_y = sym.nsimplify(1.856979710568617e-05)\n",
    "J_z = sym.nsimplify(2.7159794713754086e-05)\n",
    "\n",
    "# Acceleration of gravity\n",
    "g = 9.81\n",
    "\n",
    "# Linear and angular velocity vectors (in body frame)\n",
    "v_01in1 = sym.Matrix([[v_x], [v_y], [v_z]])\n",
    "w_01in1 = sym.Matrix([[w_x], [w_y], [w_z]])\n",
    "\n",
    "# Create moment of inertia matrix (in coordinates of the body frame).\n",
    "J_in1 = sym.diag(J_x, J_y, J_z)\n",
    "\n",
    "# Z-Y-X rotation sequence\n",
    "Rz = sym.Matrix(\n",
    "    [\n",
    "        [sym.cos(psi), -sym.sin(psi), 0],\n",
    "        [sym.sin(psi), sym.cos(psi), 0],\n",
    "        [0, 0, 1],\n",
    "    ]\n",
    ")\n",
    "\n",
    "Ry = sym.Matrix(\n",
    "    [\n",
    "        [sym.cos(theta), 0, sym.sin(theta)],\n",
    "        [0, 1, 0],\n",
    "        [-sym.sin(theta), 0, sym.cos(theta)],\n",
    "    ]\n",
    ")\n",
    "\n",
    "Rx = sym.Matrix(\n",
    "    [\n",
    "        [1, 0, 0],\n",
    "        [0, sym.cos(phi), -sym.sin(phi)],\n",
    "        [0, sym.sin(phi), sym.cos(phi)],\n",
    "    ]\n",
    ")\n",
    "\n",
    "R_1in0 = Rz * Ry * Rx\n",
    "\n",
    "# Mapping from angular velocity to angular rates\n",
    "# Compute the invserse of the mapping first:\n",
    "Ninv = sym.Matrix.hstack(\n",
    "    (Ry * Rx).T * sym.Matrix([[0], [0], [1]]),\n",
    "    (Rx).T * sym.Matrix([[0], [1], [0]]),\n",
    "    sym.Matrix([[1], [0], [0]]),\n",
    ")\n",
    "N = sym.simplify(Ninv.inv())  # this matrix N is what we actually want\n",
    "\n",
    "# forces in world frame\n",
    "f_in1 = R_1in0.T * sym.Matrix([[0], [0], [-m * g]]) + sym.Matrix(\n",
    "    [[0], [0], [f_z]]\n",
    ")\n",
    "\n",
    "# torques in world frame\n",
    "tau_in1 = sym.Matrix([[tau_x], [tau_y], [tau_z]])"
   ]
  },
  {
   "cell_type": "code",
   "execution_count": 48,
   "id": "dbb04438",
   "metadata": {},
   "outputs": [
    {
     "data": {
      "text/latex": [
       "$\\displaystyle \\left[\\begin{matrix}o_{x}\\\\o_{y}\\\\o_{z}\\\\\\psi\\\\\\theta\\\\\\phi\\\\v_{x}\\\\v_{y}\\\\v_{z}\\\\w_{x}\\\\w_{y}\\\\w_{z}\\end{matrix}\\right]$"
      ],
      "text/plain": [
       "Matrix([\n",
       "[  o_x],\n",
       "[  o_y],\n",
       "[  o_z],\n",
       "[  psi],\n",
       "[theta],\n",
       "[  phi],\n",
       "[  v_x],\n",
       "[  v_y],\n",
       "[  v_z],\n",
       "[  w_x],\n",
       "[  w_y],\n",
       "[  w_z]])"
      ]
     },
     "execution_count": 48,
     "metadata": {},
     "output_type": "execute_result"
    }
   ],
   "source": [
    "x"
   ]
  },
  {
   "cell_type": "code",
   "execution_count": 49,
   "id": "3b60cc27-057c-4c11-9e39-c96a2a8021ad",
   "metadata": {},
   "outputs": [],
   "source": [
    "# Full EOM:\n",
    "f_sym = sym.Matrix.vstack(\n",
    "    R_1in0 * v_01in1,\n",
    "    N * w_01in1,\n",
    "    (1 / m) * (f_in1 - w_01in1.cross(m * v_01in1)),\n",
    "    J_in1.inv() * (tau_in1 - w_01in1.cross(J_in1 * w_01in1)),\n",
    ")\n",
    "\n",
    "A = f_sym.jacobian(x)  # here the state vector is 12-dimensional\n",
    "B = f_sym.jacobian(u)  # here the input vector is 6-dimensional"
   ]
  },
  {
   "cell_type": "code",
   "execution_count": 12,
   "id": "cc3e96d2-099b-45af-b91c-e88c6295a572",
   "metadata": {},
   "outputs": [
    {
     "name": "stdout",
     "output_type": "stream",
     "text": [
      "/******************************************************************************\n",
      " *                      Code generated with SymPy 1.10.1                      *\n",
      " *                                                                            *\n",
      " *              See http://www.sympy.org/ for more information.               *\n",
      " *                                                                            *\n",
      " *                       This file is part of 'project'                       *\n",
      " ******************************************************************************/\n",
      "\n",
      "\n",
      "#ifndef PROJECT__F_QUAD_12D__H\n",
      "#define PROJECT__F_QUAD_12D__H\n",
      "\n",
      "void f_quad_12d(double f_z, double phi, double psi, double tau_x, double tau_y, double tau_z, double theta, double v_x, double v_y, double v_z, double w_x, double w_y, double w_z, double *out_6099357610948634843);\n",
      "\n",
      "#endif\n",
      "\n",
      " /******************************************************************************\n",
      " *                      Code generated with SymPy 1.10.1                      *\n",
      " *                                                                            *\n",
      " *              See http://www.sympy.org/ for more information.               *\n",
      " *                                                                            *\n",
      " *                       This file is part of 'project'                       *\n",
      " ******************************************************************************/\n",
      "#include \"f_quad_12d.h\"\n",
      "#include <math.h>\n",
      "\n",
      "void f_quad_12d(double f_z, double phi, double psi, double tau_x, double tau_y, double tau_z, double theta, double v_x, double v_y, double v_z, double w_x, double w_y, double w_z, double *out_6099357610948634843) {\n",
      "\n",
      "   out_6099357610948634843[0] = v_x*cos(psi)*cos(theta) + v_y*(sin(phi)*sin(theta)*cos(psi) - sin(psi)*cos(phi)) + v_z*(sin(phi)*sin(psi) + sin(theta)*cos(phi)*cos(psi));\n",
      "   out_6099357610948634843[1] = v_x*sin(psi)*cos(theta) + v_y*(sin(phi)*sin(psi)*sin(theta) + cos(phi)*cos(psi)) + v_z*(-sin(phi)*cos(psi) + sin(psi)*sin(theta)*cos(phi));\n",
      "   out_6099357610948634843[2] = -v_x*sin(theta) + v_y*sin(phi)*cos(theta) + v_z*cos(phi)*cos(theta);\n",
      "   out_6099357610948634843[3] = w_y*sin(phi)/cos(theta) + w_z*cos(phi)/cos(theta);\n",
      "   out_6099357610948634843[4] = w_y*cos(phi) - w_z*sin(phi);\n",
      "   out_6099357610948634843[5] = w_x + w_y*sin(phi)*tan(theta) + w_z*cos(phi)*tan(theta);\n",
      "   out_6099357610948634843[6] = v_y*w_z - v_z*w_y + 9.8100000000000023*sin(theta);\n",
      "   out_6099357610948634843[7] = -v_x*w_z + v_z*w_x - 9.8100000000000023*sin(phi)*cos(theta);\n",
      "   out_6099357610948634843[8] = (2000.0/63.0)*f_z + v_x*w_y - v_y*w_x - 9.8100000000000023*cos(phi)*cos(theta);\n",
      "   out_6099357610948634843[9] = (625000000000000000.0/10982593196059.0)*tau_x - 85899976080679.0/175721491136944.0*w_y*w_z;\n",
      "   out_6099357610948634843[10] = (5000000000000000000.0/92848985528431.0)*tau_y + (95876456000597.0/185697971056862.0)*w_x*w_z;\n",
      "   out_6099357610948634843[11] = (10000000000000000000.0/271597947137541.0)*tau_z - 9976479919918.0/271597947137541.0*w_x*w_y;\n",
      "\n",
      "}\n",
      "\n"
     ]
    }
   ],
   "source": [
    "#[(c_name, c_code), (h_name, c_header)] = codegen((\"linearize_quad_12d\", (B, A)), \"C\")\n",
    "[(c_name, c_code), (h_name, c_header)] = codegen((\"f_quad_12d\", f_sym), \"C\")\n",
    "print(c_header, c_code)"
   ]
  },
  {
   "cell_type": "markdown",
   "id": "e9847731-f9d0-4759-97f7-85bebffe610a",
   "metadata": {
    "tags": []
   },
   "source": [
    "## Augmented Unicycle Dynamics [2]\n",
    "A unicycle can be modelled using the following augmented continuous dynamics:\n",
    "\n",
    "$$\\begin{aligned}\n",
    "x &= \\begin{bmatrix} p_x & p_y & v & \\sin(\\theta) & \\cos(\\theta) \\end{bmatrix} \\\\\n",
    "u &= \\begin{bmatrix} a & \\omega\\end{bmatrix}\n",
    "\\end{aligned}$$\n",
    "\n",
    "\n",
    "$$\\begin{aligned}\n",
    "\\dot p_{x} &= v\\cos\\theta \\\\\n",
    "\\dot p_{y} &= v\\sin\\theta \\\\\n",
    "\\dot \\theta &= \\omega \\\\\n",
    "\\dot v &= a\n",
    "\\end{aligned}$$"
   ]
  },
  {
   "cell_type": "code",
   "execution_count": 31,
   "id": "b948ff91-7df4-43cf-b433-258ff61f3339",
   "metadata": {
    "tags": [
     "hide_input"
    ]
   },
   "outputs": [
    {
     "data": {
      "text/latex": [
       "$\\displaystyle x = \\left[\\begin{matrix}p_{x}\\\\p_{y}\\\\v\\\\\\sin \\Theta\\\\\\cos \\Theta\\end{matrix}\\right]\\;u = \\left[\\begin{matrix}a\\\\\\omega\\end{matrix}\\right]$"
      ],
      "text/plain": [
       "<IPython.core.display.Math object>"
      ]
     },
     "metadata": {},
     "output_type": "display_data"
    }
   ],
   "source": [
    "Δt = sym.Symbol('\\Delta t')\n",
    "sθ = sym.Symbol('\\sin \\Theta')\n",
    "cθ = sym.Symbol('\\cos \\Theta')\n",
    "p_x, p_y, v, omega, a = sym.symbols('p_x p_y v omega a')\n",
    "\n",
    "x = sym.Matrix([p_x, p_y, v, sθ, cθ])\n",
    "u = sym.Matrix([a, omega])\n",
    "display(Math('x = ' + sym.latex(x) + '\\;u = ' + sym.latex(u)))"
   ]
  },
  {
   "cell_type": "code",
   "execution_count": 32,
   "id": "7e704fe3-0f87-4cbb-ac47-2c69326cdf04",
   "metadata": {
    "tags": [
     "hide_input"
    ]
   },
   "outputs": [
    {
     "name": "stdout",
     "output_type": "stream",
     "text": [
      "Continuous Time:\n"
     ]
    },
    {
     "data": {
      "text/latex": [
       "$\\displaystyle A = \\left[\\begin{matrix}0 & 0 & \\cos \\Theta & 0 & v\\\\0 & 0 & \\sin \\Theta & v & 0\\\\0 & 0 & 0 & 0 & 0\\\\0 & 0 & 0 & 0 & \\omega\\\\0 & 0 & 0 & - \\omega & 0\\end{matrix}\\right]\\;B = \\left[\\begin{matrix}0 & 0\\\\0 & 0\\\\1 & 0\\\\0 & \\cos \\Theta\\\\0 & - \\sin \\Theta\\end{matrix}\\right]$"
      ],
      "text/plain": [
       "<IPython.core.display.Math object>"
      ]
     },
     "metadata": {},
     "output_type": "display_data"
    },
    {
     "name": "stdout",
     "output_type": "stream",
     "text": [
      "Discrete Time:\n"
     ]
    },
    {
     "data": {
      "text/latex": [
       "$\\displaystyle A_d = \\left[\\begin{matrix}1 & 0 & \\Delta t \\cos \\Theta & \\frac{v e^{i \\Delta t \\omega}}{2 \\omega} - \\frac{v}{\\omega} + \\frac{v e^{- i \\Delta t \\omega}}{2 \\omega} & \\frac{v \\sin{\\left(\\Delta t \\omega \\right)}}{\\omega}\\\\0 & 1 & \\Delta t \\sin \\Theta & \\frac{v \\sin{\\left(\\Delta t \\omega \\right)}}{\\omega} & - \\frac{v e^{i \\Delta t \\omega}}{2 \\omega} + \\frac{v}{\\omega} - \\frac{v e^{- i \\Delta t \\omega}}{2 \\omega}\\\\0 & 0 & 1 & 0 & 0\\\\0 & 0 & 0 & \\cos{\\left(\\Delta t \\omega \\right)} & \\sin{\\left(\\Delta t \\omega \\right)}\\\\0 & 0 & 0 & - \\sin{\\left(\\Delta t \\omega \\right)} & \\cos{\\left(\\Delta t \\omega \\right)}\\end{matrix}\\right]\\;B_d = \\Delta t \\left[\\begin{matrix}\\Delta t \\cos \\Theta & \\frac{\\Delta t \\cos \\Theta \\left(\\frac{v e^{i \\Delta t \\omega}}{2 \\omega} - \\frac{v}{\\omega} + \\frac{v e^{- i \\Delta t \\omega}}{2 \\omega}\\right) - \\frac{\\Delta t \\sin \\Theta v \\sin{\\left(\\Delta t \\omega \\right)}}{\\omega}}{\\Delta t}\\\\\\Delta t \\sin \\Theta & \\frac{\\frac{\\Delta t \\cos \\Theta v \\sin{\\left(\\Delta t \\omega \\right)}}{\\omega} - \\Delta t \\sin \\Theta \\left(- \\frac{v e^{i \\Delta t \\omega}}{2 \\omega} + \\frac{v}{\\omega} - \\frac{v e^{- i \\Delta t \\omega}}{2 \\omega}\\right)}{\\Delta t}\\\\1 & 0\\\\0 & \\frac{\\Delta t \\cos \\Theta \\cos{\\left(\\Delta t \\omega \\right)} - \\Delta t \\sin \\Theta \\sin{\\left(\\Delta t \\omega \\right)}}{\\Delta t}\\\\0 & \\frac{- \\Delta t \\cos \\Theta \\sin{\\left(\\Delta t \\omega \\right)} - \\Delta t \\sin \\Theta \\cos{\\left(\\Delta t \\omega \\right)}}{\\Delta t}\\end{matrix}\\right]$"
      ],
      "text/plain": [
       "<IPython.core.display.Math object>"
      ]
     },
     "metadata": {},
     "output_type": "display_data"
    },
    {
     "name": "stdout",
     "output_type": "stream",
     "text": [
      "Others:\n"
     ]
    },
    {
     "data": {
      "text/latex": [
       "$\\displaystyle B = \\Delta t\\left[\\begin{matrix}0 & 0\\\\0 & 0\\\\1 & 0\\\\0 & 1\\end{matrix}\\right]$"
      ],
      "text/plain": [
       "<IPython.core.display.Math object>"
      ]
     },
     "metadata": {},
     "output_type": "display_data"
    }
   ],
   "source": [
    "x_dot = sym.Matrix([\n",
    "    x[2]*x[4],\n",
    "    x[2]*x[3],\n",
    "    u[0],\n",
    "    u[1]*x[4], # sym.sin(u[1]),\n",
    "    -u[1]*x[3] # sym.cos(u[1])\n",
    "])\n",
    "\n",
    "A, B = linearize(x_dot, x, u)\n",
    "print('Continuous Time:')\n",
    "display(Math('A = ' + sym.latex(A) + '\\;B = ' + sym.latex(B)))\n",
    "\n",
    "Ad, Bd = discretize(A, B, Δt)\n",
    "print('Discrete Time:')\n",
    "display(Math('A_d = ' + sym.latex(Ad) + '\\;B_d = \\Delta t ' + sym.latex(Bd/Δt)))\n",
    "\n",
    "print('Others:')\n",
    "Bo = sym.Matrix([[0, 0], [0, 0], [Δt, 0], [0, Δt]])\n",
    "display(Math('B = \\Delta t' + sym.latex(Bo/Δt)))"
   ]
  },
  {
   "cell_type": "code",
   "execution_count": null,
   "id": "468cb972",
   "metadata": {},
   "outputs": [],
   "source": []
  },
  {
   "cell_type": "markdown",
   "id": "b25c3ebb",
   "metadata": {},
   "source": [
    "## Human Agent dynamics:"
   ]
  },
  {
   "cell_type": "code",
   "execution_count": 18,
   "id": "6fa9d078",
   "metadata": {},
   "outputs": [
    {
     "data": {
      "text/latex": [
       "$\\displaystyle x = \\left[\\begin{matrix}p_{x}\\\\p_{y}\\\\p_{z}\\\\v\\end{matrix}\\right]\\;u = \\left[\\begin{matrix}\\theta\\\\a\\end{matrix}\\right]$"
      ],
      "text/plain": [
       "<IPython.core.display.Math object>"
      ]
     },
     "metadata": {},
     "output_type": "display_data"
    }
   ],
   "source": [
    "Δt = sym.Symbol('\\Delta t')\n",
    "sθ = sym.Symbol('\\sin \\Theta')\n",
    "cθ = sym.Symbol('\\cos \\Theta')\n",
    "p_x, p_y, p_z, v, omega, theta, a = sym.symbols('p_x p_y p_z v omega theta a')\n",
    "\n",
    "x = sym.Matrix([p_x, p_y, p_z, v])\n",
    "u = sym.Matrix([theta, a])\n",
    "display(Math('x = ' + sym.latex(x) + '\\;u = ' + sym.latex(u)))\n"
   ]
  },
  {
   "cell_type": "code",
   "execution_count": 15,
   "id": "cb636842",
   "metadata": {},
   "outputs": [],
   "source": [
    "x_dot = sym.Matrix([\n",
    "    x[3] * sym.cos(u[0]),\n",
    "    x[3] * sym.sin(u[0]),\n",
    "    0,\n",
    "    u[1],\n",
    "    0,\n",
    "    0,\n",
    "])"
   ]
  },
  {
   "cell_type": "code",
   "execution_count": 16,
   "id": "5c448dc2",
   "metadata": {},
   "outputs": [
    {
     "data": {
      "text/latex": [
       "$\\displaystyle \\left[\\begin{matrix}v \\cos{\\left(\\theta \\right)}\\\\v \\sin{\\left(\\theta \\right)}\\\\0\\\\a\\\\0\\\\0\\end{matrix}\\right]$"
      ],
      "text/plain": [
       "Matrix([\n",
       "[v*cos(theta)],\n",
       "[v*sin(theta)],\n",
       "[           0],\n",
       "[           a],\n",
       "[           0],\n",
       "[           0]])"
      ]
     },
     "execution_count": 16,
     "metadata": {},
     "output_type": "execute_result"
    }
   ],
   "source": [
    "x_dot"
   ]
  },
  {
   "cell_type": "code",
   "execution_count": 17,
   "id": "16121b99",
   "metadata": {},
   "outputs": [
    {
     "name": "stdout",
     "output_type": "stream",
     "text": [
      "Continuous Time:\n"
     ]
    },
    {
     "data": {
      "text/latex": [
       "$\\displaystyle A = \\left[\\begin{matrix}0 & 0 & 0 & \\cos{\\left(\\theta \\right)}\\\\0 & 0 & 0 & \\sin{\\left(\\theta \\right)}\\\\0 & 0 & 0 & 0\\\\0 & 0 & 0 & 0\\\\0 & 0 & 0 & 0\\\\0 & 0 & 0 & 0\\end{matrix}\\right]\\;B = \\left[\\begin{matrix}- v \\sin{\\left(\\theta \\right)} & 0\\\\v \\cos{\\left(\\theta \\right)} & 0\\\\0 & 0\\\\0 & 1\\\\0 & 0\\\\0 & 0\\end{matrix}\\right]$"
      ],
      "text/plain": [
       "<IPython.core.display.Math object>"
      ]
     },
     "metadata": {},
     "output_type": "display_data"
    }
   ],
   "source": [
    "A, B = linearize(x_dot, x, u)\n",
    "print('Continuous Time:')\n",
    "display(Math('A = ' + sym.latex(A) + '\\;B = ' + sym.latex(B)))"
   ]
  },
  {
   "cell_type": "markdown",
   "id": "2af875ae-af27-43f7-9a0c-c8c75d54c9ae",
   "metadata": {
    "tags": []
   },
   "source": [
    "## Quadraticizing Costs"
   ]
  },
  {
   "cell_type": "code",
   "execution_count": 33,
   "id": "1338d8fd-0c09-448c-a295-191f6dd78050",
   "metadata": {},
   "outputs": [],
   "source": [
    "def quadraticize(L, x, u):\n",
    "    \"\"\"Quadraticize the costs with respect to the states and controls.\"\"\"\n",
    "    \n",
    "    L_x = L.jacobian(x)\n",
    "    L_u = L.jacobian(u)\n",
    "    L_xx = L_x.jacobian(x)\n",
    "    L_uu = L_u.jacobian(u)\n",
    "    L_xu = L_x.jacobian(u)\n",
    "    L_ux = L_u.jacobian(x)\n",
    "    \n",
    "    return L_x, L_u, L_xx, L_uu, L_xu, L_ux"
   ]
  },
  {
   "cell_type": "code",
   "execution_count": 34,
   "id": "b29e2078-a6f3-45b2-8d1c-4c8431008a8b",
   "metadata": {},
   "outputs": [],
   "source": [
    "def quadraticize_reference(x, u, x_r, Q, R, terminal=False):\n",
    "    \"\"\"Quadraticize reference costs analytically.\"\"\"\n",
    "    \n",
    "    L_x = (x - x_r).T @ (Q + Q.T)\n",
    "    L_u = u.T @ (R + R.T)\n",
    "    L_xx = Q + Q.T\n",
    "    L_uu = R + R.T\n",
    "    L_xu = sym.zeros(x.shape[0], u.shape[0])\n",
    "    L_ux = L_xu.T\n",
    "    \n",
    "    if terminal:\n",
    "        γ = sym.symbols('gamma')\n",
    "        L_x *= γ\n",
    "        L_xx *= γ\n",
    "        L_u = sym.zeros(1, u.shape[0])\n",
    "        L_uu = sym.zeros(u.shape[0])\n",
    "    \n",
    "    return L_x, L_u, L_xx, L_uu, L_xu, L_ux"
   ]
  },
  {
   "cell_type": "code",
   "execution_count": 35,
   "id": "e145e700-ad9f-4451-8d30-2e129866987d",
   "metadata": {},
   "outputs": [],
   "source": [
    "delta_t = sym.Symbol('\\Delta t')\n",
    "p_x, p_y, v, theta, omega, a = sym.symbols('p_x p_y v theta omega a')\n",
    "p_xr, p_yr, v_r, theta_r, omega_r, a_r = sym.symbols('p_xr p_yr v_r theta_r omega_r a_r')\n",
    "p_xo, p_yo = sym.symbols('p_xo p_yo')\n",
    "\n",
    "x = sym.Matrix([p_x, p_y, v, theta])\n",
    "u = sym.Matrix([omega, a])\n",
    "x_r = sym.Matrix([p_xr, p_yr, v_r, theta_r])\n",
    "x_o = sym.Matrix([p_xo, p_yo, 0, 0])"
   ]
  },
  {
   "cell_type": "code",
   "execution_count": 36,
   "id": "5cbc88b7-30f2-45cb-accf-66dbc54be55a",
   "metadata": {},
   "outputs": [],
   "source": [
    "nx, nu = 4, 2\n",
    "x = sym.MatrixSymbol('x', nx, 1)\n",
    "u = sym.MatrixSymbol('u', nu, 1)\n",
    "Q = sym.MatrixSymbol('Q', nx, nx)\n",
    "R = sym.MatrixSymbol('R', nu, nu)\n",
    "\n",
    "L = x.T @ Q @ x + u.T @ R @ u\n",
    "Lx = L.diff(x)\n",
    "Lu = L.diff(u)\n",
    "Lxx = Lx.diff(x)\n",
    "Luu = Lu.diff(u)\n",
    "Lux = Lu.diff(x)"
   ]
  },
  {
   "cell_type": "code",
   "execution_count": 39,
   "id": "b27d41bb-4242-4657-834b-202cbfd9d0df",
   "metadata": {},
   "outputs": [
    {
     "data": {
      "text/latex": [
       "$\\displaystyle Q = \\left[\\begin{matrix}1 & 0 & 0 & 0\\\\0 & 1 & 0 & 0\\\\0 & 0 & 1 & 0\\\\0 & 0 & 0 & 1\\end{matrix}\\right]$"
      ],
      "text/plain": [
       "<IPython.core.display.Math object>"
      ]
     },
     "metadata": {},
     "output_type": "display_data"
    },
    {
     "data": {
      "text/latex": [
       "$\\displaystyle R = \\left[\\begin{matrix}1 & 0\\\\0 & 1\\end{matrix}\\right]$"
      ],
      "text/plain": [
       "<IPython.core.display.Math object>"
      ]
     },
     "metadata": {},
     "output_type": "display_data"
    }
   ],
   "source": [
    "Q = sym.eye(x.shape[0])\n",
    "R = sym.eye(u.shape[0])\n",
    "# Q = sym.Matrix(np.arange(16)).reshape(4,4)\n",
    "# Q = sym.diag(1, 1, 0, 0)\n",
    "# Q[0,-1] = 1.0\n",
    "# R = sym.diag(2.0, 1.0)\n",
    "# R[0,-1] = 3.0\n",
    "\n",
    "display(Math('Q = ' + sym.latex(Q)))\n",
    "display(Math('R = ' + sym.latex(R)))"
   ]
  },
  {
   "cell_type": "code",
   "execution_count": 40,
   "id": "ebf1b68b-3b9d-419f-94f9-306e4b18695a",
   "metadata": {},
   "outputs": [
    {
     "ename": "AttributeError",
     "evalue": "'MatAdd' object has no attribute 'jacobian'",
     "output_type": "error",
     "traceback": [
      "\u001b[1;31m---------------------------------------------------------------------------\u001b[0m",
      "\u001b[1;31mAttributeError\u001b[0m                            Traceback (most recent call last)",
      "\u001b[1;32m~\\AppData\\Local\\Temp/ipykernel_14488/1868566648.py\u001b[0m in \u001b[0;36m<module>\u001b[1;34m\u001b[0m\n\u001b[1;32m----> 1\u001b[1;33m \u001b[0mL\u001b[0m\u001b[1;33m.\u001b[0m\u001b[0mjacobian\u001b[0m\u001b[1;33m(\u001b[0m\u001b[0mx\u001b[0m\u001b[1;33m)\u001b[0m\u001b[1;33m.\u001b[0m\u001b[0mjacobian\u001b[0m\u001b[1;33m(\u001b[0m\u001b[0mx\u001b[0m\u001b[1;33m)\u001b[0m\u001b[1;33m\u001b[0m\u001b[1;33m\u001b[0m\u001b[0m\n\u001b[0m",
      "\u001b[1;31mAttributeError\u001b[0m: 'MatAdd' object has no attribute 'jacobian'"
     ]
    }
   ],
   "source": [
    "L.jacobian(x).jacobian(x)"
   ]
  },
  {
   "cell_type": "code",
   "execution_count": 41,
   "id": "5eb1ba36-7b6a-4245-810a-97327c26eeab",
   "metadata": {},
   "outputs": [
    {
     "ename": "AttributeError",
     "evalue": "'MatAdd' object has no attribute 'jacobian'",
     "output_type": "error",
     "traceback": [
      "\u001b[1;31m---------------------------------------------------------------------------\u001b[0m",
      "\u001b[1;31mAttributeError\u001b[0m                            Traceback (most recent call last)",
      "\u001b[1;32m~\\AppData\\Local\\Temp/ipykernel_14488/1438670774.py\u001b[0m in \u001b[0;36m<module>\u001b[1;34m\u001b[0m\n\u001b[0;32m      1\u001b[0m \u001b[0mL\u001b[0m \u001b[1;33m=\u001b[0m \u001b[1;33m(\u001b[0m\u001b[0mx\u001b[0m \u001b[1;33m-\u001b[0m \u001b[0mx_r\u001b[0m\u001b[1;33m)\u001b[0m\u001b[1;33m.\u001b[0m\u001b[0mT\u001b[0m \u001b[1;33m@\u001b[0m \u001b[0mQ\u001b[0m \u001b[1;33m@\u001b[0m \u001b[1;33m(\u001b[0m\u001b[0mx\u001b[0m \u001b[1;33m-\u001b[0m \u001b[0mx_r\u001b[0m\u001b[1;33m)\u001b[0m \u001b[1;33m+\u001b[0m \u001b[1;33m(\u001b[0m\u001b[0mu\u001b[0m\u001b[1;33m.\u001b[0m\u001b[0mT\u001b[0m \u001b[1;33m@\u001b[0m \u001b[0mR\u001b[0m \u001b[1;33m@\u001b[0m \u001b[0mu\u001b[0m\u001b[1;33m)\u001b[0m\u001b[1;33m\u001b[0m\u001b[1;33m\u001b[0m\u001b[0m\n\u001b[1;32m----> 2\u001b[1;33m \u001b[0mL_x\u001b[0m\u001b[1;33m,\u001b[0m \u001b[0mL_u\u001b[0m\u001b[1;33m,\u001b[0m \u001b[0mL_xx\u001b[0m\u001b[1;33m,\u001b[0m \u001b[0mL_uu\u001b[0m\u001b[1;33m,\u001b[0m \u001b[0mL_xu\u001b[0m\u001b[1;33m,\u001b[0m \u001b[0mL_ux\u001b[0m \u001b[1;33m=\u001b[0m \u001b[0mquadraticize\u001b[0m\u001b[1;33m(\u001b[0m\u001b[0mL\u001b[0m\u001b[1;33m,\u001b[0m \u001b[0mx\u001b[0m\u001b[1;33m,\u001b[0m \u001b[0mu\u001b[0m\u001b[1;33m)\u001b[0m\u001b[1;33m\u001b[0m\u001b[1;33m\u001b[0m\u001b[0m\n\u001b[0m\u001b[0;32m      3\u001b[0m \u001b[0mL_x_a\u001b[0m\u001b[1;33m,\u001b[0m \u001b[0mL_u_a\u001b[0m\u001b[1;33m,\u001b[0m \u001b[0mL_xx_a\u001b[0m\u001b[1;33m,\u001b[0m \u001b[0mL_uu_a\u001b[0m\u001b[1;33m,\u001b[0m \u001b[0mL_xu_a\u001b[0m\u001b[1;33m,\u001b[0m \u001b[0mL_ux_a\u001b[0m \u001b[1;33m=\u001b[0m \u001b[0mquadraticize_reference\u001b[0m\u001b[1;33m(\u001b[0m\u001b[0mx\u001b[0m\u001b[1;33m,\u001b[0m \u001b[0mu\u001b[0m\u001b[1;33m,\u001b[0m \u001b[0mx_r\u001b[0m\u001b[1;33m,\u001b[0m \u001b[0mQ\u001b[0m\u001b[1;33m,\u001b[0m \u001b[0mR\u001b[0m\u001b[1;33m)\u001b[0m\u001b[1;33m\u001b[0m\u001b[1;33m\u001b[0m\u001b[0m\n\u001b[0;32m      4\u001b[0m \u001b[1;33m\u001b[0m\u001b[0m\n\u001b[0;32m      5\u001b[0m \u001b[0mdisplay\u001b[0m\u001b[1;33m(\u001b[0m\u001b[0mMath\u001b[0m\u001b[1;33m(\u001b[0m\u001b[1;34m'L_u = '\u001b[0m \u001b[1;33m+\u001b[0m \u001b[0msym\u001b[0m\u001b[1;33m.\u001b[0m\u001b[0mlatex\u001b[0m\u001b[1;33m(\u001b[0m\u001b[0mL_u\u001b[0m\u001b[1;33m)\u001b[0m \u001b[1;33m+\u001b[0m \u001b[1;34m' = u^T (R + R^T) = '\u001b[0m \u001b[1;33m+\u001b[0m \u001b[0msym\u001b[0m\u001b[1;33m.\u001b[0m\u001b[0mlatex\u001b[0m\u001b[1;33m(\u001b[0m\u001b[0mL_u_a\u001b[0m\u001b[1;33m)\u001b[0m\u001b[1;33m)\u001b[0m\u001b[1;33m)\u001b[0m\u001b[1;33m\u001b[0m\u001b[1;33m\u001b[0m\u001b[0m\n",
      "\u001b[1;32m~\\AppData\\Local\\Temp/ipykernel_14488/1361773516.py\u001b[0m in \u001b[0;36mquadraticize\u001b[1;34m(L, x, u)\u001b[0m\n\u001b[0;32m      2\u001b[0m     \u001b[1;34m\"\"\"Quadraticize the costs with respect to the states and controls.\"\"\"\u001b[0m\u001b[1;33m\u001b[0m\u001b[1;33m\u001b[0m\u001b[0m\n\u001b[0;32m      3\u001b[0m \u001b[1;33m\u001b[0m\u001b[0m\n\u001b[1;32m----> 4\u001b[1;33m     \u001b[0mL_x\u001b[0m \u001b[1;33m=\u001b[0m \u001b[0mL\u001b[0m\u001b[1;33m.\u001b[0m\u001b[0mjacobian\u001b[0m\u001b[1;33m(\u001b[0m\u001b[0mx\u001b[0m\u001b[1;33m)\u001b[0m\u001b[1;33m\u001b[0m\u001b[1;33m\u001b[0m\u001b[0m\n\u001b[0m\u001b[0;32m      5\u001b[0m     \u001b[0mL_u\u001b[0m \u001b[1;33m=\u001b[0m \u001b[0mL\u001b[0m\u001b[1;33m.\u001b[0m\u001b[0mjacobian\u001b[0m\u001b[1;33m(\u001b[0m\u001b[0mu\u001b[0m\u001b[1;33m)\u001b[0m\u001b[1;33m\u001b[0m\u001b[1;33m\u001b[0m\u001b[0m\n\u001b[0;32m      6\u001b[0m     \u001b[0mL_xx\u001b[0m \u001b[1;33m=\u001b[0m \u001b[0mL_x\u001b[0m\u001b[1;33m.\u001b[0m\u001b[0mjacobian\u001b[0m\u001b[1;33m(\u001b[0m\u001b[0mx\u001b[0m\u001b[1;33m)\u001b[0m\u001b[1;33m\u001b[0m\u001b[1;33m\u001b[0m\u001b[0m\n",
      "\u001b[1;31mAttributeError\u001b[0m: 'MatAdd' object has no attribute 'jacobian'"
     ]
    }
   ],
   "source": [
    "L = (x - x_r).T @ Q @ (x - x_r) + (u.T @ R @ u)\n",
    "L_x, L_u, L_xx, L_uu, L_xu, L_ux = quadraticize(L, x, u)\n",
    "L_x_a, L_u_a, L_xx_a, L_uu_a, L_xu_a, L_ux_a = quadraticize_reference(x, u, x_r, Q, R)\n",
    "\n",
    "display(Math('L_u = ' + sym.latex(L_u) + ' = u^T (R + R^T) = ' + sym.latex(L_u_a)))\n",
    "display(Math('L_x = ' + sym.latex(L_x) + ' = (x - x_r)^T (Q + Q^T)'))\n",
    "display(Math('L_{xx} = ' + sym.latex(L_xx) + ' = Q + Q^T = ' + sym.latex(L_xx_a)))\n",
    "display(Math('L_{uu} = ' + sym.latex(L_uu) + ' = R + R^T = ' + sym.latex(L_uu_a)))\n",
    "display(Math('L_{xu} = L_{ux}^T = ' + sym.latex(L_xu_a)))"
   ]
  },
  {
   "cell_type": "code",
   "execution_count": 42,
   "id": "fd729603-3279-4a1b-a7d8-2188e16a4292",
   "metadata": {},
   "outputs": [
    {
     "ename": "NameError",
     "evalue": "name 'L_x' is not defined",
     "output_type": "error",
     "traceback": [
      "\u001b[1;31m---------------------------------------------------------------------------\u001b[0m",
      "\u001b[1;31mNameError\u001b[0m                                 Traceback (most recent call last)",
      "\u001b[1;32m~\\AppData\\Local\\Temp/ipykernel_14488/654684626.py\u001b[0m in \u001b[0;36m<module>\u001b[1;34m\u001b[0m\n\u001b[1;32m----> 1\u001b[1;33m \u001b[0mdL_dxu\u001b[0m \u001b[1;33m=\u001b[0m \u001b[0mL_x\u001b[0m\u001b[1;33m.\u001b[0m\u001b[0mrow_join\u001b[0m\u001b[1;33m(\u001b[0m\u001b[0mL_u\u001b[0m\u001b[1;33m)\u001b[0m \u001b[1;31m# Gradient\u001b[0m\u001b[1;33m\u001b[0m\u001b[1;33m\u001b[0m\u001b[0m\n\u001b[0m\u001b[0;32m      2\u001b[0m \u001b[0mdL_dxu\u001b[0m\u001b[1;33m\u001b[0m\u001b[1;33m\u001b[0m\u001b[0m\n",
      "\u001b[1;31mNameError\u001b[0m: name 'L_x' is not defined"
     ]
    }
   ],
   "source": [
    "dL_dxu = L_x.row_join(L_u) # Gradient\n",
    "dL_dxu"
   ]
  },
  {
   "cell_type": "code",
   "execution_count": 43,
   "id": "6f8e7052-6cbd-4cfd-bee9-0d7adaf4192a",
   "metadata": {},
   "outputs": [
    {
     "ename": "NameError",
     "evalue": "name 'L_xx' is not defined",
     "output_type": "error",
     "traceback": [
      "\u001b[1;31m---------------------------------------------------------------------------\u001b[0m",
      "\u001b[1;31mNameError\u001b[0m                                 Traceback (most recent call last)",
      "\u001b[1;32m~\\AppData\\Local\\Temp/ipykernel_14488/48651314.py\u001b[0m in \u001b[0;36m<module>\u001b[1;34m\u001b[0m\n\u001b[0;32m      1\u001b[0m dL2_dxu2 = sym.Matrix(sym.BlockMatrix([\n\u001b[1;32m----> 2\u001b[1;33m     \u001b[1;33m[\u001b[0m\u001b[0mL_xx\u001b[0m\u001b[1;33m,\u001b[0m \u001b[0mL_xu\u001b[0m\u001b[1;33m]\u001b[0m\u001b[1;33m,\u001b[0m\u001b[1;33m\u001b[0m\u001b[1;33m\u001b[0m\u001b[0m\n\u001b[0m\u001b[0;32m      3\u001b[0m     \u001b[1;33m[\u001b[0m\u001b[0mL_xu\u001b[0m\u001b[1;33m.\u001b[0m\u001b[0mT\u001b[0m\u001b[1;33m,\u001b[0m \u001b[0mL_uu\u001b[0m\u001b[1;33m]\u001b[0m\u001b[1;33m\u001b[0m\u001b[1;33m\u001b[0m\u001b[0m\n\u001b[0;32m      4\u001b[0m ])) # Hessian\n\u001b[0;32m      5\u001b[0m \u001b[0mdL2_dxu2\u001b[0m\u001b[1;33m\u001b[0m\u001b[1;33m\u001b[0m\u001b[0m\n",
      "\u001b[1;31mNameError\u001b[0m: name 'L_xx' is not defined"
     ]
    }
   ],
   "source": [
    "dL2_dxu2 = sym.Matrix(sym.BlockMatrix([\n",
    "    [L_xx, L_xu],\n",
    "    [L_xu.T, L_uu]\n",
    "])) # Hessian\n",
    "dL2_dxu2"
   ]
  },
  {
   "cell_type": "code",
   "execution_count": 14,
   "id": "5779d73b-b231-45be-9a97-bedc99e3517d",
   "metadata": {},
   "outputs": [
    {
     "ename": "AttributeError",
     "evalue": "'MatMul' object has no attribute 'jacobian'",
     "output_type": "error",
     "traceback": [
      "\u001b[0;31m---------------------------------------------------------------------------\u001b[0m",
      "\u001b[0;31mAttributeError\u001b[0m                            Traceback (most recent call last)",
      "Input \u001b[0;32mIn [14]\u001b[0m, in \u001b[0;36m<cell line: 3>\u001b[0;34m()\u001b[0m\n\u001b[1;32m      1\u001b[0m γ \u001b[38;5;241m=\u001b[39m sym\u001b[38;5;241m.\u001b[39msymbols(\u001b[38;5;124m'\u001b[39m\u001b[38;5;124mgamma\u001b[39m\u001b[38;5;124m'\u001b[39m)\n\u001b[1;32m      2\u001b[0m L_N \u001b[38;5;241m=\u001b[39m γ \u001b[38;5;241m*\u001b[39m (x \u001b[38;5;241m-\u001b[39m x_r)\u001b[38;5;241m.\u001b[39mT \u001b[38;5;241m@\u001b[39m Q \u001b[38;5;241m@\u001b[39m (x \u001b[38;5;241m-\u001b[39m x_r)\n\u001b[0;32m----> 3\u001b[0m L_x, L_u, L_xx, L_uu, L_xu, L_ux \u001b[38;5;241m=\u001b[39m \u001b[43mquadraticize\u001b[49m\u001b[43m(\u001b[49m\u001b[43mL_N\u001b[49m\u001b[43m,\u001b[49m\u001b[43m \u001b[49m\u001b[43mx\u001b[49m\u001b[43m,\u001b[49m\u001b[43m \u001b[49m\u001b[43mu\u001b[49m\u001b[43m)\u001b[49m\n\u001b[1;32m      4\u001b[0m L_x_a, L_u_a, L_xx_a, L_uu_a, L_xu_a, L_ux_a \u001b[38;5;241m=\u001b[39m quadraticize_reference(x, u, x_r, Q, R, terminal\u001b[38;5;241m=\u001b[39m\u001b[38;5;28;01mTrue\u001b[39;00m)\n\u001b[1;32m      6\u001b[0m display(Math(\u001b[38;5;124m'\u001b[39m\u001b[38;5;124mL_u = \u001b[39m\u001b[38;5;124m'\u001b[39m \u001b[38;5;241m+\u001b[39m sym\u001b[38;5;241m.\u001b[39mlatex(L_u) \u001b[38;5;241m+\u001b[39m \u001b[38;5;124m'\u001b[39m\u001b[38;5;124m = u^T (R + R^T) = \u001b[39m\u001b[38;5;124m'\u001b[39m \u001b[38;5;241m+\u001b[39m sym\u001b[38;5;241m.\u001b[39mlatex(L_u_a)))\n",
      "Input \u001b[0;32mIn [5]\u001b[0m, in \u001b[0;36mquadraticize\u001b[0;34m(L, x, u)\u001b[0m\n\u001b[1;32m      1\u001b[0m \u001b[38;5;28;01mdef\u001b[39;00m \u001b[38;5;21mquadraticize\u001b[39m(L, x, u):\n\u001b[1;32m      2\u001b[0m     \u001b[38;5;124;03m\"\"\"Quadraticize the costs with respect to the states and controls.\"\"\"\u001b[39;00m\n\u001b[0;32m----> 4\u001b[0m     L_x \u001b[38;5;241m=\u001b[39m \u001b[43mL\u001b[49m\u001b[38;5;241;43m.\u001b[39;49m\u001b[43mjacobian\u001b[49m(x)\n\u001b[1;32m      5\u001b[0m     L_u \u001b[38;5;241m=\u001b[39m L\u001b[38;5;241m.\u001b[39mjacobian(u)\n\u001b[1;32m      6\u001b[0m     L_xx \u001b[38;5;241m=\u001b[39m L_x\u001b[38;5;241m.\u001b[39mjacobian(x)\n",
      "\u001b[0;31mAttributeError\u001b[0m: 'MatMul' object has no attribute 'jacobian'"
     ]
    }
   ],
   "source": [
    "γ = sym.symbols('gamma')\n",
    "L_N = γ * (x - x_r).T @ Q @ (x - x_r)\n",
    "L_x, L_u, L_xx, L_uu, L_xu, L_ux = quadraticize(L_N, x, u)\n",
    "L_x_a, L_u_a, L_xx_a, L_uu_a, L_xu_a, L_ux_a = quadraticize_reference(x, u, x_r, Q, R, terminal=True)\n",
    "\n",
    "display(Math('L_u = ' + sym.latex(L_u) + ' = u^T (R + R^T) = ' + sym.latex(L_u_a)))\n",
    "display(Math('L_x = ' + sym.latex(L_x.T) + ' = (x - x_r)^T (Q + Q^T) = ' + sym.latex(L_x_a.T)))\n",
    "display(Math('L_{xx} = ' + sym.latex(L_xx) + ' = Q + Q^T = ' + sym.latex(L_xx_a)))\n",
    "display(Math('L_{uu} = ' + sym.latex(L_uu) + ' = R + R^T = ' + sym.latex(L_uu_a)))\n",
    "display(Math('L_{xu} = L_{ux}^T = ' + sym.latex(L_xu_a)))"
   ]
  },
  {
   "cell_type": "markdown",
   "id": "f3f1cb6c-ce19-4fca-bc41-e81726e36371",
   "metadata": {},
   "source": [
    "### Obstacle Cost\n",
    "$$L = \\min(0, d-d_{max})^2$$"
   ]
  },
  {
   "cell_type": "code",
   "execution_count": 30,
   "id": "c05dbd6c-b618-4514-94df-21b478c48f92",
   "metadata": {},
   "outputs": [],
   "source": [
    "from sympy.functions.elementary.piecewise import Piecewise\n",
    "import matplotlib.pyplot as plt"
   ]
  },
  {
   "cell_type": "code",
   "execution_count": 31,
   "id": "4492a169-062a-4fa6-974c-e67923aedb28",
   "metadata": {},
   "outputs": [
    {
     "data": {
      "application/vnd.jupyter.widget-view+json": {
       "model_id": "fb7d6aa7c2b440bd895c0611ae3eff54",
       "version_major": 2,
       "version_minor": 0
      },
      "image/png": "[encoded data removed]",
      "text/html": [
       "\n",
       "            <div style=\"display: inline-block;\">\n",
       "                <div class=\"jupyter-widgets widget-label\" style=\"text-align: center;\">\n",
       "                    Figure\n",
       "                </div>\n",
       "                <img src='data:image/png;base64,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' width=640.0/>\n",
       "            </div>\n",
       "        "
      ],
      "text/plain": [
       "Canvas(toolbar=Toolbar(toolitems=[('Home', 'Reset original view', 'home', 'home'), ('Back', 'Back to previous …"
      ]
     },
     "metadata": {},
     "output_type": "display_data"
    },
    {
     "data": {
      "application/vnd.jupyter.widget-view+json": {
       "model_id": "95588f25815041c19195e89081af7ad7",
       "version_major": 2,
       "version_minor": 0
      },
      "image/png": "[encoded data removed]",
      "text/html": [
       "\n",
       "            <div style=\"display: inline-block;\">\n",
       "                <div class=\"jupyter-widgets widget-label\" style=\"text-align: center;\">\n",
       "                    Figure\n",
       "                </div>\n",
       "                <img src='data:image/png;base64,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' width=640.0/>\n",
       "            </div>\n",
       "        "
      ],
      "text/plain": [
       "Canvas(toolbar=Toolbar(toolitems=[('Home', 'Reset original view', 'home', 'home'), ('Back', 'Back to previous …"
      ]
     },
     "metadata": {},
     "output_type": "display_data"
    },
    {
     "data": {
      "text/plain": [
       "Text(0.5, 1.0, 'Lx')"
      ]
     },
     "execution_count": 31,
     "metadata": {},
     "output_type": "execute_result"
    }
   ],
   "source": [
    "d_max, d = sym.symbols('d_{max} d', positive=True)\n",
    "L = Piecewise((0, d > d_max), ((d - d_max)**2, d <= d_max))\n",
    "\n",
    "sym.plot(L.subs(d_max, 5), (d, 0, 10))\n",
    "plt.title('L')\n",
    "sym.plot(L.subs(d_max, 5).diff(d), (d, 0, 10))\n",
    "plt.title('Lx')"
   ]
  },
  {
   "cell_type": "code",
   "execution_count": 82,
   "id": "40aaa3f7-d25a-4c6e-bc3b-1f78768aa056",
   "metadata": {},
   "outputs": [
    {
     "data": {
      "text/latex": [
       "$\\displaystyle \\left[\\begin{matrix}\\left(- d_{max} + \\sqrt{\\left(a_{x} - b_{x}\\right)^{2} + \\left(a_{y} - b_{y}\\right)^{2} + \\left(a_{z} - b_{z}\\right)^{2}}\\right)^{2}\\end{matrix}\\right]$"
      ],
      "text/plain": [
       "Matrix([[(-d_{max} + sqrt((a_x - b_x)**2 + (a_y - b_y)**2 + (a_z - b_z)**2))**2]])"
      ]
     },
     "execution_count": 82,
     "metadata": {},
     "output_type": "execute_result"
    }
   ],
   "source": [
    "a_x, a_y, a_z, b_x, b_y, b_z = sym.symbols('a_x a_y a_z b_x b_y b_z')\n",
    "x = sym.Matrix([a_x, a_y, a_z, v, theta, b_x, b_y, b_z, theta])\n",
    "d = sym.sqrt((a_x - b_x)**2 + (a_y - b_y)**2 + (a_z - b_z)**2)\n",
    "L = sym.Matrix([(d - d_max)**2])\n",
    "\n",
    "x2 = sym.Matrix([a_x, a_y, v, theta, b_x, b_y, theta])\n",
    "d2 = sym.sqrt((a_x - b_x)**2 + (a_y - b_y)**2)\n",
    "L2 = sym.Matrix([(d2 - d_max)**2])\n",
    "\n",
    "L"
   ]
  },
  {
   "cell_type": "code",
   "execution_count": 83,
   "id": "e7a32576-81db-428c-89c8-b844c40e5538",
   "metadata": {},
   "outputs": [
    {
     "data": {
      "text/latex": [
       "$\\displaystyle \\left[\\begin{matrix}- \\frac{2 \\left(a_{x} - b_{x}\\right) \\left(d_{max} - \\sqrt{\\left(a_{x} - b_{x}\\right)^{2} + \\left(a_{y} - b_{y}\\right)^{2} + \\left(a_{z} - b_{z}\\right)^{2}}\\right)}{\\sqrt{\\left(a_{x} - b_{x}\\right)^{2} + \\left(a_{y} - b_{y}\\right)^{2} + \\left(a_{z} - b_{z}\\right)^{2}}} & - \\frac{2 \\left(a_{y} - b_{y}\\right) \\left(d_{max} - \\sqrt{\\left(a_{x} - b_{x}\\right)^{2} + \\left(a_{y} - b_{y}\\right)^{2} + \\left(a_{z} - b_{z}\\right)^{2}}\\right)}{\\sqrt{\\left(a_{x} - b_{x}\\right)^{2} + \\left(a_{y} - b_{y}\\right)^{2} + \\left(a_{z} - b_{z}\\right)^{2}}} & - \\frac{2 \\left(a_{z} - b_{z}\\right) \\left(d_{max} - \\sqrt{\\left(a_{x} - b_{x}\\right)^{2} + \\left(a_{y} - b_{y}\\right)^{2} + \\left(a_{z} - b_{z}\\right)^{2}}\\right)}{\\sqrt{\\left(a_{x} - b_{x}\\right)^{2} + \\left(a_{y} - b_{y}\\right)^{2} + \\left(a_{z} - b_{z}\\right)^{2}}} & 0 & 0 & \\frac{2 \\left(a_{x} - b_{x}\\right) \\left(d_{max} - \\sqrt{\\left(a_{x} - b_{x}\\right)^{2} + \\left(a_{y} - b_{y}\\right)^{2} + \\left(a_{z} - b_{z}\\right)^{2}}\\right)}{\\sqrt{\\left(a_{x} - b_{x}\\right)^{2} + \\left(a_{y} - b_{y}\\right)^{2} + \\left(a_{z} - b_{z}\\right)^{2}}} & \\frac{2 \\left(a_{y} - b_{y}\\right) \\left(d_{max} - \\sqrt{\\left(a_{x} - b_{x}\\right)^{2} + \\left(a_{y} - b_{y}\\right)^{2} + \\left(a_{z} - b_{z}\\right)^{2}}\\right)}{\\sqrt{\\left(a_{x} - b_{x}\\right)^{2} + \\left(a_{y} - b_{y}\\right)^{2} + \\left(a_{z} - b_{z}\\right)^{2}}} & \\frac{2 \\left(a_{z} - b_{z}\\right) \\left(d_{max} - \\sqrt{\\left(a_{x} - b_{x}\\right)^{2} + \\left(a_{y} - b_{y}\\right)^{2} + \\left(a_{z} - b_{z}\\right)^{2}}\\right)}{\\sqrt{\\left(a_{x} - b_{x}\\right)^{2} + \\left(a_{y} - b_{y}\\right)^{2} + \\left(a_{z} - b_{z}\\right)^{2}}} & 0\\end{matrix}\\right]$"
      ],
      "text/plain": [
       "Matrix([[-2*(a_x - b_x)*(d_{max} - sqrt((a_x - b_x)**2 + (a_y - b_y)**2 + (a_z - b_z)**2))/sqrt((a_x - b_x)**2 + (a_y - b_y)**2 + (a_z - b_z)**2), -2*(a_y - b_y)*(d_{max} - sqrt((a_x - b_x)**2 + (a_y - b_y)**2 + (a_z - b_z)**2))/sqrt((a_x - b_x)**2 + (a_y - b_y)**2 + (a_z - b_z)**2), -2*(a_z - b_z)*(d_{max} - sqrt((a_x - b_x)**2 + (a_y - b_y)**2 + (a_z - b_z)**2))/sqrt((a_x - b_x)**2 + (a_y - b_y)**2 + (a_z - b_z)**2), 0, 0, 2*(a_x - b_x)*(d_{max} - sqrt((a_x - b_x)**2 + (a_y - b_y)**2 + (a_z - b_z)**2))/sqrt((a_x - b_x)**2 + (a_y - b_y)**2 + (a_z - b_z)**2), 2*(a_y - b_y)*(d_{max} - sqrt((a_x - b_x)**2 + (a_y - b_y)**2 + (a_z - b_z)**2))/sqrt((a_x - b_x)**2 + (a_y - b_y)**2 + (a_z - b_z)**2), 2*(a_z - b_z)*(d_{max} - sqrt((a_x - b_x)**2 + (a_y - b_y)**2 + (a_z - b_z)**2))/sqrt((a_x - b_x)**2 + (a_y - b_y)**2 + (a_z - b_z)**2), 0]])"
      ]
     },
     "execution_count": 83,
     "metadata": {},
     "output_type": "execute_result"
    }
   ],
   "source": [
    "L_x, _, L_xx, *_ = quadraticize(L, x, u)\n",
    "L_x2, _, L_xx2, *_ = quadraticize(L2, x, u)\n",
    "L_x.simplify()\n",
    "L_x"
   ]
  },
  {
   "cell_type": "code",
   "execution_count": 88,
   "id": "96b00ee2-4e5c-424c-9647-292e394c37de",
   "metadata": {},
   "outputs": [
    {
     "data": {
      "text/latex": [
       "$\\displaystyle \\left[\\begin{matrix}1.21185173052674 & 1.41866688505187 & -0.709333442525933 & 0 & 0 & -1.21185173052674 & -1.41866688505187 & 0.709333442525933 & 0\\\\1.41866688505187 & -1.34963014526135 & -0.315259307789304 & 0 & 0 & -1.41866688505187 & 1.34963014526135 & 0.315259307789304 & 0\\\\-0.709333442525933 & -0.315259307789304 & -1.82251910694531 & 0 & 0 & 0.709333442525933 & 0.315259307789304 & 1.82251910694531 & 0\\\\0 & 0 & 0 & 0 & 0 & 0 & 0 & 0 & 0\\\\0 & 0 & 0 & 0 & 0 & 0 & 0 & 0 & 0\\\\-1.21185173052674 & -1.41866688505187 & 0.709333442525933 & 0 & 0 & 1.21185173052674 & 1.41866688505187 & -0.709333442525933 & 0\\\\-1.41866688505187 & 1.34963014526135 & 0.315259307789304 & 0 & 0 & 1.41866688505187 & -1.34963014526135 & -0.315259307789304 & 0\\\\0.709333442525933 & 0.315259307789304 & 1.82251910694531 & 0 & 0 & -0.709333442525933 & -0.315259307789304 & -1.82251910694531 & 0\\\\0 & 0 & 0 & 0 & 0 & 0 & 0 & 0 & 0\\end{matrix}\\right]$"
      ],
      "text/plain": [
       "Matrix([\n",
       "[  1.21185173052674,   1.41866688505187, -0.709333442525933, 0, 0,  -1.21185173052674,  -1.41866688505187,  0.709333442525933, 0],\n",
       "[  1.41866688505187,  -1.34963014526135, -0.315259307789304, 0, 0,  -1.41866688505187,   1.34963014526135,  0.315259307789304, 0],\n",
       "[-0.709333442525933, -0.315259307789304,  -1.82251910694531, 0, 0,  0.709333442525933,  0.315259307789304,   1.82251910694531, 0],\n",
       "[                 0,                  0,                  0, 0, 0,                  0,                  0,                  0, 0],\n",
       "[                 0,                  0,                  0, 0, 0,                  0,                  0,                  0, 0],\n",
       "[ -1.21185173052674,  -1.41866688505187,  0.709333442525933, 0, 0,   1.21185173052674,   1.41866688505187, -0.709333442525933, 0],\n",
       "[ -1.41866688505187,   1.34963014526135,  0.315259307789304, 0, 0,   1.41866688505187,  -1.34963014526135, -0.315259307789304, 0],\n",
       "[ 0.709333442525933,  0.315259307789304,   1.82251910694531, 0, 0, -0.709333442525933, -0.315259307789304,  -1.82251910694531, 0],\n",
       "[                 0,                  0,                  0, 0, 0,                  0,                  0,                  0, 0]])"
      ]
     },
     "execution_count": 88,
     "metadata": {},
     "output_type": "execute_result"
    }
   ],
   "source": [
    "L_xx.subs({\"a_x\": 0.1, \"a_y\": 0., \"a_z\": 0.5, \"b_x\": 1, \"b_y\": 0.4, \"b_z\": 0.3, d_max: 2.0})"
   ]
  },
  {
   "cell_type": "code",
   "execution_count": 51,
   "id": "4c738895-4e07-453b-b741-6ad1d6cfcb53",
   "metadata": {},
   "outputs": [
    {
     "data": {
      "text/latex": [
       "$\\displaystyle \\left[\\begin{matrix}\\frac{2 d_{max} \\left(a_{x} - b_{x}\\right)^{2}}{\\left(\\left(a_{x} - b_{x}\\right)^{2} + \\left(a_{y} - b_{y}\\right)^{2} + \\left(a_{z} - b_{z}\\right)^{2}\\right)^{\\frac{3}{2}}} - \\frac{2 d_{max}}{\\sqrt{\\left(a_{x} - b_{x}\\right)^{2} + \\left(a_{y} - b_{y}\\right)^{2} + \\left(a_{z} - b_{z}\\right)^{2}}} + 2 & \\frac{2 d_{max} \\left(a_{x} a_{y} - a_{x} b_{y} - a_{y} b_{x} + b_{x} b_{y}\\right)}{\\left(a_{x}^{2} - 2 a_{x} b_{x} + a_{y}^{2} - 2 a_{y} b_{y} + a_{z}^{2} - 2 a_{z} b_{z} + b_{x}^{2} + b_{y}^{2} + b_{z}^{2}\\right)^{\\frac{3}{2}}} & \\frac{2 d_{max} \\left(a_{x} a_{z} - a_{x} b_{z} - a_{z} b_{x} + b_{x} b_{z}\\right)}{\\left(a_{x}^{2} - 2 a_{x} b_{x} + a_{y}^{2} - 2 a_{y} b_{y} + a_{z}^{2} - 2 a_{z} b_{z} + b_{x}^{2} + b_{y}^{2} + b_{z}^{2}\\right)^{\\frac{3}{2}}} & 0 & 0 & - \\frac{2 d_{max} \\left(a_{x} - b_{x}\\right)^{2}}{\\left(\\left(a_{x} - b_{x}\\right)^{2} + \\left(a_{y} - b_{y}\\right)^{2} + \\left(a_{z} - b_{z}\\right)^{2}\\right)^{\\frac{3}{2}}} + \\frac{2 d_{max}}{\\sqrt{\\left(a_{x} - b_{x}\\right)^{2} + \\left(a_{y} - b_{y}\\right)^{2} + \\left(a_{z} - b_{z}\\right)^{2}}} - 2 & \\frac{2 d_{max} \\left(- a_{x} a_{y} + a_{x} b_{y} + a_{y} b_{x} - b_{x} b_{y}\\right)}{\\left(a_{x}^{2} - 2 a_{x} b_{x} + a_{y}^{2} - 2 a_{y} b_{y} + a_{z}^{2} - 2 a_{z} b_{z} + b_{x}^{2} + b_{y}^{2} + b_{z}^{2}\\right)^{\\frac{3}{2}}} & \\frac{2 d_{max} \\left(- a_{x} a_{z} + a_{x} b_{z} + a_{z} b_{x} - b_{x} b_{z}\\right)}{\\left(a_{x}^{2} - 2 a_{x} b_{x} + a_{y}^{2} - 2 a_{y} b_{y} + a_{z}^{2} - 2 a_{z} b_{z} + b_{x}^{2} + b_{y}^{2} + b_{z}^{2}\\right)^{\\frac{3}{2}}} & 0\\\\\\frac{2 d_{max} \\left(a_{x} a_{y} - a_{x} b_{y} - a_{y} b_{x} + b_{x} b_{y}\\right)}{\\left(a_{x}^{2} - 2 a_{x} b_{x} + a_{y}^{2} - 2 a_{y} b_{y} + a_{z}^{2} - 2 a_{z} b_{z} + b_{x}^{2} + b_{y}^{2} + b_{z}^{2}\\right)^{\\frac{3}{2}}} & \\frac{2 d_{max} \\left(a_{y} - b_{y}\\right)^{2}}{\\left(\\left(a_{x} - b_{x}\\right)^{2} + \\left(a_{y} - b_{y}\\right)^{2} + \\left(a_{z} - b_{z}\\right)^{2}\\right)^{\\frac{3}{2}}} - \\frac{2 d_{max}}{\\sqrt{\\left(a_{x} - b_{x}\\right)^{2} + \\left(a_{y} - b_{y}\\right)^{2} + \\left(a_{z} - b_{z}\\right)^{2}}} + 2 & \\frac{2 d_{max} \\left(a_{y} a_{z} - a_{y} b_{z} - a_{z} b_{y} + b_{y} b_{z}\\right)}{\\left(a_{x}^{2} - 2 a_{x} b_{x} + a_{y}^{2} - 2 a_{y} b_{y} + a_{z}^{2} - 2 a_{z} b_{z} + b_{x}^{2} + b_{y}^{2} + b_{z}^{2}\\right)^{\\frac{3}{2}}} & 0 & 0 & \\frac{2 d_{max} \\left(- a_{x} a_{y} + a_{x} b_{y} + a_{y} b_{x} - b_{x} b_{y}\\right)}{\\left(a_{x}^{2} - 2 a_{x} b_{x} + a_{y}^{2} - 2 a_{y} b_{y} + a_{z}^{2} - 2 a_{z} b_{z} + b_{x}^{2} + b_{y}^{2} + b_{z}^{2}\\right)^{\\frac{3}{2}}} & - \\frac{2 d_{max} \\left(a_{y} - b_{y}\\right)^{2}}{\\left(\\left(a_{x} - b_{x}\\right)^{2} + \\left(a_{y} - b_{y}\\right)^{2} + \\left(a_{z} - b_{z}\\right)^{2}\\right)^{\\frac{3}{2}}} + \\frac{2 d_{max}}{\\sqrt{\\left(a_{x} - b_{x}\\right)^{2} + \\left(a_{y} - b_{y}\\right)^{2} + \\left(a_{z} - b_{z}\\right)^{2}}} - 2 & \\frac{2 d_{max} \\left(- a_{y} a_{z} + a_{y} b_{z} + a_{z} b_{y} - b_{y} b_{z}\\right)}{\\left(a_{x}^{2} - 2 a_{x} b_{x} + a_{y}^{2} - 2 a_{y} b_{y} + a_{z}^{2} - 2 a_{z} b_{z} + b_{x}^{2} + b_{y}^{2} + b_{z}^{2}\\right)^{\\frac{3}{2}}} & 0\\\\\\frac{2 d_{max} \\left(a_{x} a_{z} - a_{x} b_{z} - a_{z} b_{x} + b_{x} b_{z}\\right)}{\\left(a_{x}^{2} - 2 a_{x} b_{x} + a_{y}^{2} - 2 a_{y} b_{y} + a_{z}^{2} - 2 a_{z} b_{z} + b_{x}^{2} + b_{y}^{2} + b_{z}^{2}\\right)^{\\frac{3}{2}}} & \\frac{2 d_{max} \\left(a_{y} a_{z} - a_{y} b_{z} - a_{z} b_{y} + b_{y} b_{z}\\right)}{\\left(a_{x}^{2} - 2 a_{x} b_{x} + a_{y}^{2} - 2 a_{y} b_{y} + a_{z}^{2} - 2 a_{z} b_{z} + b_{x}^{2} + b_{y}^{2} + b_{z}^{2}\\right)^{\\frac{3}{2}}} & \\frac{2 d_{max} \\left(a_{z} - b_{z}\\right)^{2}}{\\left(\\left(a_{x} - b_{x}\\right)^{2} + \\left(a_{y} - b_{y}\\right)^{2} + \\left(a_{z} - b_{z}\\right)^{2}\\right)^{\\frac{3}{2}}} - \\frac{2 d_{max}}{\\sqrt{\\left(a_{x} - b_{x}\\right)^{2} + \\left(a_{y} - b_{y}\\right)^{2} + \\left(a_{z} - b_{z}\\right)^{2}}} + 2 & 0 & 0 & \\frac{2 d_{max} \\left(- a_{x} a_{z} + a_{x} b_{z} + a_{z} b_{x} - b_{x} b_{z}\\right)}{\\left(a_{x}^{2} - 2 a_{x} b_{x} + a_{y}^{2} - 2 a_{y} b_{y} + a_{z}^{2} - 2 a_{z} b_{z} + b_{x}^{2} + b_{y}^{2} + b_{z}^{2}\\right)^{\\frac{3}{2}}} & \\frac{2 d_{max} \\left(- a_{y} a_{z} + a_{y} b_{z} + a_{z} b_{y} - b_{y} b_{z}\\right)}{\\left(a_{x}^{2} - 2 a_{x} b_{x} + a_{y}^{2} - 2 a_{y} b_{y} + a_{z}^{2} - 2 a_{z} b_{z} + b_{x}^{2} + b_{y}^{2} + b_{z}^{2}\\right)^{\\frac{3}{2}}} & - \\frac{2 d_{max} \\left(a_{z} - b_{z}\\right)^{2}}{\\left(\\left(a_{x} - b_{x}\\right)^{2} + \\left(a_{y} - b_{y}\\right)^{2} + \\left(a_{z} - b_{z}\\right)^{2}\\right)^{\\frac{3}{2}}} + \\frac{2 d_{max}}{\\sqrt{\\left(a_{x} - b_{x}\\right)^{2} + \\left(a_{y} - b_{y}\\right)^{2} + \\left(a_{z} - b_{z}\\right)^{2}}} - 2 & 0\\\\0 & 0 & 0 & 0 & 0 & 0 & 0 & 0 & 0\\\\0 & 0 & 0 & 0 & 0 & 0 & 0 & 0 & 0\\\\- \\frac{2 d_{max} \\left(a_{x} - b_{x}\\right)^{2}}{\\left(\\left(a_{x} - b_{x}\\right)^{2} + \\left(a_{y} - b_{y}\\right)^{2} + \\left(a_{z} - b_{z}\\right)^{2}\\right)^{\\frac{3}{2}}} + \\frac{2 d_{max}}{\\sqrt{\\left(a_{x} - b_{x}\\right)^{2} + \\left(a_{y} - b_{y}\\right)^{2} + \\left(a_{z} - b_{z}\\right)^{2}}} - 2 & \\frac{2 d_{max} \\left(- a_{x} a_{y} + a_{x} b_{y} + a_{y} b_{x} - b_{x} b_{y}\\right)}{\\left(a_{x}^{2} - 2 a_{x} b_{x} + a_{y}^{2} - 2 a_{y} b_{y} + a_{z}^{2} - 2 a_{z} b_{z} + b_{x}^{2} + b_{y}^{2} + b_{z}^{2}\\right)^{\\frac{3}{2}}} & \\frac{2 d_{max} \\left(- a_{x} a_{z} + a_{x} b_{z} + a_{z} b_{x} - b_{x} b_{z}\\right)}{\\left(a_{x}^{2} - 2 a_{x} b_{x} + a_{y}^{2} - 2 a_{y} b_{y} + a_{z}^{2} - 2 a_{z} b_{z} + b_{x}^{2} + b_{y}^{2} + b_{z}^{2}\\right)^{\\frac{3}{2}}} & 0 & 0 & \\frac{2 d_{max} \\left(a_{x} - b_{x}\\right)^{2}}{\\left(\\left(a_{x} - b_{x}\\right)^{2} + \\left(a_{y} - b_{y}\\right)^{2} + \\left(a_{z} - b_{z}\\right)^{2}\\right)^{\\frac{3}{2}}} - \\frac{2 d_{max}}{\\sqrt{\\left(a_{x} - b_{x}\\right)^{2} + \\left(a_{y} - b_{y}\\right)^{2} + \\left(a_{z} - b_{z}\\right)^{2}}} + 2 & \\frac{2 d_{max} \\left(a_{x} a_{y} - a_{x} b_{y} - a_{y} b_{x} + b_{x} b_{y}\\right)}{\\left(a_{x}^{2} - 2 a_{x} b_{x} + a_{y}^{2} - 2 a_{y} b_{y} + a_{z}^{2} - 2 a_{z} b_{z} + b_{x}^{2} + b_{y}^{2} + b_{z}^{2}\\right)^{\\frac{3}{2}}} & \\frac{2 d_{max} \\left(a_{x} a_{z} - a_{x} b_{z} - a_{z} b_{x} + b_{x} b_{z}\\right)}{\\left(a_{x}^{2} - 2 a_{x} b_{x} + a_{y}^{2} - 2 a_{y} b_{y} + a_{z}^{2} - 2 a_{z} b_{z} + b_{x}^{2} + b_{y}^{2} + b_{z}^{2}\\right)^{\\frac{3}{2}}} & 0\\\\\\frac{2 d_{max} \\left(- a_{x} a_{y} + a_{x} b_{y} + a_{y} b_{x} - b_{x} b_{y}\\right)}{\\left(a_{x}^{2} - 2 a_{x} b_{x} + a_{y}^{2} - 2 a_{y} b_{y} + a_{z}^{2} - 2 a_{z} b_{z} + b_{x}^{2} + b_{y}^{2} + b_{z}^{2}\\right)^{\\frac{3}{2}}} & - \\frac{2 d_{max} \\left(a_{y} - b_{y}\\right)^{2}}{\\left(\\left(a_{x} - b_{x}\\right)^{2} + \\left(a_{y} - b_{y}\\right)^{2} + \\left(a_{z} - b_{z}\\right)^{2}\\right)^{\\frac{3}{2}}} + \\frac{2 d_{max}}{\\sqrt{\\left(a_{x} - b_{x}\\right)^{2} + \\left(a_{y} - b_{y}\\right)^{2} + \\left(a_{z} - b_{z}\\right)^{2}}} - 2 & \\frac{2 d_{max} \\left(- a_{y} a_{z} + a_{y} b_{z} + a_{z} b_{y} - b_{y} b_{z}\\right)}{\\left(a_{x}^{2} - 2 a_{x} b_{x} + a_{y}^{2} - 2 a_{y} b_{y} + a_{z}^{2} - 2 a_{z} b_{z} + b_{x}^{2} + b_{y}^{2} + b_{z}^{2}\\right)^{\\frac{3}{2}}} & 0 & 0 & \\frac{2 d_{max} \\left(a_{x} a_{y} - a_{x} b_{y} - a_{y} b_{x} + b_{x} b_{y}\\right)}{\\left(a_{x}^{2} - 2 a_{x} b_{x} + a_{y}^{2} - 2 a_{y} b_{y} + a_{z}^{2} - 2 a_{z} b_{z} + b_{x}^{2} + b_{y}^{2} + b_{z}^{2}\\right)^{\\frac{3}{2}}} & \\frac{2 d_{max} \\left(a_{y} - b_{y}\\right)^{2}}{\\left(\\left(a_{x} - b_{x}\\right)^{2} + \\left(a_{y} - b_{y}\\right)^{2} + \\left(a_{z} - b_{z}\\right)^{2}\\right)^{\\frac{3}{2}}} - \\frac{2 d_{max}}{\\sqrt{\\left(a_{x} - b_{x}\\right)^{2} + \\left(a_{y} - b_{y}\\right)^{2} + \\left(a_{z} - b_{z}\\right)^{2}}} + 2 & \\frac{2 d_{max} \\left(a_{y} a_{z} - a_{y} b_{z} - a_{z} b_{y} + b_{y} b_{z}\\right)}{\\left(a_{x}^{2} - 2 a_{x} b_{x} + a_{y}^{2} - 2 a_{y} b_{y} + a_{z}^{2} - 2 a_{z} b_{z} + b_{x}^{2} + b_{y}^{2} + b_{z}^{2}\\right)^{\\frac{3}{2}}} & 0\\\\\\frac{2 d_{max} \\left(- a_{x} a_{z} + a_{x} b_{z} + a_{z} b_{x} - b_{x} b_{z}\\right)}{\\left(a_{x}^{2} - 2 a_{x} b_{x} + a_{y}^{2} - 2 a_{y} b_{y} + a_{z}^{2} - 2 a_{z} b_{z} + b_{x}^{2} + b_{y}^{2} + b_{z}^{2}\\right)^{\\frac{3}{2}}} & \\frac{2 d_{max} \\left(- a_{y} a_{z} + a_{y} b_{z} + a_{z} b_{y} - b_{y} b_{z}\\right)}{\\left(a_{x}^{2} - 2 a_{x} b_{x} + a_{y}^{2} - 2 a_{y} b_{y} + a_{z}^{2} - 2 a_{z} b_{z} + b_{x}^{2} + b_{y}^{2} + b_{z}^{2}\\right)^{\\frac{3}{2}}} & - \\frac{2 d_{max} \\left(a_{z} - b_{z}\\right)^{2}}{\\left(\\left(a_{x} - b_{x}\\right)^{2} + \\left(a_{y} - b_{y}\\right)^{2} + \\left(a_{z} - b_{z}\\right)^{2}\\right)^{\\frac{3}{2}}} + \\frac{2 d_{max}}{\\sqrt{\\left(a_{x} - b_{x}\\right)^{2} + \\left(a_{y} - b_{y}\\right)^{2} + \\left(a_{z} - b_{z}\\right)^{2}}} - 2 & 0 & 0 & \\frac{2 d_{max} \\left(a_{x} a_{z} - a_{x} b_{z} - a_{z} b_{x} + b_{x} b_{z}\\right)}{\\left(a_{x}^{2} - 2 a_{x} b_{x} + a_{y}^{2} - 2 a_{y} b_{y} + a_{z}^{2} - 2 a_{z} b_{z} + b_{x}^{2} + b_{y}^{2} + b_{z}^{2}\\right)^{\\frac{3}{2}}} & \\frac{2 d_{max} \\left(a_{y} a_{z} - a_{y} b_{z} - a_{z} b_{y} + b_{y} b_{z}\\right)}{\\left(a_{x}^{2} - 2 a_{x} b_{x} + a_{y}^{2} - 2 a_{y} b_{y} + a_{z}^{2} - 2 a_{z} b_{z} + b_{x}^{2} + b_{y}^{2} + b_{z}^{2}\\right)^{\\frac{3}{2}}} & \\frac{2 d_{max} \\left(a_{z} - b_{z}\\right)^{2}}{\\left(\\left(a_{x} - b_{x}\\right)^{2} + \\left(a_{y} - b_{y}\\right)^{2} + \\left(a_{z} - b_{z}\\right)^{2}\\right)^{\\frac{3}{2}}} - \\frac{2 d_{max}}{\\sqrt{\\left(a_{x} - b_{x}\\right)^{2} + \\left(a_{y} - b_{y}\\right)^{2} + \\left(a_{z} - b_{z}\\right)^{2}}} + 2 & 0\\\\0 & 0 & 0 & 0 & 0 & 0 & 0 & 0 & 0\\end{matrix}\\right]$"
      ],
      "text/plain": [
       "Matrix([\n",
       "[ 2*d_{max}*(a_x - b_x)**2/((a_x - b_x)**2 + (a_y - b_y)**2 + (a_z - b_z)**2)**(3/2) - 2*d_{max}/sqrt((a_x - b_x)**2 + (a_y - b_y)**2 + (a_z - b_z)**2) + 2,         2*d_{max}*(a_x*a_y - a_x*b_y - a_y*b_x + b_x*b_y)/(a_x**2 - 2*a_x*b_x + a_y**2 - 2*a_y*b_y + a_z**2 - 2*a_z*b_z + b_x**2 + b_y**2 + b_z**2)**(3/2),         2*d_{max}*(a_x*a_z - a_x*b_z - a_z*b_x + b_x*b_z)/(a_x**2 - 2*a_x*b_x + a_y**2 - 2*a_y*b_y + a_z**2 - 2*a_z*b_z + b_x**2 + b_y**2 + b_z**2)**(3/2), 0, 0, -2*d_{max}*(a_x - b_x)**2/((a_x - b_x)**2 + (a_y - b_y)**2 + (a_z - b_z)**2)**(3/2) + 2*d_{max}/sqrt((a_x - b_x)**2 + (a_y - b_y)**2 + (a_z - b_z)**2) - 2,        2*d_{max}*(-a_x*a_y + a_x*b_y + a_y*b_x - b_x*b_y)/(a_x**2 - 2*a_x*b_x + a_y**2 - 2*a_y*b_y + a_z**2 - 2*a_z*b_z + b_x**2 + b_y**2 + b_z**2)**(3/2),        2*d_{max}*(-a_x*a_z + a_x*b_z + a_z*b_x - b_x*b_z)/(a_x**2 - 2*a_x*b_x + a_y**2 - 2*a_y*b_y + a_z**2 - 2*a_z*b_z + b_x**2 + b_y**2 + b_z**2)**(3/2), 0],\n",
       "[        2*d_{max}*(a_x*a_y - a_x*b_y - a_y*b_x + b_x*b_y)/(a_x**2 - 2*a_x*b_x + a_y**2 - 2*a_y*b_y + a_z**2 - 2*a_z*b_z + b_x**2 + b_y**2 + b_z**2)**(3/2),  2*d_{max}*(a_y - b_y)**2/((a_x - b_x)**2 + (a_y - b_y)**2 + (a_z - b_z)**2)**(3/2) - 2*d_{max}/sqrt((a_x - b_x)**2 + (a_y - b_y)**2 + (a_z - b_z)**2) + 2,         2*d_{max}*(a_y*a_z - a_y*b_z - a_z*b_y + b_y*b_z)/(a_x**2 - 2*a_x*b_x + a_y**2 - 2*a_y*b_y + a_z**2 - 2*a_z*b_z + b_x**2 + b_y**2 + b_z**2)**(3/2), 0, 0,        2*d_{max}*(-a_x*a_y + a_x*b_y + a_y*b_x - b_x*b_y)/(a_x**2 - 2*a_x*b_x + a_y**2 - 2*a_y*b_y + a_z**2 - 2*a_z*b_z + b_x**2 + b_y**2 + b_z**2)**(3/2), -2*d_{max}*(a_y - b_y)**2/((a_x - b_x)**2 + (a_y - b_y)**2 + (a_z - b_z)**2)**(3/2) + 2*d_{max}/sqrt((a_x - b_x)**2 + (a_y - b_y)**2 + (a_z - b_z)**2) - 2,        2*d_{max}*(-a_y*a_z + a_y*b_z + a_z*b_y - b_y*b_z)/(a_x**2 - 2*a_x*b_x + a_y**2 - 2*a_y*b_y + a_z**2 - 2*a_z*b_z + b_x**2 + b_y**2 + b_z**2)**(3/2), 0],\n",
       "[        2*d_{max}*(a_x*a_z - a_x*b_z - a_z*b_x + b_x*b_z)/(a_x**2 - 2*a_x*b_x + a_y**2 - 2*a_y*b_y + a_z**2 - 2*a_z*b_z + b_x**2 + b_y**2 + b_z**2)**(3/2),         2*d_{max}*(a_y*a_z - a_y*b_z - a_z*b_y + b_y*b_z)/(a_x**2 - 2*a_x*b_x + a_y**2 - 2*a_y*b_y + a_z**2 - 2*a_z*b_z + b_x**2 + b_y**2 + b_z**2)**(3/2),  2*d_{max}*(a_z - b_z)**2/((a_x - b_x)**2 + (a_y - b_y)**2 + (a_z - b_z)**2)**(3/2) - 2*d_{max}/sqrt((a_x - b_x)**2 + (a_y - b_y)**2 + (a_z - b_z)**2) + 2, 0, 0,        2*d_{max}*(-a_x*a_z + a_x*b_z + a_z*b_x - b_x*b_z)/(a_x**2 - 2*a_x*b_x + a_y**2 - 2*a_y*b_y + a_z**2 - 2*a_z*b_z + b_x**2 + b_y**2 + b_z**2)**(3/2),        2*d_{max}*(-a_y*a_z + a_y*b_z + a_z*b_y - b_y*b_z)/(a_x**2 - 2*a_x*b_x + a_y**2 - 2*a_y*b_y + a_z**2 - 2*a_z*b_z + b_x**2 + b_y**2 + b_z**2)**(3/2), -2*d_{max}*(a_z - b_z)**2/((a_x - b_x)**2 + (a_y - b_y)**2 + (a_z - b_z)**2)**(3/2) + 2*d_{max}/sqrt((a_x - b_x)**2 + (a_y - b_y)**2 + (a_z - b_z)**2) - 2, 0],\n",
       "[                                                                                                                                                         0,                                                                                                                                                          0,                                                                                                                                                          0, 0, 0,                                                                                                                                                          0,                                                                                                                                                          0,                                                                                                                                                          0, 0],\n",
       "[                                                                                                                                                         0,                                                                                                                                                          0,                                                                                                                                                          0, 0, 0,                                                                                                                                                          0,                                                                                                                                                          0,                                                                                                                                                          0, 0],\n",
       "[-2*d_{max}*(a_x - b_x)**2/((a_x - b_x)**2 + (a_y - b_y)**2 + (a_z - b_z)**2)**(3/2) + 2*d_{max}/sqrt((a_x - b_x)**2 + (a_y - b_y)**2 + (a_z - b_z)**2) - 2,        2*d_{max}*(-a_x*a_y + a_x*b_y + a_y*b_x - b_x*b_y)/(a_x**2 - 2*a_x*b_x + a_y**2 - 2*a_y*b_y + a_z**2 - 2*a_z*b_z + b_x**2 + b_y**2 + b_z**2)**(3/2),        2*d_{max}*(-a_x*a_z + a_x*b_z + a_z*b_x - b_x*b_z)/(a_x**2 - 2*a_x*b_x + a_y**2 - 2*a_y*b_y + a_z**2 - 2*a_z*b_z + b_x**2 + b_y**2 + b_z**2)**(3/2), 0, 0,  2*d_{max}*(a_x - b_x)**2/((a_x - b_x)**2 + (a_y - b_y)**2 + (a_z - b_z)**2)**(3/2) - 2*d_{max}/sqrt((a_x - b_x)**2 + (a_y - b_y)**2 + (a_z - b_z)**2) + 2,         2*d_{max}*(a_x*a_y - a_x*b_y - a_y*b_x + b_x*b_y)/(a_x**2 - 2*a_x*b_x + a_y**2 - 2*a_y*b_y + a_z**2 - 2*a_z*b_z + b_x**2 + b_y**2 + b_z**2)**(3/2),         2*d_{max}*(a_x*a_z - a_x*b_z - a_z*b_x + b_x*b_z)/(a_x**2 - 2*a_x*b_x + a_y**2 - 2*a_y*b_y + a_z**2 - 2*a_z*b_z + b_x**2 + b_y**2 + b_z**2)**(3/2), 0],\n",
       "[       2*d_{max}*(-a_x*a_y + a_x*b_y + a_y*b_x - b_x*b_y)/(a_x**2 - 2*a_x*b_x + a_y**2 - 2*a_y*b_y + a_z**2 - 2*a_z*b_z + b_x**2 + b_y**2 + b_z**2)**(3/2), -2*d_{max}*(a_y - b_y)**2/((a_x - b_x)**2 + (a_y - b_y)**2 + (a_z - b_z)**2)**(3/2) + 2*d_{max}/sqrt((a_x - b_x)**2 + (a_y - b_y)**2 + (a_z - b_z)**2) - 2,        2*d_{max}*(-a_y*a_z + a_y*b_z + a_z*b_y - b_y*b_z)/(a_x**2 - 2*a_x*b_x + a_y**2 - 2*a_y*b_y + a_z**2 - 2*a_z*b_z + b_x**2 + b_y**2 + b_z**2)**(3/2), 0, 0,         2*d_{max}*(a_x*a_y - a_x*b_y - a_y*b_x + b_x*b_y)/(a_x**2 - 2*a_x*b_x + a_y**2 - 2*a_y*b_y + a_z**2 - 2*a_z*b_z + b_x**2 + b_y**2 + b_z**2)**(3/2),  2*d_{max}*(a_y - b_y)**2/((a_x - b_x)**2 + (a_y - b_y)**2 + (a_z - b_z)**2)**(3/2) - 2*d_{max}/sqrt((a_x - b_x)**2 + (a_y - b_y)**2 + (a_z - b_z)**2) + 2,         2*d_{max}*(a_y*a_z - a_y*b_z - a_z*b_y + b_y*b_z)/(a_x**2 - 2*a_x*b_x + a_y**2 - 2*a_y*b_y + a_z**2 - 2*a_z*b_z + b_x**2 + b_y**2 + b_z**2)**(3/2), 0],\n",
       "[       2*d_{max}*(-a_x*a_z + a_x*b_z + a_z*b_x - b_x*b_z)/(a_x**2 - 2*a_x*b_x + a_y**2 - 2*a_y*b_y + a_z**2 - 2*a_z*b_z + b_x**2 + b_y**2 + b_z**2)**(3/2),        2*d_{max}*(-a_y*a_z + a_y*b_z + a_z*b_y - b_y*b_z)/(a_x**2 - 2*a_x*b_x + a_y**2 - 2*a_y*b_y + a_z**2 - 2*a_z*b_z + b_x**2 + b_y**2 + b_z**2)**(3/2), -2*d_{max}*(a_z - b_z)**2/((a_x - b_x)**2 + (a_y - b_y)**2 + (a_z - b_z)**2)**(3/2) + 2*d_{max}/sqrt((a_x - b_x)**2 + (a_y - b_y)**2 + (a_z - b_z)**2) - 2, 0, 0,         2*d_{max}*(a_x*a_z - a_x*b_z - a_z*b_x + b_x*b_z)/(a_x**2 - 2*a_x*b_x + a_y**2 - 2*a_y*b_y + a_z**2 - 2*a_z*b_z + b_x**2 + b_y**2 + b_z**2)**(3/2),         2*d_{max}*(a_y*a_z - a_y*b_z - a_z*b_y + b_y*b_z)/(a_x**2 - 2*a_x*b_x + a_y**2 - 2*a_y*b_y + a_z**2 - 2*a_z*b_z + b_x**2 + b_y**2 + b_z**2)**(3/2),  2*d_{max}*(a_z - b_z)**2/((a_x - b_x)**2 + (a_y - b_y)**2 + (a_z - b_z)**2)**(3/2) - 2*d_{max}/sqrt((a_x - b_x)**2 + (a_y - b_y)**2 + (a_z - b_z)**2) + 2, 0],\n",
       "[                                                                                                                                                         0,                                                                                                                                                          0,                                                                                                                                                          0, 0, 0,                                                                                                                                                          0,                                                                                                                                                          0,                                                                                                                                                          0, 0]])"
      ]
     },
     "execution_count": 51,
     "metadata": {},
     "output_type": "execute_result"
    }
   ],
   "source": [
    "L_xx.simplify()\n",
    "L_xx"
   ]
  },
  {
   "cell_type": "code",
   "execution_count": 78,
   "id": "7c90699a-e641-447b-9288-b23476649c11",
   "metadata": {},
   "outputs": [
    {
     "data": {
      "text/latex": [
       "$\\displaystyle \\frac{2 d_{max} \\left(a_{x} - b_{x}\\right) \\left(a_{z} - b_{z}\\right)}{\\left(a_{x}^{2} - 2 a_{x} b_{x} + a_{y}^{2} - 2 a_{y} b_{y} + a_{z}^{2} - 2 a_{z} b_{z} + b_{x}^{2} + b_{y}^{2} + b_{z}^{2}\\right)^{\\frac{3}{2}}}$"
      ],
      "text/plain": [
       "2*d_{max}*(a_x - b_x)*(a_z - b_z)/(a_x**2 - 2*a_x*b_x + a_y**2 - 2*a_y*b_y + a_z**2 - 2*a_z*b_z + b_x**2 + b_y**2 + b_z**2)**(3/2)"
      ]
     },
     "execution_count": 78,
     "metadata": {},
     "output_type": "execute_result"
    }
   ],
   "source": [
    "L_xx[2, 0].factor()"
   ]
  },
  {
   "cell_type": "code",
   "execution_count": 67,
   "id": "98f1bc3c-ec82-4fc3-96f7-b9af15e37c81",
   "metadata": {},
   "outputs": [
    {
     "data": {
      "text/latex": [
       "$\\displaystyle \\frac{2 d_{max} \\left(a_{x} - b_{x}\\right) \\left(a_{y} - b_{y}\\right)}{\\left(a_{x}^{2} - 2 a_{x} b_{x} + a_{y}^{2} - 2 a_{y} b_{y} + b_{x}^{2} + b_{y}^{2}\\right)^{\\frac{3}{2}}}$"
      ],
      "text/plain": [
       "2*d_{max}*(a_x - b_x)*(a_y - b_y)/(a_x**2 - 2*a_x*b_x + a_y**2 - 2*a_y*b_y + b_x**2 + b_y**2)**(3/2)"
      ]
     },
     "execution_count": 67,
     "metadata": {},
     "output_type": "execute_result"
    }
   ],
   "source": [
    "L_xx2[1, 0].factor()"
   ]
  },
  {
   "cell_type": "code",
   "execution_count": 52,
   "id": "a881faba-8a2d-4c16-b339-a3bf487515ab",
   "metadata": {},
   "outputs": [
    {
     "data": {
      "text/latex": [
       "$\\displaystyle \\left[\\begin{matrix}\\frac{2 d_{max} \\left(a_{x} - b_{x}\\right)^{2}}{\\left(\\left(a_{x} - b_{x}\\right)^{2} + \\left(a_{y} - b_{y}\\right)^{2}\\right)^{\\frac{3}{2}}} - \\frac{2 d_{max}}{\\sqrt{\\left(a_{x} - b_{x}\\right)^{2} + \\left(a_{y} - b_{y}\\right)^{2}}} + 2 & \\frac{2 d_{max} \\left(a_{x} a_{y} - a_{x} b_{y} - a_{y} b_{x} + b_{x} b_{y}\\right)}{\\left(a_{x}^{2} - 2 a_{x} b_{x} + a_{y}^{2} - 2 a_{y} b_{y} + b_{x}^{2} + b_{y}^{2}\\right)^{\\frac{3}{2}}} & 0 & 0 & 0 & - \\frac{2 d_{max} \\left(a_{x} - b_{x}\\right)^{2}}{\\left(\\left(a_{x} - b_{x}\\right)^{2} + \\left(a_{y} - b_{y}\\right)^{2}\\right)^{\\frac{3}{2}}} + \\frac{2 d_{max}}{\\sqrt{\\left(a_{x} - b_{x}\\right)^{2} + \\left(a_{y} - b_{y}\\right)^{2}}} - 2 & \\frac{2 d_{max} \\left(- a_{x} a_{y} + a_{x} b_{y} + a_{y} b_{x} - b_{x} b_{y}\\right)}{\\left(a_{x}^{2} - 2 a_{x} b_{x} + a_{y}^{2} - 2 a_{y} b_{y} + b_{x}^{2} + b_{y}^{2}\\right)^{\\frac{3}{2}}} & 0 & 0\\\\\\frac{2 d_{max} \\left(a_{x} a_{y} - a_{x} b_{y} - a_{y} b_{x} + b_{x} b_{y}\\right)}{\\left(a_{x}^{2} - 2 a_{x} b_{x} + a_{y}^{2} - 2 a_{y} b_{y} + b_{x}^{2} + b_{y}^{2}\\right)^{\\frac{3}{2}}} & \\frac{2 d_{max} \\left(a_{y} - b_{y}\\right)^{2}}{\\left(\\left(a_{x} - b_{x}\\right)^{2} + \\left(a_{y} - b_{y}\\right)^{2}\\right)^{\\frac{3}{2}}} - \\frac{2 d_{max}}{\\sqrt{\\left(a_{x} - b_{x}\\right)^{2} + \\left(a_{y} - b_{y}\\right)^{2}}} + 2 & 0 & 0 & 0 & \\frac{2 d_{max} \\left(- a_{x} a_{y} + a_{x} b_{y} + a_{y} b_{x} - b_{x} b_{y}\\right)}{\\left(a_{x}^{2} - 2 a_{x} b_{x} + a_{y}^{2} - 2 a_{y} b_{y} + b_{x}^{2} + b_{y}^{2}\\right)^{\\frac{3}{2}}} & - \\frac{2 d_{max} \\left(a_{y} - b_{y}\\right)^{2}}{\\left(\\left(a_{x} - b_{x}\\right)^{2} + \\left(a_{y} - b_{y}\\right)^{2}\\right)^{\\frac{3}{2}}} + \\frac{2 d_{max}}{\\sqrt{\\left(a_{x} - b_{x}\\right)^{2} + \\left(a_{y} - b_{y}\\right)^{2}}} - 2 & 0 & 0\\\\0 & 0 & 0 & 0 & 0 & 0 & 0 & 0 & 0\\\\0 & 0 & 0 & 0 & 0 & 0 & 0 & 0 & 0\\\\0 & 0 & 0 & 0 & 0 & 0 & 0 & 0 & 0\\\\- \\frac{2 d_{max} \\left(a_{x} - b_{x}\\right)^{2}}{\\left(\\left(a_{x} - b_{x}\\right)^{2} + \\left(a_{y} - b_{y}\\right)^{2}\\right)^{\\frac{3}{2}}} + \\frac{2 d_{max}}{\\sqrt{\\left(a_{x} - b_{x}\\right)^{2} + \\left(a_{y} - b_{y}\\right)^{2}}} - 2 & \\frac{2 d_{max} \\left(- a_{x} a_{y} + a_{x} b_{y} + a_{y} b_{x} - b_{x} b_{y}\\right)}{\\left(a_{x}^{2} - 2 a_{x} b_{x} + a_{y}^{2} - 2 a_{y} b_{y} + b_{x}^{2} + b_{y}^{2}\\right)^{\\frac{3}{2}}} & 0 & 0 & 0 & \\frac{2 d_{max} \\left(a_{x} - b_{x}\\right)^{2}}{\\left(\\left(a_{x} - b_{x}\\right)^{2} + \\left(a_{y} - b_{y}\\right)^{2}\\right)^{\\frac{3}{2}}} - \\frac{2 d_{max}}{\\sqrt{\\left(a_{x} - b_{x}\\right)^{2} + \\left(a_{y} - b_{y}\\right)^{2}}} + 2 & \\frac{2 d_{max} \\left(a_{x} a_{y} - a_{x} b_{y} - a_{y} b_{x} + b_{x} b_{y}\\right)}{\\left(a_{x}^{2} - 2 a_{x} b_{x} + a_{y}^{2} - 2 a_{y} b_{y} + b_{x}^{2} + b_{y}^{2}\\right)^{\\frac{3}{2}}} & 0 & 0\\\\\\frac{2 d_{max} \\left(- a_{x} a_{y} + a_{x} b_{y} + a_{y} b_{x} - b_{x} b_{y}\\right)}{\\left(a_{x}^{2} - 2 a_{x} b_{x} + a_{y}^{2} - 2 a_{y} b_{y} + b_{x}^{2} + b_{y}^{2}\\right)^{\\frac{3}{2}}} & - \\frac{2 d_{max} \\left(a_{y} - b_{y}\\right)^{2}}{\\left(\\left(a_{x} - b_{x}\\right)^{2} + \\left(a_{y} - b_{y}\\right)^{2}\\right)^{\\frac{3}{2}}} + \\frac{2 d_{max}}{\\sqrt{\\left(a_{x} - b_{x}\\right)^{2} + \\left(a_{y} - b_{y}\\right)^{2}}} - 2 & 0 & 0 & 0 & \\frac{2 d_{max} \\left(a_{x} a_{y} - a_{x} b_{y} - a_{y} b_{x} + b_{x} b_{y}\\right)}{\\left(a_{x}^{2} - 2 a_{x} b_{x} + a_{y}^{2} - 2 a_{y} b_{y} + b_{x}^{2} + b_{y}^{2}\\right)^{\\frac{3}{2}}} & \\frac{2 d_{max} \\left(a_{y} - b_{y}\\right)^{2}}{\\left(\\left(a_{x} - b_{x}\\right)^{2} + \\left(a_{y} - b_{y}\\right)^{2}\\right)^{\\frac{3}{2}}} - \\frac{2 d_{max}}{\\sqrt{\\left(a_{x} - b_{x}\\right)^{2} + \\left(a_{y} - b_{y}\\right)^{2}}} + 2 & 0 & 0\\\\0 & 0 & 0 & 0 & 0 & 0 & 0 & 0 & 0\\\\0 & 0 & 0 & 0 & 0 & 0 & 0 & 0 & 0\\end{matrix}\\right]$"
      ],
      "text/plain": [
       "Matrix([\n",
       "[ 2*d_{max}*(a_x - b_x)**2/((a_x - b_x)**2 + (a_y - b_y)**2)**(3/2) - 2*d_{max}/sqrt((a_x - b_x)**2 + (a_y - b_y)**2) + 2,     2*d_{max}*(a_x*a_y - a_x*b_y - a_y*b_x + b_x*b_y)/(a_x**2 - 2*a_x*b_x + a_y**2 - 2*a_y*b_y + b_x**2 + b_y**2)**(3/2), 0, 0, 0, -2*d_{max}*(a_x - b_x)**2/((a_x - b_x)**2 + (a_y - b_y)**2)**(3/2) + 2*d_{max}/sqrt((a_x - b_x)**2 + (a_y - b_y)**2) - 2,    2*d_{max}*(-a_x*a_y + a_x*b_y + a_y*b_x - b_x*b_y)/(a_x**2 - 2*a_x*b_x + a_y**2 - 2*a_y*b_y + b_x**2 + b_y**2)**(3/2), 0, 0],\n",
       "[    2*d_{max}*(a_x*a_y - a_x*b_y - a_y*b_x + b_x*b_y)/(a_x**2 - 2*a_x*b_x + a_y**2 - 2*a_y*b_y + b_x**2 + b_y**2)**(3/2),  2*d_{max}*(a_y - b_y)**2/((a_x - b_x)**2 + (a_y - b_y)**2)**(3/2) - 2*d_{max}/sqrt((a_x - b_x)**2 + (a_y - b_y)**2) + 2, 0, 0, 0,    2*d_{max}*(-a_x*a_y + a_x*b_y + a_y*b_x - b_x*b_y)/(a_x**2 - 2*a_x*b_x + a_y**2 - 2*a_y*b_y + b_x**2 + b_y**2)**(3/2), -2*d_{max}*(a_y - b_y)**2/((a_x - b_x)**2 + (a_y - b_y)**2)**(3/2) + 2*d_{max}/sqrt((a_x - b_x)**2 + (a_y - b_y)**2) - 2, 0, 0],\n",
       "[                                                                                                                       0,                                                                                                                        0, 0, 0, 0,                                                                                                                        0,                                                                                                                        0, 0, 0],\n",
       "[                                                                                                                       0,                                                                                                                        0, 0, 0, 0,                                                                                                                        0,                                                                                                                        0, 0, 0],\n",
       "[                                                                                                                       0,                                                                                                                        0, 0, 0, 0,                                                                                                                        0,                                                                                                                        0, 0, 0],\n",
       "[-2*d_{max}*(a_x - b_x)**2/((a_x - b_x)**2 + (a_y - b_y)**2)**(3/2) + 2*d_{max}/sqrt((a_x - b_x)**2 + (a_y - b_y)**2) - 2,    2*d_{max}*(-a_x*a_y + a_x*b_y + a_y*b_x - b_x*b_y)/(a_x**2 - 2*a_x*b_x + a_y**2 - 2*a_y*b_y + b_x**2 + b_y**2)**(3/2), 0, 0, 0,  2*d_{max}*(a_x - b_x)**2/((a_x - b_x)**2 + (a_y - b_y)**2)**(3/2) - 2*d_{max}/sqrt((a_x - b_x)**2 + (a_y - b_y)**2) + 2,     2*d_{max}*(a_x*a_y - a_x*b_y - a_y*b_x + b_x*b_y)/(a_x**2 - 2*a_x*b_x + a_y**2 - 2*a_y*b_y + b_x**2 + b_y**2)**(3/2), 0, 0],\n",
       "[   2*d_{max}*(-a_x*a_y + a_x*b_y + a_y*b_x - b_x*b_y)/(a_x**2 - 2*a_x*b_x + a_y**2 - 2*a_y*b_y + b_x**2 + b_y**2)**(3/2), -2*d_{max}*(a_y - b_y)**2/((a_x - b_x)**2 + (a_y - b_y)**2)**(3/2) + 2*d_{max}/sqrt((a_x - b_x)**2 + (a_y - b_y)**2) - 2, 0, 0, 0,     2*d_{max}*(a_x*a_y - a_x*b_y - a_y*b_x + b_x*b_y)/(a_x**2 - 2*a_x*b_x + a_y**2 - 2*a_y*b_y + b_x**2 + b_y**2)**(3/2),  2*d_{max}*(a_y - b_y)**2/((a_x - b_x)**2 + (a_y - b_y)**2)**(3/2) - 2*d_{max}/sqrt((a_x - b_x)**2 + (a_y - b_y)**2) + 2, 0, 0],\n",
       "[                                                                                                                       0,                                                                                                                        0, 0, 0, 0,                                                                                                                        0,                                                                                                                        0, 0, 0],\n",
       "[                                                                                                                       0,                                                                                                                        0, 0, 0, 0,                                                                                                                        0,                                                                                                                        0, 0, 0]])"
      ]
     },
     "execution_count": 52,
     "metadata": {},
     "output_type": "execute_result"
    }
   ],
   "source": [
    "L_xx2.simplify()\n",
    "L_xx2"
   ]
  },
  {
   "cell_type": "markdown",
   "id": "f9afb7f9-4b34-49ad-98c4-5b93ab60af97",
   "metadata": {},
   "source": [
    "### Obstacle Cost 2\n",
    "\n",
    "Same as before with linear cost from $d_{max}$ to $2 d_{max}$."
   ]
  },
  {
   "cell_type": "code",
   "execution_count": 66,
   "id": "55fbab66-00fd-42a4-8e33-7f5053edb741",
   "metadata": {},
   "outputs": [
    {
     "data": {
      "application/vnd.jupyter.widget-view+json": {
       "model_id": "de99e41e11ad4e77826dc49c12c745cb",
       "version_major": 2,
       "version_minor": 0
      },
      "text/plain": [
       "Canvas(toolbar=Toolbar(toolitems=[('Home', 'Reset original view', 'home', 'home'), ('Back', 'Back to previous …"
      ]
     },
     "metadata": {},
     "output_type": "display_data"
    },
    {
     "data": {
      "application/vnd.jupyter.widget-view+json": {
       "model_id": "65c0ed32767a46a4b12b144fd7a392e7",
       "version_major": 2,
       "version_minor": 0
      },
      "text/plain": [
       "Canvas(toolbar=Toolbar(toolitems=[('Home', 'Reset original view', 'home', 'home'), ('Back', 'Back to previous …"
      ]
     },
     "metadata": {},
     "output_type": "display_data"
    },
    {
     "data": {
      "text/plain": [
       "Text(0.5, 1.0, 'Lx')"
      ]
     },
     "execution_count": 66,
     "metadata": {},
     "output_type": "execute_result"
    }
   ],
   "source": [
    "d_max, d, gamma = sym.symbols('d_{max} d gamma', positive=True)\n",
    "L = Piecewise(\n",
    "    ((d - d_max)**2 + gamma, d <= d_max),\n",
    "    (gamma * (2 - d/d_max), (d_max <= d) & (d <= 2 * d_max)),\n",
    "    (0,  d > 2*d_max)\n",
    ")\n",
    "\n",
    "Ls = L.subs({d_max: 5, gamma: 10})\n",
    "\n",
    "sym.plot(Ls, (d, 0, 10))\n",
    "plt.title('L')\n",
    "sym.plot(Ls.diff(d), (d, 0, 10))\n",
    "plt.title('Lx')"
   ]
  },
  {
   "cell_type": "code",
   "execution_count": null,
   "id": "43677bcd-ff4d-42d8-b8f2-0e4d0be9804f",
   "metadata": {},
   "outputs": [],
   "source": []
  }
 ],
 "metadata": {
  "kernelspec": {
   "display_name": "Python 3.10.4 ('Randy')",
   "language": "python",
   "name": "python3"
  },
  "language_info": {
   "codemirror_mode": {
    "name": "ipython",
    "version": 3
   },
   "file_extension": ".py",
   "mimetype": "text/x-python",
   "name": "python",
   "nbconvert_exporter": "python",
   "pygments_lexer": "ipython3",
   "version": "3.10.4"
  },
  "vscode": {
   "interpreter": {
    "hash": "399811294a7819b7e239898a57da83318870bf6cc244d0feadb37fb854947374"
   }
  }
 },
 "nbformat": 4,
 "nbformat_minor": 5
}
